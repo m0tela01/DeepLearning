{
 "cells": [
  {
   "cell_type": "code",
   "execution_count": 33,
   "metadata": {},
   "outputs": [],
   "source": [
    "import pandas as pd\n",
    "import re\n",
    "import matplotlib.pyplot as plt\n",
    "import seaborn as sns\n",
    "import numpy as np\n",
    "sns.set_style(\"dark\")"
   ]
  },
  {
   "cell_type": "code",
   "execution_count": 2,
   "metadata": {},
   "outputs": [
    {
     "name": "stdout",
     "output_type": "stream",
     "text": [
      "Using matplotlib backend: Qt5Agg\n"
     ]
    }
   ],
   "source": [
    "%matplotlib"
   ]
  },
  {
   "cell_type": "code",
   "execution_count": 58,
   "metadata": {},
   "outputs": [],
   "source": [
    "stonksSmall = [\"AAPL\",\n",
    "               \"TSLA\",\n",
    "               \"AMZN\",\n",
    "               \"GS\",\n",
    "               \"NVDA\",\n",
    "               \"MSFT\",\n",
    "               \"GOOGL\",\n",
    "               \"IBM\"\n",
    "]"
   ]
  },
  {
   "cell_type": "code",
   "execution_count": 59,
   "metadata": {},
   "outputs": [],
   "source": [
    "stonks = [\"TSLA\",\n",
    "  \"VTI\",\n",
    "  \"VWO\",\n",
    "  \"NVDA\",\n",
    "  \"MSFT\",\n",
    "  \"IBM\",\n",
    "  \"NIO\",\n",
    "  \"V\",\n",
    "  \"SQ\",\n",
    "  \"TGT\",\n",
    "  \"GOOGL\",\n",
    "  \"AMZN\",\n",
    "  \"AMD\",\n",
    "  \"INTC\",\n",
    "  \"AAPL\",\n",
    "  \"UBER\",\n",
    "  \"BAC\",\n",
    "  \"SBUX\",\n",
    "  \"GS\",\n",
    "  \"XLK\",\n",
    "  \"XLV\",\n",
    "  \"JPM\",\n",
    "  \"MLNK\",\n",
    "  \"TCHEY\",\n",
    "  \"SFTBY\",\n",
    "  \"QCOM\",\n",
    "  \"INTU\"]"
   ]
  },
  {
   "cell_type": "markdown",
   "metadata": {},
   "source": [
    "## Entities dataset"
   ]
  },
  {
   "cell_type": "code",
   "execution_count": null,
   "metadata": {},
   "outputs": [],
   "source": [
    "entities = pd.read_csv(\"ENTITIES_36M.csv\")"
   ]
  },
  {
   "cell_type": "code",
   "execution_count": 80,
   "metadata": {},
   "outputs": [
    {
     "data": {
      "text/html": [
       "<div>\n",
       "<style scoped>\n",
       "    .dataframe tbody tr th:only-of-type {\n",
       "        vertical-align: middle;\n",
       "    }\n",
       "\n",
       "    .dataframe tbody tr th {\n",
       "        vertical-align: top;\n",
       "    }\n",
       "\n",
       "    .dataframe thead th {\n",
       "        text-align: right;\n",
       "    }\n",
       "</style>\n",
       "<table border=\"1\" class=\"dataframe\">\n",
       "  <thead>\n",
       "    <tr style=\"text-align: right;\">\n",
       "      <th></th>\n",
       "      <th>tweet_id</th>\n",
       "      <th>entity_type</th>\n",
       "      <th>text</th>\n",
       "    </tr>\n",
       "  </thead>\n",
       "  <tbody>\n",
       "    <tr>\n",
       "      <th>0</th>\n",
       "      <td>865191269030612992</td>\n",
       "      <td>url</td>\n",
       "      <td>http://ih.advfn.com/p.php?pid=nmona&amp;article=74...</td>\n",
       "    </tr>\n",
       "    <tr>\n",
       "      <th>1</th>\n",
       "      <td>865191269030612992</td>\n",
       "      <td>symbol</td>\n",
       "      <td>AMGN</td>\n",
       "    </tr>\n",
       "    <tr>\n",
       "      <th>2</th>\n",
       "      <td>865191271899570176</td>\n",
       "      <td>url</td>\n",
       "      <td>https://finance.yahoo.com/news/amgen-submits-b...</td>\n",
       "    </tr>\n",
       "    <tr>\n",
       "      <th>3</th>\n",
       "      <td>865191271899570176</td>\n",
       "      <td>hashtag</td>\n",
       "      <td>FDA</td>\n",
       "    </tr>\n",
       "    <tr>\n",
       "      <th>4</th>\n",
       "      <td>865191271899570176</td>\n",
       "      <td>hashtag</td>\n",
       "      <td>biotech</td>\n",
       "    </tr>\n",
       "  </tbody>\n",
       "</table>\n",
       "</div>"
      ],
      "text/plain": [
       "             tweet_id entity_type  \\\n",
       "0  865191269030612992         url   \n",
       "1  865191269030612992      symbol   \n",
       "2  865191271899570176         url   \n",
       "3  865191271899570176     hashtag   \n",
       "4  865191271899570176     hashtag   \n",
       "\n",
       "                                                text  \n",
       "0  http://ih.advfn.com/p.php?pid=nmona&article=74...  \n",
       "1                                               AMGN  \n",
       "2  https://finance.yahoo.com/news/amgen-submits-b...  \n",
       "3                                                FDA  \n",
       "4                                            biotech  "
      ]
     },
     "execution_count": 80,
     "metadata": {},
     "output_type": "execute_result"
    }
   ],
   "source": [
    "# entities = entities\n",
    "entities.head()"
   ]
  },
  {
   "cell_type": "code",
   "execution_count": 114,
   "metadata": {},
   "outputs": [
    {
     "name": "stdout",
     "output_type": "stream",
     "text": [
      "<class 'pandas.core.frame.DataFrame'>\n",
      "RangeIndex: 36482461 entries, 0 to 36482460\n",
      "Data columns (total 3 columns):\n",
      "tweet_id       int64\n",
      "entity_type    object\n",
      "text           object\n",
      "dtypes: int64(1), object(2)\n",
      "memory usage: 835.0+ MB\n",
      "None\n",
      "           tweet_id\n",
      "count  3.648246e+07\n",
      "mean   8.865870e+17\n",
      "std    1.255335e+16\n",
      "min    8.651913e+17\n",
      "25%    8.757115e+17\n",
      "50%    8.869405e+17\n",
      "75%    8.975999e+17\n",
      "max    9.080455e+17\n",
      "Dropped:  0 Records\n"
     ]
    }
   ],
   "source": [
    "print(entities.info())\n",
    "print(entities.describe())\n",
    "# dropRecords = entities.size\n",
    "# entities.dropna()\n",
    "# print(\"Dropped: \", str(dropRecords - entities.size), \"Records\")"
   ]
  },
  {
   "cell_type": "code",
   "execution_count": 146,
   "metadata": {},
   "outputs": [
    {
     "data": {
      "text/html": [
       "<div>\n",
       "<style scoped>\n",
       "    .dataframe tbody tr th:only-of-type {\n",
       "        vertical-align: middle;\n",
       "    }\n",
       "\n",
       "    .dataframe tbody tr th {\n",
       "        vertical-align: top;\n",
       "    }\n",
       "\n",
       "    .dataframe thead th {\n",
       "        text-align: right;\n",
       "    }\n",
       "</style>\n",
       "<table border=\"1\" class=\"dataframe\">\n",
       "  <thead>\n",
       "    <tr style=\"text-align: right;\">\n",
       "      <th></th>\n",
       "      <th>entity_type</th>\n",
       "      <th>text</th>\n",
       "    </tr>\n",
       "  </thead>\n",
       "  <tbody>\n",
       "    <tr>\n",
       "      <th>1</th>\n",
       "      <td>symbol</td>\n",
       "      <td>AMGN</td>\n",
       "    </tr>\n",
       "    <tr>\n",
       "      <th>8</th>\n",
       "      <td>symbol</td>\n",
       "      <td>AMGN</td>\n",
       "    </tr>\n",
       "    <tr>\n",
       "      <th>11</th>\n",
       "      <td>symbol</td>\n",
       "      <td>AEO</td>\n",
       "    </tr>\n",
       "    <tr>\n",
       "      <th>12</th>\n",
       "      <td>symbol</td>\n",
       "      <td>AMD</td>\n",
       "    </tr>\n",
       "    <tr>\n",
       "      <th>16</th>\n",
       "      <td>symbol</td>\n",
       "      <td>AMAT</td>\n",
       "    </tr>\n",
       "    <tr>\n",
       "      <th>...</th>\n",
       "      <td>...</td>\n",
       "      <td>...</td>\n",
       "    </tr>\n",
       "    <tr>\n",
       "      <th>36482455</th>\n",
       "      <td>symbol</td>\n",
       "      <td>TRIG</td>\n",
       "    </tr>\n",
       "    <tr>\n",
       "      <th>36482456</th>\n",
       "      <td>symbol</td>\n",
       "      <td>VRC</td>\n",
       "    </tr>\n",
       "    <tr>\n",
       "      <th>36482457</th>\n",
       "      <td>symbol</td>\n",
       "      <td>XEL</td>\n",
       "    </tr>\n",
       "    <tr>\n",
       "      <th>36482458</th>\n",
       "      <td>symbol</td>\n",
       "      <td>XVC</td>\n",
       "    </tr>\n",
       "    <tr>\n",
       "      <th>36482460</th>\n",
       "      <td>symbol</td>\n",
       "      <td>XOM</td>\n",
       "    </tr>\n",
       "  </tbody>\n",
       "</table>\n",
       "<p>19451737 rows × 2 columns</p>\n",
       "</div>"
      ],
      "text/plain": [
       "         entity_type  text\n",
       "1             symbol  AMGN\n",
       "8             symbol  AMGN\n",
       "11            symbol   AEO\n",
       "12            symbol   AMD\n",
       "16            symbol  AMAT\n",
       "...              ...   ...\n",
       "36482455      symbol  TRIG\n",
       "36482456      symbol   VRC\n",
       "36482457      symbol   XEL\n",
       "36482458      symbol   XVC\n",
       "36482460      symbol   XOM\n",
       "\n",
       "[19451737 rows x 2 columns]"
      ]
     },
     "execution_count": 146,
     "metadata": {},
     "output_type": "execute_result"
    }
   ],
   "source": [
    "entity_types = entities[[\"entity_type\", \"text\"]]\n",
    "entity_types = entity_types.loc[entities[\"entity_type\"] == \"symbol\"]\n",
    "entity_types[\"text\"] = entity_types[\"text\"].str.upper()\n",
    "entity_types"
   ]
  },
  {
   "cell_type": "code",
   "execution_count": 147,
   "metadata": {},
   "outputs": [
    {
     "data": {
      "text/plain": [
       "ERFB     21747\n",
       "ELED     15521\n",
       "CHRO     14707\n",
       "PRGE     14024\n",
       "BTC      12366\n",
       "         ...  \n",
       "UOLGY        1\n",
       "NAS          1\n",
       "VVR          1\n",
       "TW           1\n",
       "LVLEF        1\n",
       "Name: text, Length: 10204, dtype: int64"
      ]
     },
     "execution_count": 147,
     "metadata": {},
     "output_type": "execute_result"
    }
   ],
   "source": [
    "entity_types[\"text\"].iloc[:1_000_000].value_counts()#.plot.bar()\n",
    "# entity_types.plot.bar(figsize=(15,15))"
   ]
  },
  {
   "cell_type": "code",
   "execution_count": 148,
   "metadata": {},
   "outputs": [
    {
     "name": "stdout",
     "output_type": "stream",
     "text": [
      "Empty DataFrame\n",
      "Columns: [entity_type, text]\n",
      "Index: []\n",
      "96399\n"
     ]
    }
   ],
   "source": [
    "print(len(entity_types.loc[entity_types[\"text\"] == \"NVDA\"]))"
   ]
  },
  {
   "cell_type": "code",
   "execution_count": 156,
   "metadata": {},
   "outputs": [
    {
     "data": {
      "text/html": [
       "<div>\n",
       "<style scoped>\n",
       "    .dataframe tbody tr th:only-of-type {\n",
       "        vertical-align: middle;\n",
       "    }\n",
       "\n",
       "    .dataframe tbody tr th {\n",
       "        vertical-align: top;\n",
       "    }\n",
       "\n",
       "    .dataframe thead th {\n",
       "        text-align: right;\n",
       "    }\n",
       "</style>\n",
       "<table border=\"1\" class=\"dataframe\">\n",
       "  <thead>\n",
       "    <tr style=\"text-align: right;\">\n",
       "      <th></th>\n",
       "      <th>entity_type</th>\n",
       "      <th>text</th>\n",
       "    </tr>\n",
       "  </thead>\n",
       "  <tbody>\n",
       "    <tr>\n",
       "      <th>41</th>\n",
       "      <td>symbol</td>\n",
       "      <td>AAPL</td>\n",
       "    </tr>\n",
       "    <tr>\n",
       "      <th>47</th>\n",
       "      <td>symbol</td>\n",
       "      <td>AAPL</td>\n",
       "    </tr>\n",
       "    <tr>\n",
       "      <th>158</th>\n",
       "      <td>symbol</td>\n",
       "      <td>AAPL</td>\n",
       "    </tr>\n",
       "    <tr>\n",
       "      <th>180</th>\n",
       "      <td>symbol</td>\n",
       "      <td>AAPL</td>\n",
       "    </tr>\n",
       "    <tr>\n",
       "      <th>233</th>\n",
       "      <td>symbol</td>\n",
       "      <td>AAPL</td>\n",
       "    </tr>\n",
       "    <tr>\n",
       "      <th>...</th>\n",
       "      <td>...</td>\n",
       "      <td>...</td>\n",
       "    </tr>\n",
       "    <tr>\n",
       "      <th>36479749</th>\n",
       "      <td>symbol</td>\n",
       "      <td>AAPL</td>\n",
       "    </tr>\n",
       "    <tr>\n",
       "      <th>36479865</th>\n",
       "      <td>symbol</td>\n",
       "      <td>AAPL</td>\n",
       "    </tr>\n",
       "    <tr>\n",
       "      <th>36480060</th>\n",
       "      <td>symbol</td>\n",
       "      <td>AAPL</td>\n",
       "    </tr>\n",
       "    <tr>\n",
       "      <th>36480249</th>\n",
       "      <td>symbol</td>\n",
       "      <td>AAPL</td>\n",
       "    </tr>\n",
       "    <tr>\n",
       "      <th>36482011</th>\n",
       "      <td>symbol</td>\n",
       "      <td>AAPL</td>\n",
       "    </tr>\n",
       "  </tbody>\n",
       "</table>\n",
       "<p>300414 rows × 2 columns</p>\n",
       "</div>"
      ],
      "text/plain": [
       "         entity_type  text\n",
       "41            symbol  AAPL\n",
       "47            symbol  AAPL\n",
       "158           symbol  AAPL\n",
       "180           symbol  AAPL\n",
       "233           symbol  AAPL\n",
       "...              ...   ...\n",
       "36479749      symbol  AAPL\n",
       "36479865      symbol  AAPL\n",
       "36480060      symbol  AAPL\n",
       "36480249      symbol  AAPL\n",
       "36482011      symbol  AAPL\n",
       "\n",
       "[300414 rows x 2 columns]"
      ]
     },
     "execution_count": 156,
     "metadata": {},
     "output_type": "execute_result"
    }
   ],
   "source": [
    "# entity_types.loc[entity_types[\"text\"].str.match(\"aapl\", flags=re.IGNORECASE, na=False)]\n",
    "entity_types.loc[entity_types[\"text\"] == \"AAPL\"]"
   ]
  },
  {
   "cell_type": "code",
   "execution_count": null,
   "metadata": {},
   "outputs": [],
   "source": []
  },
  {
   "cell_type": "code",
   "execution_count": 166,
   "metadata": {},
   "outputs": [],
   "source": [
    "# entity_types[\"text\"].iloc[:1000].value_counts().plot.bar(figsize=(15,15))\n",
    "# entity_types[\"text\"].loc[entity_types[\"text\"].str.match(\"aapl\", flags=re.IGNORECASE,\\\n",
    "#                                                          na=False)].value_counts().plot.bar(figsize=(15,15))"
   ]
  },
  {
   "cell_type": "code",
   "execution_count": null,
   "metadata": {},
   "outputs": [],
   "source": []
  },
  {
   "cell_type": "code",
   "execution_count": 170,
   "metadata": {},
   "outputs": [
    {
     "data": {
      "text/plain": [
       "<matplotlib.axes._subplots.AxesSubplot at 0x2449c4fc648>"
      ]
     },
     "execution_count": 170,
     "metadata": {},
     "output_type": "execute_result"
    }
   ],
   "source": [
    "entity_types[\"text\"].loc[entity_types[\"text\"].isin(stonks)].value_counts().plot.bar(figsize=(15,15))"
   ]
  },
  {
   "cell_type": "code",
   "execution_count": null,
   "metadata": {},
   "outputs": [],
   "source": []
  },
  {
   "cell_type": "markdown",
   "metadata": {},
   "source": [
    "## Tweets dataset"
   ]
  },
  {
   "cell_type": "code",
   "execution_count": 51,
   "metadata": {},
   "outputs": [],
   "source": [
    "tweetsDf = pd.read_csv(\"TWEETS_9M.csv\")"
   ]
  },
  {
   "cell_type": "code",
   "execution_count": 52,
   "metadata": {},
   "outputs": [
    {
     "data": {
      "text/html": [
       "<div>\n",
       "<style scoped>\n",
       "    .dataframe tbody tr th:only-of-type {\n",
       "        vertical-align: middle;\n",
       "    }\n",
       "\n",
       "    .dataframe tbody tr th {\n",
       "        vertical-align: top;\n",
       "    }\n",
       "\n",
       "    .dataframe thead th {\n",
       "        text-align: right;\n",
       "    }\n",
       "</style>\n",
       "<table border=\"1\" class=\"dataframe\">\n",
       "  <thead>\n",
       "    <tr style=\"text-align: right;\">\n",
       "      <th></th>\n",
       "      <th>id</th>\n",
       "      <th>text</th>\n",
       "      <th>user_id</th>\n",
       "      <th>in_reply_to_status_id</th>\n",
       "      <th>in_reply_to_user_id</th>\n",
       "      <th>retweeted_status_id</th>\n",
       "      <th>retweeted_user_id</th>\n",
       "      <th>lang</th>\n",
       "      <th>source</th>\n",
       "      <th>created_at</th>\n",
       "    </tr>\n",
       "  </thead>\n",
       "  <tbody>\n",
       "    <tr>\n",
       "      <th>0</th>\n",
       "      <td>865326129644797957</td>\n",
       "      <td>RT @cruzfloresiv: To all the weak hands who so...</td>\n",
       "      <td>859451814940336128</td>\n",
       "      <td>0</td>\n",
       "      <td>0</td>\n",
       "      <td>865323140531896320</td>\n",
       "      <td>3005609114</td>\n",
       "      <td>en</td>\n",
       "      <td>&lt;a href=\"http://twitter.com/download/iphone\" r...</td>\n",
       "      <td>Thu May 18 22:00:00 +0000 2017</td>\n",
       "    </tr>\n",
       "    <tr>\n",
       "      <th>1</th>\n",
       "      <td>865326133008642049</td>\n",
       "      <td>Investors Eye Fed, But Bond ETFs Still Add Ass...</td>\n",
       "      <td>44060322</td>\n",
       "      <td>0</td>\n",
       "      <td>0</td>\n",
       "      <td>0</td>\n",
       "      <td>0</td>\n",
       "      <td>en</td>\n",
       "      <td>&lt;a href=\"https://about.twitter.com/products/tw...</td>\n",
       "      <td>Thu May 18 22:00:01 +0000 2017</td>\n",
       "    </tr>\n",
       "    <tr>\n",
       "      <th>2</th>\n",
       "      <td>865326134262681600</td>\n",
       "      <td>Sell $NLNK (Ne❑wLink Genetics Corporation) tha...</td>\n",
       "      <td>713570637306986496</td>\n",
       "      <td>0</td>\n",
       "      <td>0</td>\n",
       "      <td>0</td>\n",
       "      <td>0</td>\n",
       "      <td>en</td>\n",
       "      <td>&lt;a href=\"https://u.9999yea.rs/bots/\" rel=\"nofo...</td>\n",
       "      <td>Thu May 18 22:00:02 +0000 2017</td>\n",
       "    </tr>\n",
       "    <tr>\n",
       "      <th>3</th>\n",
       "      <td>865326134917050368</td>\n",
       "      <td>Increase: $VCO $NTES $BPT $ENIC $QIWI $JP $STX...</td>\n",
       "      <td>823239593151655936</td>\n",
       "      <td>0</td>\n",
       "      <td>0</td>\n",
       "      <td>0</td>\n",
       "      <td>0</td>\n",
       "      <td>en</td>\n",
       "      <td>&lt;a href=\"http://twitter.com\" rel=\"nofollow\"&gt;Tw...</td>\n",
       "      <td>Thu May 18 22:00:02 +0000 2017</td>\n",
       "    </tr>\n",
       "    <tr>\n",
       "      <th>4</th>\n",
       "      <td>865326135952855040</td>\n",
       "      <td>Former #FDA commissioner Califf joins Verily, ...</td>\n",
       "      <td>44367489</td>\n",
       "      <td>0</td>\n",
       "      <td>0</td>\n",
       "      <td>0</td>\n",
       "      <td>0</td>\n",
       "      <td>en</td>\n",
       "      <td>&lt;a href=\"https://about.twitter.com/products/tw...</td>\n",
       "      <td>Thu May 18 22:00:02 +0000 2017</td>\n",
       "    </tr>\n",
       "  </tbody>\n",
       "</table>\n",
       "</div>"
      ],
      "text/plain": [
       "                   id                                               text  \\\n",
       "0  865326129644797957  RT @cruzfloresiv: To all the weak hands who so...   \n",
       "1  865326133008642049  Investors Eye Fed, But Bond ETFs Still Add Ass...   \n",
       "2  865326134262681600  Sell $NLNK (Ne❑wLink Genetics Corporation) tha...   \n",
       "3  865326134917050368  Increase: $VCO $NTES $BPT $ENIC $QIWI $JP $STX...   \n",
       "4  865326135952855040  Former #FDA commissioner Califf joins Verily, ...   \n",
       "\n",
       "              user_id  in_reply_to_status_id  in_reply_to_user_id  \\\n",
       "0  859451814940336128                      0                    0   \n",
       "1            44060322                      0                    0   \n",
       "2  713570637306986496                      0                    0   \n",
       "3  823239593151655936                      0                    0   \n",
       "4            44367489                      0                    0   \n",
       "\n",
       "   retweeted_status_id  retweeted_user_id lang  \\\n",
       "0   865323140531896320         3005609114   en   \n",
       "1                    0                  0   en   \n",
       "2                    0                  0   en   \n",
       "3                    0                  0   en   \n",
       "4                    0                  0   en   \n",
       "\n",
       "                                              source  \\\n",
       "0  <a href=\"http://twitter.com/download/iphone\" r...   \n",
       "1  <a href=\"https://about.twitter.com/products/tw...   \n",
       "2  <a href=\"https://u.9999yea.rs/bots/\" rel=\"nofo...   \n",
       "3  <a href=\"http://twitter.com\" rel=\"nofollow\">Tw...   \n",
       "4  <a href=\"https://about.twitter.com/products/tw...   \n",
       "\n",
       "                       created_at  \n",
       "0  Thu May 18 22:00:00 +0000 2017  \n",
       "1  Thu May 18 22:00:01 +0000 2017  \n",
       "2  Thu May 18 22:00:02 +0000 2017  \n",
       "3  Thu May 18 22:00:02 +0000 2017  \n",
       "4  Thu May 18 22:00:02 +0000 2017  "
      ]
     },
     "execution_count": 52,
     "metadata": {},
     "output_type": "execute_result"
    }
   ],
   "source": [
    "tweetsDf.head()\n",
    "# tweetsDf.info()\n",
    "# tweetsDf.describe()"
   ]
  },
  {
   "cell_type": "code",
   "execution_count": 53,
   "metadata": {},
   "outputs": [],
   "source": [
    "# stockTweets = stockTweets.loc[entities[\"text\"] == \"symbol\"]\n",
    "# tweetsDf = tweetsDf.loc[tweetsDf[\"text\"].str.contains(\"(\\$([a-z]|[A-Z]))\\w*\", flags=re.IGNORECASE,\\\n",
    "#                                                          na=False)]#.value_counts().plot.bar(figsize=(15,15))\n",
    "# tweetsDf"
   ]
  },
  {
   "cell_type": "code",
   "execution_count": 54,
   "metadata": {},
   "outputs": [],
   "source": [
    "regexp = re.compile(r'\\$([\\w]{1,})')\n",
    "tweetsDf[\"stock\"] = [re.findall(regexp, ele.upper())[0] if regexp.search(ele) else \"none\" for ele in tweetsDf[\"text\"]]\n",
    "#                         .contains(\"(\\$([a-z]|[A-Z]))\\w+\", flags=re.IGNORECASE,\\\n",
    "#                                                          na=False) else \"none\" for ele in stockTweets[\"text\"]]"
   ]
  },
  {
   "cell_type": "code",
   "execution_count": 55,
   "metadata": {},
   "outputs": [],
   "source": [
    "stockTweets = tweetsDf[[\"stock\", \"text\", \"created_at\"]]"
   ]
  },
  {
   "cell_type": "code",
   "execution_count": 56,
   "metadata": {},
   "outputs": [
    {
     "data": {
      "text/html": [
       "<div>\n",
       "<style scoped>\n",
       "    .dataframe tbody tr th:only-of-type {\n",
       "        vertical-align: middle;\n",
       "    }\n",
       "\n",
       "    .dataframe tbody tr th {\n",
       "        vertical-align: top;\n",
       "    }\n",
       "\n",
       "    .dataframe thead th {\n",
       "        text-align: right;\n",
       "    }\n",
       "</style>\n",
       "<table border=\"1\" class=\"dataframe\">\n",
       "  <thead>\n",
       "    <tr style=\"text-align: right;\">\n",
       "      <th></th>\n",
       "      <th>stock</th>\n",
       "      <th>text</th>\n",
       "      <th>created_at</th>\n",
       "    </tr>\n",
       "  </thead>\n",
       "  <tbody>\n",
       "    <tr>\n",
       "      <th>0</th>\n",
       "      <td>LTC</td>\n",
       "      <td>RT @cruzfloresiv: To all the weak hands who so...</td>\n",
       "      <td>Thu May 18 22:00:00 +0000 2017</td>\n",
       "    </tr>\n",
       "    <tr>\n",
       "      <th>1</th>\n",
       "      <td>IEF</td>\n",
       "      <td>Investors Eye Fed, But Bond ETFs Still Add Ass...</td>\n",
       "      <td>Thu May 18 22:00:01 +0000 2017</td>\n",
       "    </tr>\n",
       "    <tr>\n",
       "      <th>2</th>\n",
       "      <td>NLNK</td>\n",
       "      <td>Sell $NLNK (Ne❑wLink Genetics Corporation) tha...</td>\n",
       "      <td>Thu May 18 22:00:02 +0000 2017</td>\n",
       "    </tr>\n",
       "    <tr>\n",
       "      <th>3</th>\n",
       "      <td>VCO</td>\n",
       "      <td>Increase: $VCO $NTES $BPT $ENIC $QIWI $JP $STX...</td>\n",
       "      <td>Thu May 18 22:00:02 +0000 2017</td>\n",
       "    </tr>\n",
       "    <tr>\n",
       "      <th>4</th>\n",
       "      <td>GOOG</td>\n",
       "      <td>Former #FDA commissioner Califf joins Verily, ...</td>\n",
       "      <td>Thu May 18 22:00:02 +0000 2017</td>\n",
       "    </tr>\n",
       "    <tr>\n",
       "      <th>...</th>\n",
       "      <td>...</td>\n",
       "      <td>...</td>\n",
       "      <td>...</td>\n",
       "    </tr>\n",
       "    <tr>\n",
       "      <th>9091534</th>\n",
       "      <td>PCYO</td>\n",
       "      <td>Contrasting Pure Cycle Corporation $PCYO &amp;amp;...</td>\n",
       "      <td>Tue Sep 12 21:59:53 +0000 2017</td>\n",
       "    </tr>\n",
       "    <tr>\n",
       "      <th>9091535</th>\n",
       "      <td>HBIO</td>\n",
       "      <td>Contrasting Harvard Bioscience $HBIO &amp;amp; Ful...</td>\n",
       "      <td>Tue Sep 12 21:59:54 +0000 2017</td>\n",
       "    </tr>\n",
       "    <tr>\n",
       "      <th>9091536</th>\n",
       "      <td>NRG</td>\n",
       "      <td>NRG Energy, Inc. $NRG Receives $21.13 Average ...</td>\n",
       "      <td>Tue Sep 12 21:59:55 +0000 2017</td>\n",
       "    </tr>\n",
       "    <tr>\n",
       "      <th>9091537</th>\n",
       "      <td>ARTH</td>\n",
       "      <td>Reviewing Arch Therapeutics $ARTH and Globus M...</td>\n",
       "      <td>Tue Sep 12 21:59:56 +0000 2017</td>\n",
       "    </tr>\n",
       "    <tr>\n",
       "      <th>9091538</th>\n",
       "      <td>JD</td>\n",
       "      <td>$JD Beginning stage of a breakout. Strong buy ...</td>\n",
       "      <td>Tue Sep 12 21:59:56 +0000 2017</td>\n",
       "    </tr>\n",
       "  </tbody>\n",
       "</table>\n",
       "<p>9091539 rows × 3 columns</p>\n",
       "</div>"
      ],
      "text/plain": [
       "        stock                                               text  \\\n",
       "0         LTC  RT @cruzfloresiv: To all the weak hands who so...   \n",
       "1         IEF  Investors Eye Fed, But Bond ETFs Still Add Ass...   \n",
       "2        NLNK  Sell $NLNK (Ne❑wLink Genetics Corporation) tha...   \n",
       "3         VCO  Increase: $VCO $NTES $BPT $ENIC $QIWI $JP $STX...   \n",
       "4        GOOG  Former #FDA commissioner Califf joins Verily, ...   \n",
       "...       ...                                                ...   \n",
       "9091534  PCYO  Contrasting Pure Cycle Corporation $PCYO &amp;...   \n",
       "9091535  HBIO  Contrasting Harvard Bioscience $HBIO &amp; Ful...   \n",
       "9091536   NRG  NRG Energy, Inc. $NRG Receives $21.13 Average ...   \n",
       "9091537  ARTH  Reviewing Arch Therapeutics $ARTH and Globus M...   \n",
       "9091538    JD  $JD Beginning stage of a breakout. Strong buy ...   \n",
       "\n",
       "                             created_at  \n",
       "0        Thu May 18 22:00:00 +0000 2017  \n",
       "1        Thu May 18 22:00:01 +0000 2017  \n",
       "2        Thu May 18 22:00:02 +0000 2017  \n",
       "3        Thu May 18 22:00:02 +0000 2017  \n",
       "4        Thu May 18 22:00:02 +0000 2017  \n",
       "...                                 ...  \n",
       "9091534  Tue Sep 12 21:59:53 +0000 2017  \n",
       "9091535  Tue Sep 12 21:59:54 +0000 2017  \n",
       "9091536  Tue Sep 12 21:59:55 +0000 2017  \n",
       "9091537  Tue Sep 12 21:59:56 +0000 2017  \n",
       "9091538  Tue Sep 12 21:59:56 +0000 2017  \n",
       "\n",
       "[9091539 rows x 3 columns]"
      ]
     },
     "execution_count": 56,
     "metadata": {},
     "output_type": "execute_result"
    }
   ],
   "source": [
    "stockTweets"
   ]
  },
  {
   "cell_type": "code",
   "execution_count": null,
   "metadata": {},
   "outputs": [],
   "source": []
  },
  {
   "cell_type": "code",
   "execution_count": 8,
   "metadata": {},
   "outputs": [],
   "source": []
  },
  {
   "cell_type": "markdown",
   "metadata": {},
   "source": [
    "### plot tweets with stock names"
   ]
  },
  {
   "cell_type": "code",
   "execution_count": 60,
   "metadata": {},
   "outputs": [
    {
     "data": {
      "text/plain": [
       "<matplotlib.axes._subplots.AxesSubplot at 0x21555dd8358>"
      ]
     },
     "execution_count": 60,
     "metadata": {},
     "output_type": "execute_result"
    }
   ],
   "source": [
    "# stockTweets[\"stock\"].loc[stockTweets[\"stock\"].isin(stonks)].value_counts().plot.bar(figsize=(15,15))\n",
    "stockTweets[\"stock\"].loc[stockTweets[\"stock\"].isin(stonksSmall)].value_counts().plot.bar(figsize=(15,15))"
   ]
  },
  {
   "cell_type": "code",
   "execution_count": null,
   "metadata": {},
   "outputs": [],
   "source": []
  },
  {
   "cell_type": "code",
   "execution_count": 61,
   "metadata": {},
   "outputs": [
    {
     "data": {
      "text/html": [
       "<div>\n",
       "<style scoped>\n",
       "    .dataframe tbody tr th:only-of-type {\n",
       "        vertical-align: middle;\n",
       "    }\n",
       "\n",
       "    .dataframe tbody tr th {\n",
       "        vertical-align: top;\n",
       "    }\n",
       "\n",
       "    .dataframe thead th {\n",
       "        text-align: right;\n",
       "    }\n",
       "</style>\n",
       "<table border=\"1\" class=\"dataframe\">\n",
       "  <thead>\n",
       "    <tr style=\"text-align: right;\">\n",
       "      <th></th>\n",
       "      <th>stock</th>\n",
       "      <th>text</th>\n",
       "      <th>created_at</th>\n",
       "    </tr>\n",
       "  </thead>\n",
       "  <tbody>\n",
       "    <tr>\n",
       "      <th>367</th>\n",
       "      <td>NVDA</td>\n",
       "      <td>RT @miriamgottfried: Nvidia’s Growth Is the En...</td>\n",
       "      <td>Thu May 18 22:05:15 +0000 2017</td>\n",
       "    </tr>\n",
       "    <tr>\n",
       "      <th>568</th>\n",
       "      <td>NVDA</td>\n",
       "      <td>$NVDA is going higher! #long #calls #videogame...</td>\n",
       "      <td>Thu May 18 22:08:49 +0000 2017</td>\n",
       "    </tr>\n",
       "    <tr>\n",
       "      <th>1423</th>\n",
       "      <td>NVDA</td>\n",
       "      <td>$NVDA macd extremely bullish! possibly back to...</td>\n",
       "      <td>Thu May 18 22:25:55 +0000 2017</td>\n",
       "    </tr>\n",
       "    <tr>\n",
       "      <th>1452</th>\n",
       "      <td>NVDA</td>\n",
       "      <td>RT @option_snipper: $NVDA macd extremely bulli...</td>\n",
       "      <td>Thu May 18 22:26:33 +0000 2017</td>\n",
       "    </tr>\n",
       "    <tr>\n",
       "      <th>1466</th>\n",
       "      <td>NVDA</td>\n",
       "      <td>RT @option_snipper: $NVDA macd extremely bulli...</td>\n",
       "      <td>Thu May 18 22:26:55 +0000 2017</td>\n",
       "    </tr>\n",
       "    <tr>\n",
       "      <th>...</th>\n",
       "      <td>...</td>\n",
       "      <td>...</td>\n",
       "      <td>...</td>\n",
       "    </tr>\n",
       "    <tr>\n",
       "      <th>9089495</th>\n",
       "      <td>NVDA</td>\n",
       "      <td>$NVDA into the close. wow https://t.co/cPM34GtXiT</td>\n",
       "      <td>Tue Sep 12 21:24:32 +0000 2017</td>\n",
       "    </tr>\n",
       "    <tr>\n",
       "      <th>9090703</th>\n",
       "      <td>NVDA</td>\n",
       "      <td>RT @1simpletrader: $NVDA into the close. wow h...</td>\n",
       "      <td>Tue Sep 12 21:42:55 +0000 2017</td>\n",
       "    </tr>\n",
       "    <tr>\n",
       "      <th>9090728</th>\n",
       "      <td>NVDA</td>\n",
       "      <td>RT @Lin_ling_88: #Analysts:Nvidia and AMD aren...</td>\n",
       "      <td>Tue Sep 12 21:43:11 +0000 2017</td>\n",
       "    </tr>\n",
       "    <tr>\n",
       "      <th>9091305</th>\n",
       "      <td>NVDA</td>\n",
       "      <td>$NVDA daily updatedDamn thing hasn't even blow...</td>\n",
       "      <td>Tue Sep 12 21:55:15 +0000 2017</td>\n",
       "    </tr>\n",
       "    <tr>\n",
       "      <th>9091479</th>\n",
       "      <td>NVDA</td>\n",
       "      <td>RT @MindMakesMatter: $NVDA daily updatedDamn t...</td>\n",
       "      <td>Tue Sep 12 21:58:58 +0000 2017</td>\n",
       "    </tr>\n",
       "  </tbody>\n",
       "</table>\n",
       "<p>41681 rows × 3 columns</p>\n",
       "</div>"
      ],
      "text/plain": [
       "        stock                                               text  \\\n",
       "367      NVDA  RT @miriamgottfried: Nvidia’s Growth Is the En...   \n",
       "568      NVDA  $NVDA is going higher! #long #calls #videogame...   \n",
       "1423     NVDA  $NVDA macd extremely bullish! possibly back to...   \n",
       "1452     NVDA  RT @option_snipper: $NVDA macd extremely bulli...   \n",
       "1466     NVDA  RT @option_snipper: $NVDA macd extremely bulli...   \n",
       "...       ...                                                ...   \n",
       "9089495  NVDA  $NVDA into the close. wow https://t.co/cPM34GtXiT   \n",
       "9090703  NVDA  RT @1simpletrader: $NVDA into the close. wow h...   \n",
       "9090728  NVDA  RT @Lin_ling_88: #Analysts:Nvidia and AMD aren...   \n",
       "9091305  NVDA  $NVDA daily updatedDamn thing hasn't even blow...   \n",
       "9091479  NVDA  RT @MindMakesMatter: $NVDA daily updatedDamn t...   \n",
       "\n",
       "                             created_at  \n",
       "367      Thu May 18 22:05:15 +0000 2017  \n",
       "568      Thu May 18 22:08:49 +0000 2017  \n",
       "1423     Thu May 18 22:25:55 +0000 2017  \n",
       "1452     Thu May 18 22:26:33 +0000 2017  \n",
       "1466     Thu May 18 22:26:55 +0000 2017  \n",
       "...                                 ...  \n",
       "9089495  Tue Sep 12 21:24:32 +0000 2017  \n",
       "9090703  Tue Sep 12 21:42:55 +0000 2017  \n",
       "9090728  Tue Sep 12 21:43:11 +0000 2017  \n",
       "9091305  Tue Sep 12 21:55:15 +0000 2017  \n",
       "9091479  Tue Sep 12 21:58:58 +0000 2017  \n",
       "\n",
       "[41681 rows x 3 columns]"
      ]
     },
     "execution_count": 61,
     "metadata": {},
     "output_type": "execute_result"
    }
   ],
   "source": [
    "stockTweets.loc[stockTweets[\"stock\"] == \"NVDA\"]"
   ]
  },
  {
   "cell_type": "code",
   "execution_count": 36,
   "metadata": {},
   "outputs": [
    {
     "data": {
      "text/html": [
       "<div>\n",
       "<style scoped>\n",
       "    .dataframe tbody tr th:only-of-type {\n",
       "        vertical-align: middle;\n",
       "    }\n",
       "\n",
       "    .dataframe tbody tr th {\n",
       "        vertical-align: top;\n",
       "    }\n",
       "\n",
       "    .dataframe thead th {\n",
       "        text-align: right;\n",
       "    }\n",
       "</style>\n",
       "<table border=\"1\" class=\"dataframe\">\n",
       "  <thead>\n",
       "    <tr style=\"text-align: right;\">\n",
       "      <th></th>\n",
       "      <th>stock</th>\n",
       "      <th>text</th>\n",
       "      <th>created_at</th>\n",
       "    </tr>\n",
       "  </thead>\n",
       "  <tbody>\n",
       "    <tr>\n",
       "      <td>18</td>\n",
       "      <td>AAPL</td>\n",
       "      <td>Why Fitbit Inc. Shareholders Have Something to...</td>\n",
       "      <td>Thu May 18 22:00:12 +0000 2017</td>\n",
       "    </tr>\n",
       "    <tr>\n",
       "      <td>25</td>\n",
       "      <td>AAPL</td>\n",
       "      <td>RT SeekingAlpha: May Shopping List: Building U...</td>\n",
       "      <td>Thu May 18 22:00:21 +0000 2017</td>\n",
       "    </tr>\n",
       "    <tr>\n",
       "      <td>104</td>\n",
       "      <td>AAPL</td>\n",
       "      <td>RT @AlertTrade: May Shopping List: Building Up...</td>\n",
       "      <td>Thu May 18 22:01:36 +0000 2017</td>\n",
       "    </tr>\n",
       "    <tr>\n",
       "      <td>124</td>\n",
       "      <td>TSLA</td>\n",
       "      <td>So, roughly...the size of 1.2 Teslas. (The com...</td>\n",
       "      <td>Thu May 18 22:01:56 +0000 2017</td>\n",
       "    </tr>\n",
       "    <tr>\n",
       "      <td>209</td>\n",
       "      <td>AAPL</td>\n",
       "      <td>RT @learnstocks101: Free video w/setups for Ma...</td>\n",
       "      <td>Thu May 18 22:02:31 +0000 2017</td>\n",
       "    </tr>\n",
       "    <tr>\n",
       "      <td>...</td>\n",
       "      <td>...</td>\n",
       "      <td>...</td>\n",
       "      <td>...</td>\n",
       "    </tr>\n",
       "    <tr>\n",
       "      <td>9091524</td>\n",
       "      <td>AAPL</td>\n",
       "      <td>The #iPhone Forever Changed Our Lives $AAPL ht...</td>\n",
       "      <td>Tue Sep 12 21:59:44 +0000 2017</td>\n",
       "    </tr>\n",
       "    <tr>\n",
       "      <td>9091530</td>\n",
       "      <td>AAPL</td>\n",
       "      <td>$AAPL Can do this for a while w/o need for rei...</td>\n",
       "      <td>Tue Sep 12 21:59:51 +0000 2017</td>\n",
       "    </tr>\n",
       "    <tr>\n",
       "      <td>9091531</td>\n",
       "      <td>AAPL</td>\n",
       "      <td>The New #Apple Watch Is Basically Also a Smart...</td>\n",
       "      <td>Tue Sep 12 21:59:53 +0000 2017</td>\n",
       "    </tr>\n",
       "    <tr>\n",
       "      <td>9091532</td>\n",
       "      <td>AAPL</td>\n",
       "      <td>The #iPhone Forever Changed Our Lives $AAPL ht...</td>\n",
       "      <td>Tue Sep 12 21:59:53 +0000 2017</td>\n",
       "    </tr>\n",
       "    <tr>\n",
       "      <td>9091533</td>\n",
       "      <td>AAPL</td>\n",
       "      <td>#Apple Watch Series 3 is here, LTE, barometric...</td>\n",
       "      <td>Tue Sep 12 21:59:53 +0000 2017</td>\n",
       "    </tr>\n",
       "  </tbody>\n",
       "</table>\n",
       "<p>544834 rows × 3 columns</p>\n",
       "</div>"
      ],
      "text/plain": [
       "        stock                                               text  \\\n",
       "18       AAPL  Why Fitbit Inc. Shareholders Have Something to...   \n",
       "25       AAPL  RT SeekingAlpha: May Shopping List: Building U...   \n",
       "104      AAPL  RT @AlertTrade: May Shopping List: Building Up...   \n",
       "124      TSLA  So, roughly...the size of 1.2 Teslas. (The com...   \n",
       "209      AAPL  RT @learnstocks101: Free video w/setups for Ma...   \n",
       "...       ...                                                ...   \n",
       "9091524  AAPL  The #iPhone Forever Changed Our Lives $AAPL ht...   \n",
       "9091530  AAPL  $AAPL Can do this for a while w/o need for rei...   \n",
       "9091531  AAPL  The New #Apple Watch Is Basically Also a Smart...   \n",
       "9091532  AAPL  The #iPhone Forever Changed Our Lives $AAPL ht...   \n",
       "9091533  AAPL  #Apple Watch Series 3 is here, LTE, barometric...   \n",
       "\n",
       "                             created_at  \n",
       "18       Thu May 18 22:00:12 +0000 2017  \n",
       "25       Thu May 18 22:00:21 +0000 2017  \n",
       "104      Thu May 18 22:01:36 +0000 2017  \n",
       "124      Thu May 18 22:01:56 +0000 2017  \n",
       "209      Thu May 18 22:02:31 +0000 2017  \n",
       "...                                 ...  \n",
       "9091524  Tue Sep 12 21:59:44 +0000 2017  \n",
       "9091530  Tue Sep 12 21:59:51 +0000 2017  \n",
       "9091531  Tue Sep 12 21:59:53 +0000 2017  \n",
       "9091532  Tue Sep 12 21:59:53 +0000 2017  \n",
       "9091533  Tue Sep 12 21:59:53 +0000 2017  \n",
       "\n",
       "[544834 rows x 3 columns]"
      ]
     },
     "execution_count": 36,
     "metadata": {},
     "output_type": "execute_result"
    }
   ],
   "source": [
    "dataset = stockTweets.loc[stockTweets[\"stock\"].isin(stonksSmall)]\n",
    "dataset"
   ]
  },
  {
   "cell_type": "code",
   "execution_count": 37,
   "metadata": {},
   "outputs": [
    {
     "name": "stdout",
     "output_type": "stream",
     "text": [
      "RT SeekingAlpha: May Shopping List: Building Up Our Smaller Positions https://t.co/i1yAdFMA2L $AAPL #APPLE $D $PEP\n"
     ]
    }
   ],
   "source": [
    "print(dataset.iloc[1,1])"
   ]
  },
  {
   "cell_type": "code",
   "execution_count": null,
   "metadata": {},
   "outputs": [],
   "source": []
  },
  {
   "cell_type": "code",
   "execution_count": 45,
   "metadata": {},
   "outputs": [
    {
     "name": "stderr",
     "output_type": "stream",
     "text": [
      "C:\\Users\\Telahun\\Anaconda3\\lib\\site-packages\\ipykernel_launcher.py:3: SettingWithCopyWarning: \n",
      "A value is trying to be set on a copy of a slice from a DataFrame.\n",
      "Try using .loc[row_indexer,col_indexer] = value instead\n",
      "\n",
      "See the caveats in the documentation: http://pandas.pydata.org/pandas-docs/stable/user_guide/indexing.html#returning-a-view-versus-a-copy\n",
      "  This is separate from the ipykernel package so we can avoid doing imports until\n"
     ]
    },
    {
     "data": {
      "text/html": [
       "<div>\n",
       "<style scoped>\n",
       "    .dataframe tbody tr th:only-of-type {\n",
       "        vertical-align: middle;\n",
       "    }\n",
       "\n",
       "    .dataframe tbody tr th {\n",
       "        vertical-align: top;\n",
       "    }\n",
       "\n",
       "    .dataframe thead th {\n",
       "        text-align: right;\n",
       "    }\n",
       "</style>\n",
       "<table border=\"1\" class=\"dataframe\">\n",
       "  <thead>\n",
       "    <tr style=\"text-align: right;\">\n",
       "      <th></th>\n",
       "      <th>stock</th>\n",
       "      <th>text</th>\n",
       "      <th>created_at</th>\n",
       "    </tr>\n",
       "  </thead>\n",
       "  <tbody>\n",
       "    <tr>\n",
       "      <td>18</td>\n",
       "      <td>AAPL</td>\n",
       "      <td>Why Fitbit Inc. Shareholders Have Something to...</td>\n",
       "      <td>May 18 2017</td>\n",
       "    </tr>\n",
       "    <tr>\n",
       "      <td>25</td>\n",
       "      <td>AAPL</td>\n",
       "      <td>RT SeekingAlpha: May Shopping List: Building U...</td>\n",
       "      <td>May 18 2017</td>\n",
       "    </tr>\n",
       "    <tr>\n",
       "      <td>104</td>\n",
       "      <td>AAPL</td>\n",
       "      <td>RT @AlertTrade: May Shopping List: Building Up...</td>\n",
       "      <td>May 18 2017</td>\n",
       "    </tr>\n",
       "    <tr>\n",
       "      <td>124</td>\n",
       "      <td>TSLA</td>\n",
       "      <td>So, roughly...the size of 1.2 Teslas. (The com...</td>\n",
       "      <td>May 18 2017</td>\n",
       "    </tr>\n",
       "    <tr>\n",
       "      <td>209</td>\n",
       "      <td>AAPL</td>\n",
       "      <td>RT @learnstocks101: Free video w/setups for Ma...</td>\n",
       "      <td>May 18 2017</td>\n",
       "    </tr>\n",
       "    <tr>\n",
       "      <td>...</td>\n",
       "      <td>...</td>\n",
       "      <td>...</td>\n",
       "      <td>...</td>\n",
       "    </tr>\n",
       "    <tr>\n",
       "      <td>9091524</td>\n",
       "      <td>AAPL</td>\n",
       "      <td>The #iPhone Forever Changed Our Lives $AAPL ht...</td>\n",
       "      <td>Sep 12 2017</td>\n",
       "    </tr>\n",
       "    <tr>\n",
       "      <td>9091530</td>\n",
       "      <td>AAPL</td>\n",
       "      <td>$AAPL Can do this for a while w/o need for rei...</td>\n",
       "      <td>Sep 12 2017</td>\n",
       "    </tr>\n",
       "    <tr>\n",
       "      <td>9091531</td>\n",
       "      <td>AAPL</td>\n",
       "      <td>The New #Apple Watch Is Basically Also a Smart...</td>\n",
       "      <td>Sep 12 2017</td>\n",
       "    </tr>\n",
       "    <tr>\n",
       "      <td>9091532</td>\n",
       "      <td>AAPL</td>\n",
       "      <td>The #iPhone Forever Changed Our Lives $AAPL ht...</td>\n",
       "      <td>Sep 12 2017</td>\n",
       "    </tr>\n",
       "    <tr>\n",
       "      <td>9091533</td>\n",
       "      <td>AAPL</td>\n",
       "      <td>#Apple Watch Series 3 is here, LTE, barometric...</td>\n",
       "      <td>Sep 12 2017</td>\n",
       "    </tr>\n",
       "  </tbody>\n",
       "</table>\n",
       "<p>544834 rows × 3 columns</p>\n",
       "</div>"
      ],
      "text/plain": [
       "        stock                                               text   created_at\n",
       "18       AAPL  Why Fitbit Inc. Shareholders Have Something to...  May 18 2017\n",
       "25       AAPL  RT SeekingAlpha: May Shopping List: Building U...  May 18 2017\n",
       "104      AAPL  RT @AlertTrade: May Shopping List: Building Up...  May 18 2017\n",
       "124      TSLA  So, roughly...the size of 1.2 Teslas. (The com...  May 18 2017\n",
       "209      AAPL  RT @learnstocks101: Free video w/setups for Ma...  May 18 2017\n",
       "...       ...                                                ...          ...\n",
       "9091524  AAPL  The #iPhone Forever Changed Our Lives $AAPL ht...  Sep 12 2017\n",
       "9091530  AAPL  $AAPL Can do this for a while w/o need for rei...  Sep 12 2017\n",
       "9091531  AAPL  The New #Apple Watch Is Basically Also a Smart...  Sep 12 2017\n",
       "9091532  AAPL  The #iPhone Forever Changed Our Lives $AAPL ht...  Sep 12 2017\n",
       "9091533  AAPL  #Apple Watch Series 3 is here, LTE, barometric...  Sep 12 2017\n",
       "\n",
       "[544834 rows x 3 columns]"
      ]
     },
     "execution_count": 45,
     "metadata": {},
     "output_type": "execute_result"
    }
   ],
   "source": [
    "# regexp = re.compile(r'(\\w{1,} \\d{1,} \\d{1,}:\\d{1,}:\\d{1,})+') ##with exact time\n",
    "regexp = re.compile(r'(\\w{1,} \\d{1,} )+')\n",
    "dataset[\"created_at\"] = [re.findall(regexp, ele.strip())[0] + \"2017\" if regexp.search(ele) else \"none\" for ele in dataset[\"created_at\"]]\n",
    "dataset"
   ]
  },
  {
   "cell_type": "markdown",
   "metadata": {},
   "source": [
    "### plot dates of all tweets"
   ]
  },
  {
   "cell_type": "code",
   "execution_count": 46,
   "metadata": {},
   "outputs": [
    {
     "data": {
      "text/plain": [
       "<matplotlib.axes._subplots.AxesSubplot at 0x250e1cfb048>"
      ]
     },
     "execution_count": 46,
     "metadata": {},
     "output_type": "execute_result"
    }
   ],
   "source": [
    "dataset[\"created_at\"].value_counts().plot.bar(figsize=(15,15))"
   ]
  },
  {
   "cell_type": "markdown",
   "metadata": {},
   "source": [
    "## NVDA"
   ]
  },
  {
   "cell_type": "code",
   "execution_count": 131,
   "metadata": {},
   "outputs": [
    {
     "data": {
      "text/plain": [
       "May 29 2017    110\n",
       "Aug 27 2017    105\n",
       "May 27 2017    105\n",
       "Jun 25 2017    103\n",
       "Aug 26 2017    102\n",
       "Sep 04 2017    101\n",
       "Jun 03 2017     98\n",
       "May 20 2017     92\n",
       "Jul 29 2017     89\n",
       "Jul 23 2017     87\n",
       "Jun 04 2017     84\n",
       "Jun 17 2017     81\n",
       "Jul 08 2017     81\n",
       "May 21 2017     80\n",
       "May 28 2017     77\n",
       "Jul 09 2017     74\n",
       "Aug 20 2017     68\n",
       "Jul 30 2017     68\n",
       "Jun 18 2017     62\n",
       "May 18 2017     23\n",
       "Name: created_at, dtype: int64"
      ]
     },
     "execution_count": 131,
     "metadata": {},
     "output_type": "execute_result"
    }
   ],
   "source": [
    "# NVDA = dataset.iloc[dataset.loc[dataset[\"stock\"] == \"NVDA\"][\"created_at\"].value_counts()]\n",
    "NVDA = dataset.loc[dataset[\"stock\"] == \"NVDA\"]\n",
    "tweets_per_day = NVDA.created_at.value_counts()\n",
    "# tweets_per_day = tweets_per_day[tweets_per_day < 500]  ## less than\n",
    "tweets_per_day = tweets_per_day[tweets_per_day.between(20, 110)] ## between\n",
    "# NVDA\n",
    "tweets_per_day\n",
    "# tweets_per_day.plot.bar(figsize=(15,15))"
   ]
  },
  {
   "cell_type": "code",
   "execution_count": 118,
   "metadata": {},
   "outputs": [
    {
     "data": {
      "text/plain": [
       "187117     Don't miss our next FREE OPTION TRADE.  Sign u...\n",
       "187192     RT @ExactOptionPick: Don't miss our next FREE ...\n",
       "187193     RT @ExactOptionPick: Don't miss our next FREE ...\n",
       "187194     RT @ExactOptionPick: Don't miss our next FREE ...\n",
       "187713     https://t.co/0aqGg8stvTNVIDIA Teams with Faceb...\n",
       "                                 ...                        \n",
       "6698586    NVIDIA Corporation Stomped Second-Quarter Guid...\n",
       "6698726    Avinash Anantharamu: I took a position in $NVD...\n",
       "6698837    RT @naashonomics: $NVDA 180-200 run coming hop...\n",
       "6698847    $NVDA is in EMA33 Breakout winning 82.26% in t...\n",
       "6699035    $nvda with a monster day today. Feeling like t...\n",
       "Name: text, Length: 19026, dtype: object"
      ]
     },
     "execution_count": 118,
     "metadata": {},
     "output_type": "execute_result"
    }
   ],
   "source": [
    "tweets_Of_days = NVDA[NVDA[\"created_at\"].isin(tweets_per_day.keys())] ## all days\n",
    "# tweets_Of_days = NVDA[NVDA[\"created_at\"] == tweets_per_day.keys()[0]] ## specific day\n",
    "# tweets_Of_days = NVDA[\"text\"].loc[NVDA[\"created_at\"].isin(tweets_per_day.keys())] ## just text\n",
    "\n",
    "tweets_Of_days"
   ]
  },
  {
   "cell_type": "code",
   "execution_count": 92,
   "metadata": {},
   "outputs": [
    {
     "data": {
      "text/plain": [
       "'Jun 09 2017'"
      ]
     },
     "execution_count": 92,
     "metadata": {},
     "output_type": "execute_result"
    }
   ],
   "source": []
  },
  {
   "cell_type": "code",
   "execution_count": 117,
   "metadata": {},
   "outputs": [
    {
     "data": {
      "text/plain": [
       "<matplotlib.axes._subplots.AxesSubplot at 0x250e31c54c8>"
      ]
     },
     "execution_count": 117,
     "metadata": {},
     "output_type": "execute_result"
    }
   ],
   "source": [
    "tweets_per_day.plot.bar(figsize=(15,15))"
   ]
  },
  {
   "cell_type": "markdown",
   "metadata": {},
   "source": [
    "# Entities dataset"
   ]
  },
  {
   "cell_type": "code",
   "execution_count": 6,
   "metadata": {},
   "outputs": [],
   "source": [
    "companiesDf = pd.read_csv(\"COMPANIES_30K.csv\")"
   ]
  },
  {
   "cell_type": "code",
   "execution_count": 14,
   "metadata": {},
   "outputs": [
    {
     "data": {
      "text/html": [
       "<div>\n",
       "<style scoped>\n",
       "    .dataframe tbody tr th:only-of-type {\n",
       "        vertical-align: middle;\n",
       "    }\n",
       "\n",
       "    .dataframe tbody tr th {\n",
       "        vertical-align: top;\n",
       "    }\n",
       "\n",
       "    .dataframe thead th {\n",
       "        text-align: right;\n",
       "    }\n",
       "</style>\n",
       "<table border=\"1\" class=\"dataframe\">\n",
       "  <thead>\n",
       "    <tr style=\"text-align: right;\">\n",
       "      <th></th>\n",
       "      <th>ticker</th>\n",
       "      <th>name</th>\n",
       "      <th>exchange</th>\n",
       "      <th>capitalization</th>\n",
       "    </tr>\n",
       "  </thead>\n",
       "  <tbody>\n",
       "    <tr>\n",
       "      <td>0</td>\n",
       "      <td>A</td>\n",
       "      <td>Agilent Technologies</td>\n",
       "      <td>NYSE</td>\n",
       "      <td>1.915000e+10</td>\n",
       "    </tr>\n",
       "    <tr>\n",
       "      <td>1</td>\n",
       "      <td>AA</td>\n",
       "      <td>Alcoa Corp</td>\n",
       "      <td>NYSE</td>\n",
       "      <td>6.480000e+09</td>\n",
       "    </tr>\n",
       "    <tr>\n",
       "      <td>2</td>\n",
       "      <td>AAAG</td>\n",
       "      <td>AAA Century Group US</td>\n",
       "      <td>OTCMKTS</td>\n",
       "      <td>9.480000e+06</td>\n",
       "    </tr>\n",
       "    <tr>\n",
       "      <td>3</td>\n",
       "      <td>AAAIF</td>\n",
       "      <td>ALTERNATIVE INV TR N</td>\n",
       "      <td>OTCMKTS</td>\n",
       "      <td>7.840000e+06</td>\n",
       "    </tr>\n",
       "    <tr>\n",
       "      <td>4</td>\n",
       "      <td>AAALF</td>\n",
       "      <td>AAREAL BANK AG NPV</td>\n",
       "      <td>OTCMKTS</td>\n",
       "      <td>1.720000e+09</td>\n",
       "    </tr>\n",
       "    <tr>\n",
       "      <td>...</td>\n",
       "      <td>...</td>\n",
       "      <td>...</td>\n",
       "      <td>...</td>\n",
       "      <td>...</td>\n",
       "    </tr>\n",
       "    <tr>\n",
       "      <td>61</td>\n",
       "      <td>AAPC</td>\n",
       "      <td>AMERICAN ARCHTECHUAL</td>\n",
       "      <td>OTCMKTS</td>\n",
       "      <td>NaN</td>\n",
       "    </tr>\n",
       "    <tr>\n",
       "      <td>62</td>\n",
       "      <td>AAPEF</td>\n",
       "      <td>ASIA- PACIFIC</td>\n",
       "      <td>OTCMKTS</td>\n",
       "      <td>1.721000e+07</td>\n",
       "    </tr>\n",
       "    <tr>\n",
       "      <td>63</td>\n",
       "      <td>AAPH</td>\n",
       "      <td>American Petro-Hunte</td>\n",
       "      <td>OTCMKTS</td>\n",
       "      <td>8.034400e+04</td>\n",
       "    </tr>\n",
       "    <tr>\n",
       "      <td>64</td>\n",
       "      <td>AAPJ</td>\n",
       "      <td>AAP Inc</td>\n",
       "      <td>OTCMKTS</td>\n",
       "      <td>8.462000e+04</td>\n",
       "    </tr>\n",
       "    <tr>\n",
       "      <td>65</td>\n",
       "      <td>AAPL</td>\n",
       "      <td>Apple Inc.</td>\n",
       "      <td>NASDAQ</td>\n",
       "      <td>7.485500e+11</td>\n",
       "    </tr>\n",
       "  </tbody>\n",
       "</table>\n",
       "<p>66 rows × 4 columns</p>\n",
       "</div>"
      ],
      "text/plain": [
       "   ticker                  name exchange  capitalization\n",
       "0       A  Agilent Technologies     NYSE    1.915000e+10\n",
       "1      AA            Alcoa Corp     NYSE    6.480000e+09\n",
       "2    AAAG  AAA Century Group US  OTCMKTS    9.480000e+06\n",
       "3   AAAIF  ALTERNATIVE INV TR N  OTCMKTS    7.840000e+06\n",
       "4   AAALF    AAREAL BANK AG NPV  OTCMKTS    1.720000e+09\n",
       "..    ...                   ...      ...             ...\n",
       "61   AAPC  AMERICAN ARCHTECHUAL  OTCMKTS             NaN\n",
       "62  AAPEF         ASIA- PACIFIC  OTCMKTS    1.721000e+07\n",
       "63   AAPH  American Petro-Hunte  OTCMKTS    8.034400e+04\n",
       "64   AAPJ               AAP Inc  OTCMKTS    8.462000e+04\n",
       "65   AAPL            Apple Inc.   NASDAQ    7.485500e+11\n",
       "\n",
       "[66 rows x 4 columns]"
      ]
     },
     "execution_count": 14,
     "metadata": {},
     "output_type": "execute_result"
    }
   ],
   "source": [
    "companiesDf.head(66)\n",
    "# companiesDf.info()\n",
    "# companiesDf.describe()"
   ]
  },
  {
   "cell_type": "code",
   "execution_count": 22,
   "metadata": {},
   "outputs": [],
   "source": [
    "company_info = companiesDf.loc[companiesDf.ticker.isin(stonks)]"
   ]
  },
  {
   "cell_type": "code",
   "execution_count": 23,
   "metadata": {},
   "outputs": [
    {
     "data": {
      "text/html": [
       "<div>\n",
       "<style scoped>\n",
       "    .dataframe tbody tr th:only-of-type {\n",
       "        vertical-align: middle;\n",
       "    }\n",
       "\n",
       "    .dataframe tbody tr th {\n",
       "        vertical-align: top;\n",
       "    }\n",
       "\n",
       "    .dataframe thead th {\n",
       "        text-align: right;\n",
       "    }\n",
       "</style>\n",
       "<table border=\"1\" class=\"dataframe\">\n",
       "  <thead>\n",
       "    <tr style=\"text-align: right;\">\n",
       "      <th></th>\n",
       "      <th>ticker</th>\n",
       "      <th>name</th>\n",
       "      <th>exchange</th>\n",
       "      <th>capitalization</th>\n",
       "    </tr>\n",
       "  </thead>\n",
       "  <tbody>\n",
       "    <tr>\n",
       "      <td>65</td>\n",
       "      <td>AAPL</td>\n",
       "      <td>Apple Inc.</td>\n",
       "      <td>NASDAQ</td>\n",
       "      <td>7.485500e+11</td>\n",
       "    </tr>\n",
       "    <tr>\n",
       "      <td>1238</td>\n",
       "      <td>AMD</td>\n",
       "      <td>Advanced Micro Devic</td>\n",
       "      <td>NASDAQ</td>\n",
       "      <td>1.214000e+10</td>\n",
       "    </tr>\n",
       "    <tr>\n",
       "      <td>1392</td>\n",
       "      <td>AMZN</td>\n",
       "      <td>Amazon.com, Inc.</td>\n",
       "      <td>NASDAQ</td>\n",
       "      <td>4.574300e+11</td>\n",
       "    </tr>\n",
       "    <tr>\n",
       "      <td>2619</td>\n",
       "      <td>BAC</td>\n",
       "      <td>Bank of America Corp</td>\n",
       "      <td>NYSE</td>\n",
       "      <td>2.522900e+11</td>\n",
       "    </tr>\n",
       "    <tr>\n",
       "      <td>11782</td>\n",
       "      <td>GOOGL</td>\n",
       "      <td>Alphabet Inc</td>\n",
       "      <td>NASDAQ</td>\n",
       "      <td>6.413400e+11</td>\n",
       "    </tr>\n",
       "    <tr>\n",
       "      <td>12033</td>\n",
       "      <td>GS</td>\n",
       "      <td>Goldman Sachs Group</td>\n",
       "      <td>NYSE</td>\n",
       "      <td>8.973000e+10</td>\n",
       "    </tr>\n",
       "    <tr>\n",
       "      <td>13467</td>\n",
       "      <td>IBM</td>\n",
       "      <td>International Busine</td>\n",
       "      <td>NYSE</td>\n",
       "      <td>1.421600e+11</td>\n",
       "    </tr>\n",
       "    <tr>\n",
       "      <td>14148</td>\n",
       "      <td>INTC</td>\n",
       "      <td>Intel Corporation</td>\n",
       "      <td>NASDAQ</td>\n",
       "      <td>1.625300e+11</td>\n",
       "    </tr>\n",
       "    <tr>\n",
       "      <td>14160</td>\n",
       "      <td>INTU</td>\n",
       "      <td>Intuit Inc.</td>\n",
       "      <td>NASDAQ</td>\n",
       "      <td>3.373000e+10</td>\n",
       "    </tr>\n",
       "    <tr>\n",
       "      <td>17496</td>\n",
       "      <td>MLNK</td>\n",
       "      <td>ModusLink Global Sol</td>\n",
       "      <td>NASDAQ</td>\n",
       "      <td>9.001000e+07</td>\n",
       "    </tr>\n",
       "    <tr>\n",
       "      <td>17985</td>\n",
       "      <td>MSFT</td>\n",
       "      <td>Microsoft Corporatio</td>\n",
       "      <td>NASDAQ</td>\n",
       "      <td>5.364600e+11</td>\n",
       "    </tr>\n",
       "    <tr>\n",
       "      <td>18830</td>\n",
       "      <td>NIO</td>\n",
       "      <td>Nuveen Municipal Opp</td>\n",
       "      <td>NYSE</td>\n",
       "      <td>1.400000e+09</td>\n",
       "    </tr>\n",
       "    <tr>\n",
       "      <td>19404</td>\n",
       "      <td>NVDA</td>\n",
       "      <td>NVIDIA Corporation</td>\n",
       "      <td>NASDAQ</td>\n",
       "      <td>8.765000e+10</td>\n",
       "    </tr>\n",
       "    <tr>\n",
       "      <td>22134</td>\n",
       "      <td>QCOM</td>\n",
       "      <td>QUALCOMM, Inc.</td>\n",
       "      <td>NASDAQ</td>\n",
       "      <td>7.999000e+10</td>\n",
       "    </tr>\n",
       "    <tr>\n",
       "      <td>23509</td>\n",
       "      <td>SBUX</td>\n",
       "      <td>Starbucks Corporatio</td>\n",
       "      <td>NASDAQ</td>\n",
       "      <td>8.248000e+10</td>\n",
       "    </tr>\n",
       "    <tr>\n",
       "      <td>23911</td>\n",
       "      <td>SFTBY</td>\n",
       "      <td>Softbank Corp. (Japa</td>\n",
       "      <td>OTCMKTS</td>\n",
       "      <td>8.959000e+10</td>\n",
       "    </tr>\n",
       "    <tr>\n",
       "      <td>25107</td>\n",
       "      <td>SQ</td>\n",
       "      <td>Square Inc</td>\n",
       "      <td>NYSE</td>\n",
       "      <td>8.560000e+09</td>\n",
       "    </tr>\n",
       "    <tr>\n",
       "      <td>26359</td>\n",
       "      <td>TGT</td>\n",
       "      <td>Target Corporation</td>\n",
       "      <td>NYSE</td>\n",
       "      <td>2.738000e+10</td>\n",
       "    </tr>\n",
       "    <tr>\n",
       "      <td>27171</td>\n",
       "      <td>TSLA</td>\n",
       "      <td>Tesla Inc</td>\n",
       "      <td>NASDAQ</td>\n",
       "      <td>5.394000e+10</td>\n",
       "    </tr>\n",
       "    <tr>\n",
       "      <td>28025</td>\n",
       "      <td>V</td>\n",
       "      <td>Visa Inc</td>\n",
       "      <td>NYSE</td>\n",
       "      <td>2.227700e+11</td>\n",
       "    </tr>\n",
       "    <tr>\n",
       "      <td>28585</td>\n",
       "      <td>VTI</td>\n",
       "      <td>Vanguard Total Stock</td>\n",
       "      <td>NYSEARCA</td>\n",
       "      <td>7.972000e+10</td>\n",
       "    </tr>\n",
       "    <tr>\n",
       "      <td>28654</td>\n",
       "      <td>VWO</td>\n",
       "      <td>Vanguard Emerging Ma</td>\n",
       "      <td>NYSEARCA</td>\n",
       "      <td>5.687000e+10</td>\n",
       "    </tr>\n",
       "    <tr>\n",
       "      <td>29467</td>\n",
       "      <td>XLK</td>\n",
       "      <td>Technology Select Se</td>\n",
       "      <td>NYSEARCA</td>\n",
       "      <td>1.644000e+10</td>\n",
       "    </tr>\n",
       "    <tr>\n",
       "      <td>29476</td>\n",
       "      <td>XLV</td>\n",
       "      <td>Health Care SPDR (ET</td>\n",
       "      <td>NYSEARCA</td>\n",
       "      <td>1.761000e+10</td>\n",
       "    </tr>\n",
       "  </tbody>\n",
       "</table>\n",
       "</div>"
      ],
      "text/plain": [
       "      ticker                  name  exchange  capitalization\n",
       "65      AAPL            Apple Inc.    NASDAQ    7.485500e+11\n",
       "1238     AMD  Advanced Micro Devic    NASDAQ    1.214000e+10\n",
       "1392    AMZN      Amazon.com, Inc.    NASDAQ    4.574300e+11\n",
       "2619     BAC  Bank of America Corp      NYSE    2.522900e+11\n",
       "11782  GOOGL          Alphabet Inc    NASDAQ    6.413400e+11\n",
       "12033     GS  Goldman Sachs Group       NYSE    8.973000e+10\n",
       "13467    IBM  International Busine      NYSE    1.421600e+11\n",
       "14148   INTC     Intel Corporation    NASDAQ    1.625300e+11\n",
       "14160   INTU           Intuit Inc.    NASDAQ    3.373000e+10\n",
       "17496   MLNK  ModusLink Global Sol    NASDAQ    9.001000e+07\n",
       "17985   MSFT  Microsoft Corporatio    NASDAQ    5.364600e+11\n",
       "18830    NIO  Nuveen Municipal Opp      NYSE    1.400000e+09\n",
       "19404   NVDA    NVIDIA Corporation    NASDAQ    8.765000e+10\n",
       "22134   QCOM        QUALCOMM, Inc.    NASDAQ    7.999000e+10\n",
       "23509   SBUX  Starbucks Corporatio    NASDAQ    8.248000e+10\n",
       "23911  SFTBY  Softbank Corp. (Japa   OTCMKTS    8.959000e+10\n",
       "25107     SQ            Square Inc      NYSE    8.560000e+09\n",
       "26359    TGT    Target Corporation      NYSE    2.738000e+10\n",
       "27171   TSLA             Tesla Inc    NASDAQ    5.394000e+10\n",
       "28025      V              Visa Inc      NYSE    2.227700e+11\n",
       "28585    VTI  Vanguard Total Stock  NYSEARCA    7.972000e+10\n",
       "28654    VWO  Vanguard Emerging Ma  NYSEARCA    5.687000e+10\n",
       "29467    XLK  Technology Select Se  NYSEARCA    1.644000e+10\n",
       "29476    XLV  Health Care SPDR (ET  NYSEARCA    1.761000e+10"
      ]
     },
     "execution_count": 23,
     "metadata": {},
     "output_type": "execute_result"
    }
   ],
   "source": [
    "company_info"
   ]
  },
  {
   "cell_type": "code",
   "execution_count": null,
   "metadata": {},
   "outputs": [],
   "source": []
  },
  {
   "cell_type": "code",
   "execution_count": null,
   "metadata": {},
   "outputs": [],
   "source": []
  },
  {
   "cell_type": "code",
   "execution_count": 3,
   "metadata": {},
   "outputs": [
    {
     "data": {
      "text/plain": [
       "[<matplotlib.lines.Line2D at 0x214d4102c88>,\n",
       " <matplotlib.lines.Line2D at 0x214d417dc88>,\n",
       " <matplotlib.lines.Line2D at 0x214d417df28>,\n",
       " <matplotlib.lines.Line2D at 0x214d40550f0>,\n",
       " <matplotlib.lines.Line2D at 0x214d4055278>,\n",
       " <matplotlib.lines.Line2D at 0x214d4055400>,\n",
       " <matplotlib.lines.Line2D at 0x214d4055588>]"
      ]
     },
     "execution_count": 3,
     "metadata": {},
     "output_type": "execute_result"
    }
   ],
   "source": [
    "import yfinance as yf\n",
    "nvda = yf.Ticker(\"NVDA\")\n",
    "history = nvda.history(period='max')\n",
    "plt.plot(history)"
   ]
  },
  {
   "cell_type": "code",
   "execution_count": 42,
   "metadata": {},
   "outputs": [
    {
     "data": {
      "text/plain": [
       "5308"
      ]
     },
     "execution_count": 42,
     "metadata": {},
     "output_type": "execute_result"
    }
   ],
   "source": [
    "history.Open.size"
   ]
  },
  {
   "cell_type": "code",
   "execution_count": 50,
   "metadata": {},
   "outputs": [
    {
     "data": {
      "text/plain": [
       "'window_383a5b82271828'"
      ]
     },
     "execution_count": 50,
     "metadata": {},
     "output_type": "execute_result"
    }
   ],
   "source": [
    "from visdom import Visdom\n",
    "v = Visdom()\n",
    "v.line(X=np.arange(5308), Y=history.High,\n",
    "       opts=dict(title=\"NVDA stock\", xlabel='# of days', ylabel='price'))"
   ]
  },
  {
   "cell_type": "code",
   "execution_count": 72,
   "metadata": {},
   "outputs": [
    {
     "data": {
      "text/plain": [
       "'window_383a66baeff4da'"
      ]
     },
     "execution_count": 72,
     "metadata": {},
     "output_type": "execute_result"
    }
   ],
   "source": [
    "v.bar(X=stockTweets[\"stock\"].loc[stockTweets[\"stock\"].isin(stonksSmall)].value_counts(), Y=stonksSmall)\n",
    "#      opts=dict(xtickvals='stonksSmall'))"
   ]
  },
  {
   "cell_type": "code",
   "execution_count": 68,
   "metadata": {},
   "outputs": [
    {
     "data": {
      "text/plain": [
       "['AAPL', 'TSLA', 'AMZN', 'GS', 'NVDA', 'MSFT', 'GOOGL', 'IBM']"
      ]
     },
     "execution_count": 68,
     "metadata": {},
     "output_type": "execute_result"
    }
   ],
   "source": [
    "stonksSmall\n"
   ]
  },
  {
   "cell_type": "code",
   "execution_count": null,
   "metadata": {},
   "outputs": [],
   "source": []
  }
 ],
 "metadata": {
  "kernelspec": {
   "display_name": "Python 3",
   "language": "python",
   "name": "python3"
  },
  "language_info": {
   "codemirror_mode": {
    "name": "ipython",
    "version": 3
   },
   "file_extension": ".py",
   "mimetype": "text/x-python",
   "name": "python",
   "nbconvert_exporter": "python",
   "pygments_lexer": "ipython3",
   "version": "3.7.6"
  }
 },
 "nbformat": 4,
 "nbformat_minor": 4
}
