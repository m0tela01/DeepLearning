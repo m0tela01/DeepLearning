{
 "cells": [
  {
   "cell_type": "code",
   "execution_count": 1,
   "metadata": {},
   "outputs": [],
   "source": [
    "from attention import AttentionLayer # from here https://github.com/thushv89/attention_keras/blob/master/layers/attention.py"
   ]
  },
  {
   "cell_type": "code",
   "execution_count": 2,
   "metadata": {},
   "outputs": [
    {
     "name": "stderr",
     "output_type": "stream",
     "text": [
      "Using TensorFlow backend.\n"
     ]
    }
   ],
   "source": [
    "import os\n",
    "import re\n",
    "import sys\n",
    "import numpy as np\n",
    "import pandas as pd\n",
    "import warnings\n",
    "pd.set_option(\"display.max_colwidth\", 200)\n",
    "warnings.filterwarnings(\"ignore\")\n",
    "\n",
    "from bs4 import BeautifulSoup\n",
    "\n",
    "import matplotlib.pyplot as plt\n",
    "import seaborn as sns\n",
    "sns.set_style('dark')\n",
    "\n",
    "from nltk.corpus import stopwords\n",
    "stop_words = set(stopwords.words('english')) \n",
    "\n",
    "from keras import backend as K, layers\n",
    "from keras.preprocessing.text import Tokenizer \n",
    "from keras.preprocessing.sequence import pad_sequences\n",
    "\n",
    "from sklearn.model_selection import train_test_split\n",
    "\n",
    "import tensorflow as tf\n",
    "from tensorflow.keras.models import Model\n",
    "from tensorflow.keras.callbacks import EarlyStopping\n",
    "from tensorflow.keras.layers import Input, LSTM, Embedding, Dense, Concatenate, TimeDistributed, Bidirectional"
   ]
  },
  {
   "cell_type": "code",
   "execution_count": 3,
   "metadata": {},
   "outputs": [
    {
     "data": {
      "text/plain": [
       "'C:\\\\Users\\\\Telahun\\\\Documents\\\\School\\\\CECS590 - Deep Learning\\\\Final Project'"
      ]
     },
     "execution_count": 3,
     "metadata": {},
     "output_type": "execute_result"
    }
   ],
   "source": [
    "os.getcwd()"
   ]
  },
  {
   "cell_type": "code",
   "execution_count": 4,
   "metadata": {},
   "outputs": [],
   "source": [
    "data = pd.read_csv(os.getcwd() + '\\\\amazon-fine-food-reviews\\\\Reviews.csv')"
   ]
  },
  {
   "cell_type": "code",
   "execution_count": 5,
   "metadata": {},
   "outputs": [
    {
     "data": {
      "text/html": [
       "<div>\n",
       "<style scoped>\n",
       "    .dataframe tbody tr th:only-of-type {\n",
       "        vertical-align: middle;\n",
       "    }\n",
       "\n",
       "    .dataframe tbody tr th {\n",
       "        vertical-align: top;\n",
       "    }\n",
       "\n",
       "    .dataframe thead th {\n",
       "        text-align: right;\n",
       "    }\n",
       "</style>\n",
       "<table border=\"1\" class=\"dataframe\">\n",
       "  <thead>\n",
       "    <tr style=\"text-align: right;\">\n",
       "      <th></th>\n",
       "      <th>Id</th>\n",
       "      <th>ProductId</th>\n",
       "      <th>UserId</th>\n",
       "      <th>ProfileName</th>\n",
       "      <th>HelpfulnessNumerator</th>\n",
       "      <th>HelpfulnessDenominator</th>\n",
       "      <th>Score</th>\n",
       "      <th>Time</th>\n",
       "      <th>Summary</th>\n",
       "      <th>Text</th>\n",
       "    </tr>\n",
       "  </thead>\n",
       "  <tbody>\n",
       "    <tr>\n",
       "      <th>0</th>\n",
       "      <td>1</td>\n",
       "      <td>B001E4KFG0</td>\n",
       "      <td>A3SGXH7AUHU8GW</td>\n",
       "      <td>delmartian</td>\n",
       "      <td>1</td>\n",
       "      <td>1</td>\n",
       "      <td>5</td>\n",
       "      <td>1303862400</td>\n",
       "      <td>Good Quality Dog Food</td>\n",
       "      <td>I have bought several of the Vitality canned dog food products and have found them all to be of good quality. The product looks more like a stew than a processed meat and it smells better. My Labr...</td>\n",
       "    </tr>\n",
       "    <tr>\n",
       "      <th>1</th>\n",
       "      <td>2</td>\n",
       "      <td>B00813GRG4</td>\n",
       "      <td>A1D87F6ZCVE5NK</td>\n",
       "      <td>dll pa</td>\n",
       "      <td>0</td>\n",
       "      <td>0</td>\n",
       "      <td>1</td>\n",
       "      <td>1346976000</td>\n",
       "      <td>Not as Advertised</td>\n",
       "      <td>Product arrived labeled as Jumbo Salted Peanuts...the peanuts were actually small sized unsalted. Not sure if this was an error or if the vendor intended to represent the product as \"Jumbo\".</td>\n",
       "    </tr>\n",
       "  </tbody>\n",
       "</table>\n",
       "</div>"
      ],
      "text/plain": [
       "   Id   ProductId          UserId ProfileName  HelpfulnessNumerator  \\\n",
       "0   1  B001E4KFG0  A3SGXH7AUHU8GW  delmartian                     1   \n",
       "1   2  B00813GRG4  A1D87F6ZCVE5NK      dll pa                     0   \n",
       "\n",
       "   HelpfulnessDenominator  Score        Time                Summary  \\\n",
       "0                       1      5  1303862400  Good Quality Dog Food   \n",
       "1                       0      1  1346976000      Not as Advertised   \n",
       "\n",
       "                                                                                                                                                                                                      Text  \n",
       "0  I have bought several of the Vitality canned dog food products and have found them all to be of good quality. The product looks more like a stew than a processed meat and it smells better. My Labr...  \n",
       "1           Product arrived labeled as Jumbo Salted Peanuts...the peanuts were actually small sized unsalted. Not sure if this was an error or if the vendor intended to represent the product as \"Jumbo\".  "
      ]
     },
     "execution_count": 5,
     "metadata": {},
     "output_type": "execute_result"
    }
   ],
   "source": [
    "data.head(2)"
   ]
  },
  {
   "cell_type": "code",
   "execution_count": 6,
   "metadata": {},
   "outputs": [
    {
     "name": "stdout",
     "output_type": "stream",
     "text": [
      "shape:  (568454, 10)\n",
      "<class 'pandas.core.frame.DataFrame'>\n",
      "RangeIndex: 568454 entries, 0 to 568453\n",
      "Data columns (total 10 columns):\n",
      " #   Column                  Non-Null Count   Dtype \n",
      "---  ------                  --------------   ----- \n",
      " 0   Id                      568454 non-null  int64 \n",
      " 1   ProductId               568454 non-null  object\n",
      " 2   UserId                  568454 non-null  object\n",
      " 3   ProfileName             568438 non-null  object\n",
      " 4   HelpfulnessNumerator    568454 non-null  int64 \n",
      " 5   HelpfulnessDenominator  568454 non-null  int64 \n",
      " 6   Score                   568454 non-null  int64 \n",
      " 7   Time                    568454 non-null  int64 \n",
      " 8   Summary                 568427 non-null  object\n",
      " 9   Text                    568454 non-null  object\n",
      "dtypes: int64(5), object(5)\n",
      "memory usage: 43.4+ MB\n"
     ]
    }
   ],
   "source": [
    "print(\"shape: \", data.shape)\n",
    "data.info()"
   ]
  },
  {
   "cell_type": "code",
   "execution_count": 7,
   "metadata": {},
   "outputs": [
    {
     "data": {
      "text/html": [
       "<div>\n",
       "<style scoped>\n",
       "    .dataframe tbody tr th:only-of-type {\n",
       "        vertical-align: middle;\n",
       "    }\n",
       "\n",
       "    .dataframe tbody tr th {\n",
       "        vertical-align: top;\n",
       "    }\n",
       "\n",
       "    .dataframe thead th {\n",
       "        text-align: right;\n",
       "    }\n",
       "</style>\n",
       "<table border=\"1\" class=\"dataframe\">\n",
       "  <thead>\n",
       "    <tr style=\"text-align: right;\">\n",
       "      <th></th>\n",
       "      <th>Id</th>\n",
       "      <th>HelpfulnessNumerator</th>\n",
       "      <th>HelpfulnessDenominator</th>\n",
       "      <th>Score</th>\n",
       "      <th>Time</th>\n",
       "    </tr>\n",
       "  </thead>\n",
       "  <tbody>\n",
       "    <tr>\n",
       "      <th>count</th>\n",
       "      <td>568454.000000</td>\n",
       "      <td>568454.000000</td>\n",
       "      <td>568454.00000</td>\n",
       "      <td>568454.000000</td>\n",
       "      <td>5.684540e+05</td>\n",
       "    </tr>\n",
       "    <tr>\n",
       "      <th>mean</th>\n",
       "      <td>284227.500000</td>\n",
       "      <td>1.743817</td>\n",
       "      <td>2.22881</td>\n",
       "      <td>4.183199</td>\n",
       "      <td>1.296257e+09</td>\n",
       "    </tr>\n",
       "    <tr>\n",
       "      <th>std</th>\n",
       "      <td>164098.679298</td>\n",
       "      <td>7.636513</td>\n",
       "      <td>8.28974</td>\n",
       "      <td>1.310436</td>\n",
       "      <td>4.804331e+07</td>\n",
       "    </tr>\n",
       "    <tr>\n",
       "      <th>min</th>\n",
       "      <td>1.000000</td>\n",
       "      <td>0.000000</td>\n",
       "      <td>0.00000</td>\n",
       "      <td>1.000000</td>\n",
       "      <td>9.393408e+08</td>\n",
       "    </tr>\n",
       "    <tr>\n",
       "      <th>25%</th>\n",
       "      <td>142114.250000</td>\n",
       "      <td>0.000000</td>\n",
       "      <td>0.00000</td>\n",
       "      <td>4.000000</td>\n",
       "      <td>1.271290e+09</td>\n",
       "    </tr>\n",
       "    <tr>\n",
       "      <th>50%</th>\n",
       "      <td>284227.500000</td>\n",
       "      <td>0.000000</td>\n",
       "      <td>1.00000</td>\n",
       "      <td>5.000000</td>\n",
       "      <td>1.311120e+09</td>\n",
       "    </tr>\n",
       "    <tr>\n",
       "      <th>75%</th>\n",
       "      <td>426340.750000</td>\n",
       "      <td>2.000000</td>\n",
       "      <td>2.00000</td>\n",
       "      <td>5.000000</td>\n",
       "      <td>1.332720e+09</td>\n",
       "    </tr>\n",
       "    <tr>\n",
       "      <th>max</th>\n",
       "      <td>568454.000000</td>\n",
       "      <td>866.000000</td>\n",
       "      <td>923.00000</td>\n",
       "      <td>5.000000</td>\n",
       "      <td>1.351210e+09</td>\n",
       "    </tr>\n",
       "  </tbody>\n",
       "</table>\n",
       "</div>"
      ],
      "text/plain": [
       "                  Id  HelpfulnessNumerator  HelpfulnessDenominator  \\\n",
       "count  568454.000000         568454.000000            568454.00000   \n",
       "mean   284227.500000              1.743817                 2.22881   \n",
       "std    164098.679298              7.636513                 8.28974   \n",
       "min         1.000000              0.000000                 0.00000   \n",
       "25%    142114.250000              0.000000                 0.00000   \n",
       "50%    284227.500000              0.000000                 1.00000   \n",
       "75%    426340.750000              2.000000                 2.00000   \n",
       "max    568454.000000            866.000000               923.00000   \n",
       "\n",
       "               Score          Time  \n",
       "count  568454.000000  5.684540e+05  \n",
       "mean        4.183199  1.296257e+09  \n",
       "std         1.310436  4.804331e+07  \n",
       "min         1.000000  9.393408e+08  \n",
       "25%         4.000000  1.271290e+09  \n",
       "50%         5.000000  1.311120e+09  \n",
       "75%         5.000000  1.332720e+09  \n",
       "max         5.000000  1.351210e+09  "
      ]
     },
     "execution_count": 7,
     "metadata": {},
     "output_type": "execute_result"
    }
   ],
   "source": [
    "data.describe()"
   ]
  },
  {
   "cell_type": "code",
   "execution_count": 8,
   "metadata": {},
   "outputs": [
    {
     "name": "stdout",
     "output_type": "stream",
     "text": [
      "shape:  (568411, 10)\n"
     ]
    }
   ],
   "source": [
    "cleaning = data.drop_duplicates(subset=['Text'])\n",
    "cleaning = data.dropna(axis=0)\n",
    "print(\"shape: \", cleaning.shape)"
   ]
  },
  {
   "cell_type": "code",
   "execution_count": 9,
   "metadata": {},
   "outputs": [],
   "source": [
    "## contrations to full formed phrase\n",
    "contraction_mapping = {\"ain't\": \"is not\", \"aren't\": \"are not\",\"can't\": \"cannot\", \"'cause\": \"because\", \"could've\": \"could have\", \"couldn't\": \"could not\",\n",
    "                           \"didn't\": \"did not\",  \"doesn't\": \"does not\", \"don't\": \"do not\", \"hadn't\": \"had not\", \"hasn't\": \"has not\", \"haven't\": \"have not\",\n",
    "                           \"he'd\": \"he would\",\"he'll\": \"he will\", \"he's\": \"he is\", \"how'd\": \"how did\", \"how'd'y\": \"how do you\", \"how'll\": \"how will\", \"how's\": \"how is\",\n",
    "                           \"I'd\": \"I would\", \"I'd've\": \"I would have\", \"I'll\": \"I will\", \"I'll've\": \"I will have\",\"I'm\": \"I am\", \"I've\": \"I have\", \"i'd\": \"i would\",\n",
    "                           \"i'd've\": \"i would have\", \"i'll\": \"i will\",  \"i'll've\": \"i will have\",\"i'm\": \"i am\", \"i've\": \"i have\", \"isn't\": \"is not\", \"it'd\": \"it would\",\n",
    "                           \"it'd've\": \"it would have\", \"it'll\": \"it will\", \"it'll've\": \"it will have\",\"it's\": \"it is\", \"let's\": \"let us\", \"ma'am\": \"madam\",\n",
    "                           \"mayn't\": \"may not\", \"might've\": \"might have\",\"mightn't\": \"might not\",\"mightn't've\": \"might not have\", \"must've\": \"must have\",\n",
    "                           \"mustn't\": \"must not\", \"mustn't've\": \"must not have\", \"needn't\": \"need not\", \"needn't've\": \"need not have\",\"o'clock\": \"of the clock\",\n",
    "                           \"oughtn't\": \"ought not\", \"oughtn't've\": \"ought not have\", \"shan't\": \"shall not\", \"sha'n't\": \"shall not\", \"shan't've\": \"shall not have\",\n",
    "                           \"she'd\": \"she would\", \"she'd've\": \"she would have\", \"she'll\": \"she will\", \"she'll've\": \"she will have\", \"she's\": \"she is\",\n",
    "                           \"should've\": \"should have\", \"shouldn't\": \"should not\", \"shouldn't've\": \"should not have\", \"so've\": \"so have\",\"so's\": \"so as\",\n",
    "                           \"this's\": \"this is\",\"that'd\": \"that would\", \"that'd've\": \"that would have\", \"that's\": \"that is\", \"there'd\": \"there would\",\n",
    "                           \"there'd've\": \"there would have\", \"there's\": \"there is\", \"here's\": \"here is\",\"they'd\": \"they would\", \"they'd've\": \"they would have\",\n",
    "                           \"they'll\": \"they will\", \"they'll've\": \"they will have\", \"they're\": \"they are\", \"they've\": \"they have\", \"to've\": \"to have\",\n",
    "                           \"wasn't\": \"was not\", \"we'd\": \"we would\", \"we'd've\": \"we would have\", \"we'll\": \"we will\", \"we'll've\": \"we will have\", \"we're\": \"we are\",\n",
    "                           \"we've\": \"we have\", \"weren't\": \"were not\", \"what'll\": \"what will\", \"what'll've\": \"what will have\", \"what're\": \"what are\",\n",
    "                           \"what's\": \"what is\", \"what've\": \"what have\", \"when's\": \"when is\", \"when've\": \"when have\", \"where'd\": \"where did\", \"where's\": \"where is\",\n",
    "                           \"where've\": \"where have\", \"who'll\": \"who will\", \"who'll've\": \"who will have\", \"who's\": \"who is\", \"who've\": \"who have\",\n",
    "                           \"why's\": \"why is\", \"why've\": \"why have\", \"will've\": \"will have\", \"won't\": \"will not\", \"won't've\": \"will not have\",\n",
    "                           \"would've\": \"would have\", \"wouldn't\": \"would not\", \"wouldn't've\": \"would not have\", \"y'all\": \"you all\",\n",
    "                           \"y'all'd\": \"you all would\",\"y'all'd've\": \"you all would have\",\"y'all're\": \"you all are\",\"y'all've\": \"you all have\",\n",
    "                           \"you'd\": \"you would\", \"you'd've\": \"you would have\", \"you'll\": \"you will\", \"you'll've\": \"you will have\",\n",
    "                           \"you're\": \"you are\", \"you've\": \"you have\"}"
   ]
  },
  {
   "cell_type": "code",
   "execution_count": 10,
   "metadata": {},
   "outputs": [],
   "source": [
    "def text_cleaner(text,num):\n",
    "    newString = text.lower()\n",
    "    newString = BeautifulSoup(newString, \"lxml\").text  ## html\n",
    "    newString = re.sub(r'\\([^)]*\\)', '', newString)   ## parenthesis\n",
    "    newString = re.sub('\"','', newString)   ## quotes\n",
    "    newString = ' '.join([contraction_mapping[t] if t in contraction_mapping else t for t in newString.split(\" \")])    \n",
    "    newString = re.sub(r\"'s\\b\",\"\",newString)\n",
    "    newString = re.sub(\"[^a-zA-Z]\", \" \", newString) ## non-alphabet letters\n",
    "    newString = re.sub('[m]{2,}', 'mm', newString) \n",
    "    if(num==0):\n",
    "        tokens = [w for w in newString.split() if not w in stop_words]\n",
    "    else:\n",
    "        tokens=newString.split()\n",
    "    long_words=[]\n",
    "    for i in tokens:\n",
    "        if len(i)>1:                ##removing short word\n",
    "            long_words.append(i)   \n",
    "    return (\" \".join(long_words)).strip()"
   ]
  },
  {
   "cell_type": "code",
   "execution_count": 11,
   "metadata": {},
   "outputs": [],
   "source": [
    "def clean_text(data, feature, index):\n",
    "    cleaned = []\n",
    "    count = data.shape[0]\n",
    "    for i, text in enumerate(data[feature]):\n",
    "        cleaned.append(text_cleaner(text, index))\n",
    "        print(str(i/count*100) +\"%\", sep='', end='\\r')\n",
    "    return cleaned"
   ]
  },
  {
   "cell_type": "code",
   "execution_count": 12,
   "metadata": {},
   "outputs": [
    {
     "name": "stdout",
     "output_type": "stream",
     "text": [
      "99.99982407096275%%%%%%\r"
     ]
    }
   ],
   "source": [
    "cleaned_text = clean_text(cleaning, 'Text', 0)"
   ]
  },
  {
   "cell_type": "code",
   "execution_count": 13,
   "metadata": {},
   "outputs": [
    {
     "name": "stdout",
     "output_type": "stream",
     "text": [
      "99.99982407096275%%%%%%\r"
     ]
    }
   ],
   "source": [
    "cleaned_summary = clean_text(cleaning, 'Summary', 1)"
   ]
  },
  {
   "cell_type": "code",
   "execution_count": 14,
   "metadata": {},
   "outputs": [
    {
     "data": {
      "text/plain": [
       "['bought several vitality canned dog food products found good quality product looks like stew processed meat smells better labrador finicky appreciates product better',\n",
       " 'product arrived labeled jumbo salted peanuts peanuts actually small sized unsalted sure error vendor intended represent product jumbo',\n",
       " 'confection around centuries light pillowy citrus gelatin nuts case filberts cut tiny squares liberally coated powdered sugar tiny mouthful heaven chewy flavorful highly recommend yummy treat familiar story lewis lion witch wardrobe treat seduces edmund selling brother sisters witch']"
      ]
     },
     "execution_count": 14,
     "metadata": {},
     "output_type": "execute_result"
    }
   ],
   "source": [
    "## texts\n",
    "cleaned_text[:3]"
   ]
  },
  {
   "cell_type": "code",
   "execution_count": 15,
   "metadata": {},
   "outputs": [
    {
     "data": {
      "text/plain": [
       "['good quality dog food', 'not as advertised', 'delight says it all']"
      ]
     },
     "execution_count": 15,
     "metadata": {},
     "output_type": "execute_result"
    }
   ],
   "source": [
    "## summaries\n",
    "cleaned_summary[:3]"
   ]
  },
  {
   "cell_type": "code",
   "execution_count": 16,
   "metadata": {},
   "outputs": [],
   "source": [
    "cleaning['cleaned_text']=cleaned_text\n",
    "cleaning['cleaned_summary']=cleaned_summary"
   ]
  },
  {
   "cell_type": "code",
   "execution_count": 17,
   "metadata": {},
   "outputs": [],
   "source": [
    "cleaning.replace('', np.nan, inplace=True)\n",
    "cleaning.dropna(axis=0,inplace=True)"
   ]
  },
  {
   "cell_type": "code",
   "execution_count": 18,
   "metadata": {},
   "outputs": [
    {
     "data": {
      "image/png": "[encoded data removed]",
      "text/plain": [
       "<Figure size 1440x576 with 2 Axes>"
      ]
     },
     "metadata": {},
     "output_type": "display_data"
    }
   ],
   "source": [
    "text_word_count = []\n",
    "summary_word_count = []\n",
    "\n",
    "for text in cleaning['cleaned_text']:\n",
    "    text_word_count.append(len(text.split()))\n",
    "    \n",
    "for text in cleaning['cleaned_summary']:\n",
    "    summary_word_count.append(len(text.split()))\n",
    "\n",
    "\n",
    "length_df = pd.DataFrame({'text': text_word_count, 'summary': summary_word_count})\n",
    "length_df.hist(bins=30, figsize=(20,8))\n",
    "plt.show()"
   ]
  },
  {
   "cell_type": "markdown",
   "metadata": {},
   "source": [
    "### Determine size of summaries and text"
   ]
  },
  {
   "cell_type": "code",
   "execution_count": 19,
   "metadata": {},
   "outputs": [
    {
     "name": "stdout",
     "output_type": "stream",
     "text": [
      "0.9796298546146681\n"
     ]
    }
   ],
   "source": [
    "cnt=0\n",
    "for i in cleaning['cleaned_summary']:\n",
    "    if(len(i.split())<=10):\n",
    "        cnt=cnt+1\n",
    "print(cnt/len(cleaning['cleaned_summary']))"
   ]
  },
  {
   "cell_type": "code",
   "execution_count": 20,
   "metadata": {},
   "outputs": [
    {
     "name": "stdout",
     "output_type": "stream",
     "text": [
      "0.9778849489117669\n"
     ]
    }
   ],
   "source": [
    "cnt=0\n",
    "for i in cleaning['cleaned_text']:\n",
    "    if(len(i.split())<=140):\n",
    "        cnt=cnt+1\n",
    "print(cnt/len(cleaning['cleaned_text']))"
   ]
  },
  {
   "cell_type": "code",
   "execution_count": 21,
   "metadata": {},
   "outputs": [],
   "source": [
    "max_text_len=140 ##original tweet character limit\n",
    "max_summary_len=10"
   ]
  },
  {
   "cell_type": "code",
   "execution_count": null,
   "metadata": {},
   "outputs": [],
   "source": []
  },
  {
   "cell_type": "code",
   "execution_count": 22,
   "metadata": {},
   "outputs": [],
   "source": [
    "cleaned_text =np.array(cleaning['cleaned_text'])\n",
    "cleaned_summary=np.array(cleaning['cleaned_summary'])\n",
    "\n",
    "short_text=[]\n",
    "short_summary=[]\n",
    "\n",
    "for i in range(len(cleaned_text)):\n",
    "    if(len(cleaned_summary[i].split())<=max_summary_len and len(cleaned_text[i].split())<=max_text_len):\n",
    "        short_text.append(cleaned_text[i])\n",
    "        short_summary.append(cleaned_summary[i])\n",
    "        \n",
    "df=pd.DataFrame({'text':short_text,'summary':short_summary})"
   ]
  },
  {
   "cell_type": "code",
   "execution_count": 23,
   "metadata": {},
   "outputs": [],
   "source": [
    "df['summary'] = df['summary'].apply(lambda x : 'sostok '+ x + ' eostok')"
   ]
  },
  {
   "cell_type": "code",
   "execution_count": 24,
   "metadata": {},
   "outputs": [
    {
     "data": {
      "text/html": [
       "<div>\n",
       "<style scoped>\n",
       "    .dataframe tbody tr th:only-of-type {\n",
       "        vertical-align: middle;\n",
       "    }\n",
       "\n",
       "    .dataframe tbody tr th {\n",
       "        vertical-align: top;\n",
       "    }\n",
       "\n",
       "    .dataframe thead th {\n",
       "        text-align: right;\n",
       "    }\n",
       "</style>\n",
       "<table border=\"1\" class=\"dataframe\">\n",
       "  <thead>\n",
       "    <tr style=\"text-align: right;\">\n",
       "      <th></th>\n",
       "      <th>text</th>\n",
       "      <th>summary</th>\n",
       "    </tr>\n",
       "  </thead>\n",
       "  <tbody>\n",
       "    <tr>\n",
       "      <th>0</th>\n",
       "      <td>bought several vitality canned dog food products found good quality product looks like stew processed meat smells better labrador finicky appreciates product better</td>\n",
       "      <td>sostok good quality dog food eostok</td>\n",
       "    </tr>\n",
       "    <tr>\n",
       "      <th>1</th>\n",
       "      <td>product arrived labeled jumbo salted peanuts peanuts actually small sized unsalted sure error vendor intended represent product jumbo</td>\n",
       "      <td>sostok not as advertised eostok</td>\n",
       "    </tr>\n",
       "  </tbody>\n",
       "</table>\n",
       "</div>"
      ],
      "text/plain": [
       "                                                                                                                                                                   text  \\\n",
       "0  bought several vitality canned dog food products found good quality product looks like stew processed meat smells better labrador finicky appreciates product better   \n",
       "1                                 product arrived labeled jumbo salted peanuts peanuts actually small sized unsalted sure error vendor intended represent product jumbo   \n",
       "\n",
       "                               summary  \n",
       "0  sostok good quality dog food eostok  \n",
       "1      sostok not as advertised eostok  "
      ]
     },
     "execution_count": 24,
     "metadata": {},
     "output_type": "execute_result"
    }
   ],
   "source": [
    "df.head(2)"
   ]
  },
  {
   "cell_type": "markdown",
   "metadata": {},
   "source": [
    "### Splitting into train and test"
   ]
  },
  {
   "cell_type": "code",
   "execution_count": 25,
   "metadata": {},
   "outputs": [],
   "source": [
    "x_train, x_val, y_train, y_val = train_test_split(np.array(df['text']), np.array(df['summary']), \\\n",
    "                                                  test_size=0.2, random_state=0, shuffle=True) "
   ]
  },
  {
   "cell_type": "markdown",
   "metadata": {},
   "source": [
    "### tokenize text"
   ]
  },
  {
   "cell_type": "code",
   "execution_count": 26,
   "metadata": {},
   "outputs": [],
   "source": [
    "x_tokenizer = Tokenizer()\n",
    "x_tokenizer.fit_on_texts(list(x_train))"
   ]
  },
  {
   "cell_type": "code",
   "execution_count": 27,
   "metadata": {},
   "outputs": [
    {
     "name": "stdout",
     "output_type": "stream",
     "text": [
      "% of rare words in vocabulary: 43.84752720927183\n",
      "Total Coverage of rare words: 0.29215902833566204\n"
     ]
    }
   ],
   "source": [
    "thresh=2\n",
    "\n",
    "cnt=0\n",
    "tot_cnt=0\n",
    "freq=0\n",
    "tot_freq=0\n",
    "\n",
    "for key,value in x_tokenizer.word_counts.items():\n",
    "    tot_cnt=tot_cnt+1\n",
    "    tot_freq=tot_freq+value\n",
    "    if(value<thresh):\n",
    "        cnt=cnt+1\n",
    "        freq=freq+value\n",
    "    \n",
    "print(\"% of rare words in vocabulary:\",(cnt/tot_cnt)*100)\n",
    "print(\"Total Coverage of rare words:\",(freq/tot_freq)*100)"
   ]
  },
  {
   "cell_type": "code",
   "execution_count": 28,
   "metadata": {},
   "outputs": [
    {
     "data": {
      "text/plain": [
       "55670"
      ]
     },
     "execution_count": 28,
     "metadata": {},
     "output_type": "execute_result"
    }
   ],
   "source": [
    "#prepare a tokenizer for reviews on training data\n",
    "x_tokenizer = Tokenizer(num_words=tot_cnt-cnt) \n",
    "x_tokenizer.fit_on_texts(list(x_train))\n",
    "\n",
    "#convert text sequences into integer sequences\n",
    "x_train_seq    =   x_tokenizer.texts_to_sequences(x_train) \n",
    "x_val_seq   =   x_tokenizer.texts_to_sequences(x_val)\n",
    "\n",
    "#padding zero upto maximum length\n",
    "x_train    =   pad_sequences(x_train_seq,  maxlen=max_text_len, padding='post')\n",
    "x_val   =   pad_sequences(x_val_seq, maxlen=max_text_len, padding='post')\n",
    "\n",
    "#size of vocabulary ( +1 for padding token)\n",
    "x_voc   =  x_tokenizer.num_words + 1\n",
    "x_voc"
   ]
  },
  {
   "cell_type": "code",
   "execution_count": null,
   "metadata": {},
   "outputs": [],
   "source": []
  },
  {
   "cell_type": "markdown",
   "metadata": {},
   "source": [
    "### tokenize summary"
   ]
  },
  {
   "cell_type": "code",
   "execution_count": 29,
   "metadata": {},
   "outputs": [],
   "source": [
    "y_tokenizer = Tokenizer()   \n",
    "y_tokenizer.fit_on_texts(list(y_train))"
   ]
  },
  {
   "cell_type": "code",
   "execution_count": 30,
   "metadata": {},
   "outputs": [
    {
     "name": "stdout",
     "output_type": "stream",
     "text": [
      "% of rare words in vocabulary: 42.915752988611445\n",
      "Total Coverage of rare words: 0.48205445618306153\n"
     ]
    }
   ],
   "source": [
    "thresh=2\n",
    "\n",
    "cnt=0\n",
    "tot_cnt=0\n",
    "freq=0\n",
    "tot_freq=0\n",
    "\n",
    "for key,value in y_tokenizer.word_counts.items():\n",
    "    tot_cnt=tot_cnt+1\n",
    "    tot_freq=tot_freq+value\n",
    "    if(value<thresh):\n",
    "        cnt=cnt+1\n",
    "        freq=freq+value\n",
    "    \n",
    "print(\"% of rare words in vocabulary:\",(cnt/tot_cnt)*100)\n",
    "print(\"Total Coverage of rare words:\",(freq/tot_freq)*100)"
   ]
  },
  {
   "cell_type": "code",
   "execution_count": 31,
   "metadata": {},
   "outputs": [
    {
     "data": {
      "text/plain": [
       "16141"
      ]
     },
     "execution_count": 31,
     "metadata": {},
     "output_type": "execute_result"
    }
   ],
   "source": [
    "#prepare a tokenizer for reviews on training data\n",
    "y_tokenizer = Tokenizer(num_words=tot_cnt-cnt) \n",
    "y_tokenizer.fit_on_texts(list(y_train))\n",
    "\n",
    "#convert text sequences into integer sequences\n",
    "y_train_seq    =   y_tokenizer.texts_to_sequences(y_train) \n",
    "y_val_seq   =   y_tokenizer.texts_to_sequences(y_val) \n",
    "\n",
    "#padding zero upto maximum length\n",
    "y_train    =   pad_sequences(y_train_seq, maxlen=max_summary_len, padding='post')\n",
    "y_val   =   pad_sequences(y_val_seq, maxlen=max_summary_len, padding='post')\n",
    "\n",
    "#size of vocabulary\n",
    "y_voc  =   y_tokenizer.num_words +1\n",
    "y_voc"
   ]
  },
  {
   "cell_type": "code",
   "execution_count": 32,
   "metadata": {},
   "outputs": [
    {
     "data": {
      "text/plain": [
       "(436099, 436099)"
      ]
     },
     "execution_count": 32,
     "metadata": {},
     "output_type": "execute_result"
    }
   ],
   "source": [
    "y_tokenizer.word_counts['sostok'],len(y_train) "
   ]
  },
  {
   "cell_type": "code",
   "execution_count": 33,
   "metadata": {},
   "outputs": [],
   "source": [
    "## delete entries with just start and end tokens\n",
    "ind=[]\n",
    "for i in range(len(y_train)):\n",
    "    cnt=0\n",
    "    for j in y_train[i]:\n",
    "        if j!=0:\n",
    "            cnt=cnt+1\n",
    "    if(cnt==2):\n",
    "        ind.append(i)\n",
    "\n",
    "y_train=np.delete(y_train,ind, axis=0)\n",
    "x_train=np.delete(x_train,ind, axis=0)"
   ]
  },
  {
   "cell_type": "code",
   "execution_count": 34,
   "metadata": {},
   "outputs": [],
   "source": [
    "## delete entries with just start and end tokens\n",
    "ind=[]\n",
    "for i in range(len(y_val)):\n",
    "    cnt=0\n",
    "    for j in y_val[i]:\n",
    "        if j!=0:\n",
    "            cnt=cnt+1\n",
    "    if(cnt==2):\n",
    "        ind.append(i)\n",
    "\n",
    "y_val=np.delete(y_val,ind, axis=0)\n",
    "x_val=np.delete(x_val,ind, axis=0)"
   ]
  },
  {
   "cell_type": "code",
   "execution_count": null,
   "metadata": {},
   "outputs": [],
   "source": []
  },
  {
   "cell_type": "markdown",
   "metadata": {},
   "source": [
    "### plotting"
   ]
  },
  {
   "cell_type": "code",
   "execution_count": 35,
   "metadata": {},
   "outputs": [],
   "source": [
    "def plotloss(history_dict):\n",
    "    acc = history_dict['acc']\n",
    "    loss_values = history_dict['loss']\n",
    "#     val_loss_values = history_dict['val_loss']\n",
    "    epochs = range(1, len(acc) + 1)\n",
    "\n",
    "    plt.figure(figsize=(16, 10))\n",
    "    plt.plot(epochs, loss_values, 'r', label='Training loss')\n",
    "#     plt.plot(epochs, val_loss_values, 'g', label='Validation loss')\n",
    "    plt.title('Training and validation loss')\n",
    "    plt.xlabel('Epochs')\n",
    "    plt.ylabel('Loss')\n",
    "    plt.legend()\n",
    "    plt.show()\n",
    "    \n",
    "def plotacc(history):\n",
    "    acc = history.history['acc']\n",
    "#     val_acc = history.history['val_acc']\n",
    "    epochs = range(1, len(acc) + 1)\n",
    "\n",
    "    plt.figure(figsize=(16, 10))\n",
    "    plt.plot(epochs, acc, 'r', label='Training acc')\n",
    "#     plt.plot(epochs, val_acc, 'g', label='Validation acc')\n",
    "    plt.title('Training and validation accuracy')\n",
    "    plt.xlabel('Epochs')\n",
    "    plt.ylabel('Loss')\n",
    "    plt.legend()\n",
    "    plt.show()"
   ]
  },
  {
   "cell_type": "markdown",
   "metadata": {},
   "source": [
    "### my computer doesn't like tensorflow after I play a game or use the gpu "
   ]
  },
  {
   "cell_type": "code",
   "execution_count": 36,
   "metadata": {},
   "outputs": [],
   "source": [
    "import gc\n",
    "from numba import cuda"
   ]
  },
  {
   "cell_type": "code",
   "execution_count": 37,
   "metadata": {},
   "outputs": [],
   "source": [
    "# K.clear_session()\n",
    "# gc.collect()\n",
    "\n",
    "# cuda.select_device(0)\n",
    "# cuda.close()"
   ]
  },
  {
   "cell_type": "code",
   "execution_count": 36,
   "metadata": {},
   "outputs": [
    {
     "name": "stdout",
     "output_type": "stream",
     "text": [
      "Gpus: [PhysicalDevice(name='/physical_device:GPU:0', device_type='GPU')]\n",
      "1 Physical GPUs, 1 Logical GPUs\n"
     ]
    }
   ],
   "source": [
    "gpus = tf.config.experimental.list_physical_devices('GPU')\n",
    "print(\"Gpus:\", str(gpus))\n",
    "if gpus:\n",
    "    try:\n",
    "        # Restrict TensorFlow to only use the fourth GPU\n",
    "        tf.config.experimental.set_visible_devices(gpus[0], 'GPU')\n",
    "\n",
    "        # Currently, memory growth needs to be the same across GPUs\n",
    "        for gpu in gpus:\n",
    "            tf.config.experimental.set_memory_growth(gpu, True)\n",
    "        logical_gpus = tf.config.experimental.list_logical_devices('GPU')\n",
    "        print(len(gpus), \"Physical GPUs,\", len(logical_gpus), \"Logical GPUs\")\n",
    "    except RuntimeError as e:\n",
    "        # Memory growth must be set before GPUs have been initialized\n",
    "        print(e)"
   ]
  },
  {
   "cell_type": "markdown",
   "metadata": {},
   "source": [
    "## Model"
   ]
  },
  {
   "cell_type": "code",
   "execution_count": null,
   "metadata": {},
   "outputs": [],
   "source": []
  },
  {
   "cell_type": "code",
   "execution_count": 37,
   "metadata": {},
   "outputs": [
    {
     "name": "stdout",
     "output_type": "stream",
     "text": [
      "Model: \"model\"\n",
      "__________________________________________________________________________________________________\n",
      "Layer (type)                    Output Shape         Param #     Connected to                     \n",
      "==================================================================================================\n",
      "input_1 (InputLayer)            [(None, 140)]        0                                            \n",
      "__________________________________________________________________________________________________\n",
      "embedding (Embedding)           (None, 140, 100)     5567000     input_1[0][0]                    \n",
      "__________________________________________________________________________________________________\n",
      "lstm (LSTM)                     [(None, 140, 300), ( 481200      embedding[0][0]                  \n",
      "__________________________________________________________________________________________________\n",
      "input_2 (InputLayer)            [(None, None)]       0                                            \n",
      "__________________________________________________________________________________________________\n",
      "lstm_1 (LSTM)                   [(None, 140, 300), ( 721200      lstm[0][0]                       \n",
      "__________________________________________________________________________________________________\n",
      "embedding_1 (Embedding)         (None, None, 100)    1614100     input_2[0][0]                    \n",
      "__________________________________________________________________________________________________\n",
      "lstm_2 (LSTM)                   [(None, 140, 300), ( 721200      lstm_1[0][0]                     \n",
      "__________________________________________________________________________________________________\n",
      "lstm_3 (LSTM)                   [(None, None, 300),  481200      embedding_1[0][0]                \n",
      "                                                                 lstm_2[0][1]                     \n",
      "                                                                 lstm_2[0][2]                     \n",
      "__________________________________________________________________________________________________\n",
      "attention_layer (AttentionLayer ((None, None, 300),  180300      lstm_2[0][0]                     \n",
      "                                                                 lstm_3[0][0]                     \n",
      "__________________________________________________________________________________________________\n",
      "concat_layer (Concatenate)      (None, None, 600)    0           lstm_3[0][0]                     \n",
      "                                                                 attention_layer[0][0]            \n",
      "__________________________________________________________________________________________________\n",
      "time_distributed (TimeDistribut (None, None, 16141)  9700741     concat_layer[0][0]               \n",
      "==================================================================================================\n",
      "Total params: 19,466,941\n",
      "Trainable params: 19,466,941\n",
      "Non-trainable params: 0\n",
      "__________________________________________________________________________________________________\n"
     ]
    }
   ],
   "source": [
    "K.clear_session()\n",
    "    \n",
    "latent_dim = 300\n",
    "embedding_dim=100\n",
    "\n",
    "# Encoder\n",
    "encoder_inputs = Input(shape=(max_text_len,))\n",
    "\n",
    "#embedding layer\n",
    "enc_emb =  Embedding(x_voc, embedding_dim, trainable=True)(encoder_inputs)\n",
    "\n",
    "#encoder lstm 1\n",
    "encoder_lstm1 = LSTM(latent_dim,return_sequences=True,return_state=True,dropout=0.4,recurrent_dropout=0.4)\n",
    "encoder_output1, state_h1, state_c1 = encoder_lstm1(enc_emb)\n",
    "\n",
    "#encoder lstm 2\n",
    "encoder_lstm2 = LSTM(latent_dim,return_sequences=True,return_state=True,dropout=0.4,recurrent_dropout=0.4)\n",
    "encoder_output2, state_h2, state_c2 = encoder_lstm2(encoder_output1)\n",
    "\n",
    "#encoder lstm 3\n",
    "encoder_lstm3=LSTM(latent_dim, return_state=True, return_sequences=True,dropout=0.4,recurrent_dropout=0.4)\n",
    "encoder_outputs, state_h, state_c= encoder_lstm3(encoder_output2)\n",
    "\n",
    "# Set up the decoder, using `encoder_states` as initial state.\n",
    "decoder_inputs = Input(shape=(None,))\n",
    "\n",
    "#embedding layer\n",
    "dec_emb_layer = Embedding(y_voc, embedding_dim,trainable=True)\n",
    "dec_emb = dec_emb_layer(decoder_inputs)\n",
    "\n",
    "decoder_lstm = LSTM(latent_dim, return_sequences=True, return_state=True,dropout=0.4,recurrent_dropout=0.2)\n",
    "decoder_outputs,decoder_fwd_state, decoder_back_state = decoder_lstm(dec_emb,initial_state=[state_h, state_c])\n",
    "\n",
    "# Attention layer\n",
    "attn_layer = AttentionLayer(name='attention_layer')\n",
    "attn_out, attn_states = attn_layer([encoder_outputs, decoder_outputs])\n",
    "\n",
    "# Concat attention input and decoder LSTM output\n",
    "decoder_concat_input = Concatenate(axis=-1, name='concat_layer')([decoder_outputs, attn_out])\n",
    "\n",
    "#dense layer\n",
    "decoder_dense =  TimeDistributed(Dense(y_voc, activation='softmax'))\n",
    "decoder_outputs = decoder_dense(decoder_concat_input)\n",
    "\n",
    "# Define the model \n",
    "model = Model([encoder_inputs, decoder_inputs], decoder_outputs)\n",
    "\n",
    "model.summary() \n"
   ]
  },
  {
   "cell_type": "code",
   "execution_count": 121,
   "metadata": {},
   "outputs": [],
   "source": [
    "model.load_weights('fp_m1_50.h5')"
   ]
  },
  {
   "cell_type": "code",
   "execution_count": null,
   "metadata": {},
   "outputs": [],
   "source": []
  },
  {
   "cell_type": "code",
   "execution_count": null,
   "metadata": {},
   "outputs": [],
   "source": []
  },
  {
   "cell_type": "markdown",
   "metadata": {},
   "source": [
    "### Testing the model outputs"
   ]
  },
  {
   "cell_type": "code",
   "execution_count": 114,
   "metadata": {},
   "outputs": [],
   "source": [
    "reverse_target_word_index=y_tokenizer.index_word\n",
    "reverse_source_word_index=x_tokenizer.index_word\n",
    "target_word_index=y_tokenizer.word_index"
   ]
  },
  {
   "cell_type": "code",
   "execution_count": 41,
   "metadata": {},
   "outputs": [],
   "source": [
    "# Encode the input sequence to get the feature vector\n",
    "encoder_model = Model(inputs=encoder_inputs,outputs=[encoder_outputs, state_h, state_c])\n",
    "\n",
    "# Decoder setup\n",
    "# Below tensors will hold the states of the previous time step\n",
    "decoder_state_input_h = Input(shape=(latent_dim,))\n",
    "decoder_state_input_c = Input(shape=(latent_dim,))\n",
    "decoder_hidden_state_input = Input(shape=(max_text_len,latent_dim))\n",
    "\n",
    "# Get the embeddings of the decoder sequence\n",
    "dec_emb2= dec_emb_layer(decoder_inputs) \n",
    "# To predict the next word in the sequence, set the initial states to the states from the previous time step\n",
    "decoder_outputs2, state_h2, state_c2 = decoder_lstm(dec_emb2, initial_state=[decoder_state_input_h, decoder_state_input_c])\n",
    "\n",
    "#attention inference\n",
    "attn_out_inf, attn_states_inf = attn_layer([decoder_hidden_state_input, decoder_outputs2])\n",
    "decoder_inf_concat = Concatenate(axis=-1, name='concat')([decoder_outputs2, attn_out_inf])\n",
    "\n",
    "# A dense softmax layer to generate prob dist. over the target vocabulary\n",
    "decoder_outputs2 = decoder_dense(decoder_inf_concat) \n",
    "\n",
    "# Final decoder model\n",
    "decoder_model = Model(\n",
    "    [decoder_inputs] + [decoder_hidden_state_input,decoder_state_input_h, decoder_state_input_c],\n",
    "    [decoder_outputs2] + [state_h2, state_c2])"
   ]
  },
  {
   "cell_type": "code",
   "execution_count": 42,
   "metadata": {},
   "outputs": [],
   "source": [
    "def decode_sequence(input_seq):\n",
    "    # Encode the input as state vectors.\n",
    "    e_out, e_h, e_c = encoder_model.predict(input_seq)\n",
    "    \n",
    "    # Generate empty target sequence of length 1.\n",
    "    target_seq = np.zeros((1,1))\n",
    "    \n",
    "    # Populate the first word of target sequence with the start word.\n",
    "    target_seq[0, 0] = target_word_index['sostok']\n",
    "\n",
    "    stop_condition = False\n",
    "    decoded_sentence = ''\n",
    "    while not stop_condition:\n",
    "      \n",
    "        output_tokens, h, c = decoder_model.predict([target_seq] + [e_out, e_h, e_c])\n",
    "\n",
    "        # Sample a token\n",
    "        sampled_token_index = np.argmax(output_tokens[0, -1, :])\n",
    "        sampled_token = reverse_target_word_index[sampled_token_index]\n",
    "        \n",
    "        if(sampled_token!='eostok'):\n",
    "            decoded_sentence += ' '+sampled_token\n",
    "\n",
    "        # Exit condition: either hit max length or find stop word.\n",
    "        if (sampled_token == 'eostok'  or len(decoded_sentence.split()) >= (max_summary_len-1)):\n",
    "            stop_condition = True\n",
    "\n",
    "        # Update the target sequence (of length 1).\n",
    "        target_seq = np.zeros((1,1))\n",
    "        target_seq[0, 0] = sampled_token_index\n",
    "\n",
    "        # Update internal states\n",
    "        e_h, e_c = h, c\n",
    "\n",
    "    return decoded_sentence"
   ]
  },
  {
   "cell_type": "code",
   "execution_count": 43,
   "metadata": {},
   "outputs": [],
   "source": [
    "def seq2summary(input_seq):\n",
    "    newString=''\n",
    "    for i in input_seq:\n",
    "        if((i!=0 and i!=target_word_index['sostok']) and i!=target_word_index['eostok']):\n",
    "            newString=newString+reverse_target_word_index[i]+' '\n",
    "    return newString\n",
    "\n",
    "def seq2text(input_seq):\n",
    "    newString=''\n",
    "    for i in input_seq:\n",
    "        if(i!=0):\n",
    "            newString=newString+reverse_source_word_index[i]+' '\n",
    "    return newString"
   ]
  },
  {
   "cell_type": "code",
   "execution_count": 115,
   "metadata": {},
   "outputs": [
    {
     "name": "stdout",
     "output_type": "stream",
     "text": [
      "Review: okay expecting crunchy type dried strawberries maybe missed something reading description also sweet son liked gave aware berries coated sugar \n",
      "Predicted summary:  not what expected\n",
      "\n",
      "\n",
      "Review: yeast extract listed ingredient sounds harmless right specifically chips contain autolyzed yeast extract chemical level monosodium glutamate derived different source toxic properties kettle still advertises products containing msg acknowledge chips safe people msg sensitivities \n",
      "Predicted summary:  organic corn chips\n",
      "\n",
      "\n",
      "Review: loved flowers however error order unable reach live person correct even though wrote email left several voice mails hour order placed still waiting refund order placed error soon battle guess used company past like product able contact anyone change order unsatisfying get promised refund use vendor \n",
      "Predicted summary:  great product but not the best\n",
      "\n",
      "\n",
      "Review: searched decaf deep flavor great taste coffee barely miss caffeine since brewing glad found via amazon cannot miss brand \n",
      "Predicted summary:  great decaf\n",
      "\n",
      "\n",
      "Review: started weight watchers realized drinking lot points putting flavored creamers coffee morning found another solution point coffee instead flavored creamer use coffee mate fat free original plus one splenda vanilla packets turns point cup coffee points without losing much flavor previously enjoyed great product wish grocery stores carried \n",
      "Predicted summary:  great coffee\n",
      "\n",
      "\n",
      "Review: green color bit weird funny flavor works taking product improved recovery time like vegan added fiber added bonus get amount protein soy eat mixed almond hemp milk quite drinkable grainy needs mixed well clump like soy protein easy digest added sugar additives protein fiber pretty good mix careful mix mix according directions bottle problems makes good workout snack \n",
      "Predicted summary:  good but not great\n",
      "\n",
      "\n",
      "Review: coffee one smoothest ever purchased use make latte every morning good flavor never bitter like espresso coffee decaf also great \n",
      "Predicted summary:  best decaf ever\n",
      "\n",
      "\n",
      "Review: great product completely get rid hot flashes night sweats seriously reduces number intensity tried everything else thing made difference get reasonable sleep night \n",
      "Predicted summary:  sage tea\n",
      "\n",
      "\n",
      "Review: since child fifties drank orange soda mini mug packaged \n",
      "Predicted summary:  great soda\n",
      "\n",
      "\n",
      "Review: tell fresh piece pop one moth flavor fresh gum soft chew smooth hmm hmm gum heaven \n",
      "Predicted summary:  gum\n",
      "\n",
      "\n",
      "Review: got sodastream birthday comes pack syrup sampler diet syrups regular syrups tried diet caffeine free syrups none come close tasting anything good diet drinks buy grocery store even store brands taste better sodastream diet drinks remind pre nutrasweet sodas used saccharine sweetener use soda stream make seltzer great job experimenting using drink mixes like crystal light work ok disclaimer one folks get bad aftertaste splenda splenda sweetener used diet sodastream drink syrups \n",
      "Predicted summary:  not bad\n",
      "\n",
      "\n",
      "Review: really delicious earthy herbal tea every cup makes feel warm comfy love definitely repeat order \n",
      "Predicted summary:  my favorite herbal tea\n",
      "\n",
      "\n",
      "Review: good quick cup coffee slightly different flavor blend quite enough really make huge impact taste \n",
      "Predicted summary:  good coffee\n",
      "\n",
      "\n",
      "Review: gift helps everyone gave women bean soups dips salsas extended family christmas everyone loved gift simplified shopping felt like helping really need help \n",
      "Predicted summary:  great gift\n",
      "\n",
      "\n",
      "Review: cat isabel struggled uti weight issues years vet recommended wet food diet experimented variety brands could never find wet food made isabel feel full spend rest day begging us food tried wellness canned food isabel loves great wellness fills stopped constantly begging food started lose weight dandruff going away longer lethargic started play generally seems like happier cat chronic uti finally cleared give mostly wellness canned food little bit dry food mixed still primary source food happy first made switch \n",
      "Predicted summary:  great food for my cat\n",
      "\n",
      "\n",
      "Review: love lavazza coffee especially espresso black crema gusto tierra slightly costly though proceeds go worthy cause worth terms flavor like lavazza stronger \n",
      "Predicted summary:  great espresso\n",
      "\n",
      "\n",
      "Review: meat moist like type beef jerky tried taste fast shipping \n",
      "Predicted summary:  great jerky\n",
      "\n",
      "\n",
      "Review: great product use pre post workout everything need even fibers tried lot meal replacement one best taste great \n",
      "Predicted summary:  great product\n",
      "\n",
      "\n",
      "Review: love tea drink every day pour water tea already dark think teabag contains twice amount tea american canadian company teabag opinion perfect \n",
      "Predicted summary:  great tea\n",
      "\n",
      "\n",
      "Review: food great cats gotten completely addicted amazon bother mention quantities limited buying food cats months comprises roughly half diet went order repeatedly told problem long story phone calls plus emails later told bought lifetime maximum product ordered almost twice price via marketplace furious amazon nowhere page tell limit tell food great get used buying \n",
      "Predicted summary:  great product but the price is wrong\n",
      "\n",
      "\n",
      "Review: hairy kids dogs love rescued dogs cats life compared alot brands happy one \n",
      "Predicted summary:  dogs love it\n",
      "\n",
      "\n",
      "Review: dog loves gets probably per day lb dog use small size reward without feeding note large box good value would guess times many biscuits size box would normally find grocery store twice price \n",
      "Predicted summary:  great product\n",
      "\n",
      "\n",
      "Review: jerky recommended nutritionist unlike jerky contains sugar harmful additives tastes great \n",
      "Predicted summary:  great jerky\n",
      "\n",
      "\n",
      "Review: like things product contain company missed one thing good taste jerky almost medicinal type flavor little heat thrown try mask awfulness could disappointed purchase would return amazon cheap pay shipping highly suggest try find brand locally test buying bulk \n",
      "Predicted summary:  not the best\n",
      "\n",
      "\n",
      "Review: best healthy shake ever everyone family loves creamy sweet chocolaty perfect vanilla flavor creamy still tasty bit expensive worth every penny tried shakes like \n",
      "Predicted summary:  best protein shake\n",
      "\n",
      "\n",
      "Review: disappointed tea taste better liptons yellow label tea expected stash loose tea since good expereience tea bags \n",
      "Predicted summary:  not the best\n",
      "\n",
      "\n",
      "Review: horrified find product made china realizing give month old baby liked watch closely pieces easily break dissolve quickly enough choked luckily able cough piece cracker \n",
      "Predicted summary:  made in china\n",
      "\n",
      "\n",
      "Review: use litter ferrets pretty good soaks odor use multiple ferrets guess problem smell litter strong first use \n",
      "Predicted summary:  great product\n",
      "\n",
      "\n",
      "Review: glad finally see amazon selling fulfilling product buying albertsons lately getting roughly price amazon course pay sales tax get shipped via ups nd day air free since amazon prime member hope amazon lowers price well making one subscribe save products ordered packs lemon chocolate spearmint happy lower around less per bottle would order stuff like crazy hate drinking regular water seriously trying get diet sodas wondering chocolate flavor awesome sounds nasty actually good taste bit like drinking water one green andes candies mouth trying cut even get sweets good water drink actually satisfies sweet cravings \n",
      "Predicted summary:  great taste and value\n",
      "\n",
      "\n",
      "Review: know dog treat might mistaken piece plastic one kids many toys solid therefore keeps dog busy awhile great loves best part though scent got lovely scent warm spice smell bad crumble ideal popping pocket way dog \n",
      "Predicted summary:  great toy\n",
      "\n",
      "\n",
      "Review: beans hard impossible find usa alfa brand bean directly greece fantastic product \n",
      "Predicted summary:  beans\n",
      "\n",
      "\n",
      "Review: good flavor stronger expected first gulp much better newman also good warm kahlua clod night \n",
      "Predicted summary:  good coffee\n",
      "\n",
      "\n",
      "Review: opened carton found packets consisting clear packet containing described pasta similarity orzo paper packet labeled type seasoning silver foil packet held cheese another paper packet marked broccoli misnomer contents clearly appeared sawdust green shingle chicken much truth advertising actually broccoli either sawdust apparently swept floor went publix bought chicken followed instructions back box course add sawdust adding cheese tried sample edible much flavor ok great shakes reason three stars added ro tel diced tomatoes green chiles topped favorite seasonings crumbled publix saltines result much improved meal significantly improved taste actually cannot see reason buying product would better buy orzo chicken favorite type cheese likely seasonings already want add brocolli buy fresh steam minutes throw mix add whatever imagination taste buds find pleasurable far superior meal \n"
     ]
    },
    {
     "name": "stdout",
     "output_type": "stream",
     "text": [
      "Predicted summary:  not the best\n",
      "\n",
      "\n",
      "Review: love sooo delicious even better healing properties like oral tea tree oil cool altho consider one important medicinal things take day actually tsp morning night keep us healthy also protected bugs going around inside amazing used band aid like hold mouth swish around even gargle little swallowing savor flavor work anti germ viral magic mucous membranes also gets absorbed faster way friend mine mixes unique honey braggs apple cider vinegar part ultimate health strategy thank airborne amazon person purchased repeat customer long available think would make excellent unique christmas gift \n",
      "Predicted summary:  delicious\n",
      "\n",
      "\n",
      "Review: good oil decent price want spend bit also like colavita extra virgin olive oil around always use subscription stop whenever want \n",
      "Predicted summary:  great olive oil\n",
      "\n",
      "\n",
      "Review: water refreshing chilled refrigerator however tendency carry bottle til gone means might minutes perhaps hours care water room temperature metallic taste however considering benefits ph balance probably still buy small bottles \n",
      "Predicted summary:  water\n",
      "\n",
      "\n",
      "Review: review regarding cookie price set seller cookie fantastic perfect little treat three cookies calories since trying watch weight eat one calories perfect times need something sugary chocolately eat one blow entire day dieting yum yum \n",
      "Predicted summary:  delicious cookies\n",
      "\n",
      "\n",
      "Review: always enjoyed international coffee line made nice treat holidays wanted cup coffee want brew whole pot right amount peppermint flavor overwhelm coffee \n",
      "Predicted summary:  great coffee\n",
      "\n",
      "\n",
      "Review: like others said description states quantity receive big rip order cups amazon anymore buyer beware \n",
      "Predicted summary:  rip off\n",
      "\n",
      "\n",
      "Review: ordered bags arrived full worms bags would order \n",
      "Predicted summary:  not what expected\n",
      "\n",
      "\n",
      "Review: use food two welsh corgis one food allergies cannot chicken slightly sensitive stomach non baked version work food half inch diameter forces chew rather gulp like tend like even smaller dogs love think better grade non super premium foods without hype skin coats perfect food regular order list \n",
      "Predicted summary:  great food for dogs\n",
      "\n",
      "\n",
      "Review: ordered eden organic pinto beans ounce boxes eden organic black beans ounce boxes quality beans great opinion course love organic another reviewer said thought beans date thought date contacting company though edenfoods com found dates confusing packaging saw best de figured expired december customer service representative contacted said first two digits represent year meaning beans good december good know contact edenfoods com responded quickly answer within half day buying \n",
      "Predicted summary:  beans\n",
      "\n",
      "\n",
      "Review: decaf tea excellent best ever found love pg tips decaf good regular \n",
      "Predicted summary:  best decaf\n",
      "\n",
      "\n",
      "Review: bought work since charge keeping candy dish full love cant beat price fav reds much better get co workers happy buy candy every week month none candies stale bags expire another year amazon saved day \n",
      "Predicted summary:  great candy\n",
      "\n",
      "\n",
      "Review: disappointed flavor lack therof stash usually dependable products real letdown \n",
      "Predicted summary:  not what expected\n",
      "\n",
      "\n",
      "Review: picture shows old package coffee could find anywhere reason made order dissapointed receive diffent jars turned product \n",
      "Predicted summary:  not what expected\n",
      "\n",
      "\n",
      "Review: learned product friends loved later visited winery college station texas used wine tasting also sold aerator tower holds aerator researched product although different ones claim serve purpose venturi seems best job probably winery prefers make wines taste even better people purchasing frequently winery impressed improvement wine flavor trying without tasting getting whole set price tax free amazon made love even \n",
      "Predicted summary:  great product\n",
      "\n",
      "\n",
      "Review: bars perfect grab go morning afternoon addition lunch crunchy hint sweetness cranberries tried flavors intend give shot low carb option bar \n",
      "Predicted summary:  great snack\n",
      "\n",
      "\n",
      "Review: wanting switch dog onto different type chew treat found vegetables keep gi tract good order made usa loves break small inches pieces give day last long rawhide fiber great give doggie heimlich maneuvers choking since made switch going try products company \n",
      "Predicted summary:  my dog loves these\n",
      "\n",
      "\n",
      "Review: coffee starbucks brand natural fusions vanilla ground coffee smells incredible open bag even better coffee brewing coffee done brewing entire house smelled like inside starbucks coffee store excellent taste taste something disappointment coffee definite bitter edge vanilla aspect extremely light definitely overpowered bitterness going house party would probably brew coffee way smells creates great party like atmosphere day day coffee drinking enjoyment starbucks natural fusions ground coffee vanilla flavored probably live expectations gourmet coffee drinkers \n",
      "Predicted summary:  not the best\n",
      "\n",
      "\n",
      "Review: seller delivery really slow cannot track still arrive two weeks know product turkey specific gum green tea flavor also find falim gum without flavor product also free sugar products wonder gum tastes gum love us canada actually chewing plastics sugar real gum strongly advise turkish product name means fortune every single gum wrapped paper tells fortune fun turkish \n",
      "Predicted summary:  great gum\n",
      "\n",
      "\n",
      "Review: could get around place got amazon sugar sweet got taste chewy texture beyond great never liked mango definitely something go \n",
      "Predicted summary:  great taste\n",
      "\n",
      "\n",
      "Review: roasted coconut chips absolutely fabulous nice little snack treat creamy taste crispy texture true coconut flavor preservatives \n",
      "Predicted summary:  delicious\n",
      "\n",
      "\n",
      "Review: brew bunn mc coffee pod brewer think good flavor say decaf would know also keurig buying many kcups outrageous prices although use solofill keurig alternate pod coffee kcups bag coffee use solofill adapter cannot understand people realize pods cups two different things pods fit kcup device unless pod holster use like bunn cafe coffee worth try want decent decaf \n",
      "Predicted summary:  good coffee but not the best\n",
      "\n",
      "\n",
      "Review: father law recommended get flax seed mill part healthier nutritious diet ordered flax seed mill noticed muffin recipe back wanted try especially wonderful reviews one problem gotten oat bran ordered tried muffin recipe whoa absolutely fantastic tried hot cereal adding tbsp flax seed mill dash salt chopped walnuts frozen blueberries touch maple syrup stuff tasty bowl breakfast maybe bowl lunch light filling without making full rest assured knowing getting fiber need day keeps regular cholesterol check happy gal \n",
      "Predicted summary:  great product\n",
      "\n",
      "\n",
      "Review: nuts great little small tasty arrived days ordered soooo much cheaper market \n",
      "Predicted summary:  nuts\n",
      "\n",
      "\n",
      "Review: jerky recommended nutritionist unlike jerky contains sugar harmful additives tastes great \n",
      "Predicted summary:  great jerky\n",
      "\n",
      "\n",
      "Review: breast cancer survivor aware organic foods drinks paul newman products among favorites \n",
      "Predicted summary:  great product\n",
      "\n",
      "\n",
      "Review: pretty big fan traditional tea figured would green tea mango pieces later found reading ingredients herbs like chamomile rose hips etc tea taste horrible thought box sort misleading amazon community aware additions \n",
      "Predicted summary:  not the same tea\n",
      "\n",
      "\n",
      "Review: bought one stash teas remember one contained gluten gluten intolerant never expected tea contain gluten reason tea contain gluten celiacs beware \n",
      "Predicted summary:  not gluten free\n",
      "\n",
      "\n",
      "Review: yeast made mexico use date got realized could purchased pouches going send back postage figured might well keep try seems work well also ordered pack \n",
      "Predicted summary:  yeast\n",
      "\n",
      "\n",
      "Review: far favorite hot sauce date weird reason still prefer original tabasco eggs anything else want spice gets breakfast items feel heavy vinegar saturating hot sauces drown lot flavor enhances without covering flavor actually adding natural flavor sauce second nothing ever tried sure little kick immune endless bottles consumed looking try new sauce flavor heat definitely give try nice kick connoisseur type sauce looking laugh buddies pleasant kick full amazing flavors market new sauce flavor need give shot favorite far highly doubt regret purchase guess back \n"
     ]
    },
    {
     "name": "stdout",
     "output_type": "stream",
     "text": [
      "Predicted summary:  best hot sauce ever\n",
      "\n",
      "\n",
      "Review: best quality real tic tac best flavor huge help weight loss ever immediate shipping affordable price real product back definitely \n",
      "Predicted summary:  best olive oil\n",
      "\n",
      "\n",
      "Review: pleased packaging prompt delivery however every single package empty coffee inside broken seals holes nicely sealed empty cups would like coffee coffee \n",
      "Predicted summary:  great coffee\n",
      "\n",
      "\n",
      "Review: using pearl barley inferior old batch product denmark maybe soil godd usa arrowhead much much better pearl barley product little flavor says producto denmark packed isreal like drinking dishwater would hate anyone new barley buy product flavor diluted biologist experience buy brand arrowhead barley good try huled lb bags make barley water drink first thing huled barley higher percent vitamins minerals barley good prevent uti helps acid refulx try drinking water lower th ph stomach leave lemon juice others add see make utube soak overnight boil mins strain put barley aside keep barley water store pitcher refrigerator make quarts time explored product listening oz time ago cheap health food save many people lot cost pain acid reflux \n",
      "Predicted summary:  organic and effective\n",
      "\n",
      "\n",
      "Review: quote keeps getting funnier every single time see put good use say watch movie say tim burton cannot stop good movies least top best comedies time twisted funny swear watch film get one laugh probably give chance course beetlejuice one famous movie history way go tim \n",
      "Predicted summary:  great movie theater popcorn\n",
      "\n",
      "\n",
      "Review: doctor told lose weight going insulin months desperately looking healthy food choices worried much taste calories per calories fat mg sodium protein whopping fiber cans fit bill yes great flavor mixed cooked quinoa brown rice added tuna sardines good \n",
      "Predicted summary:  great product\n",
      "\n",
      "\n",
      "Review: bones great compressed rawhide lasts much longer rawhides making great powerful chewers love buying bulk like buy individually usually around \n",
      "Predicted summary:  great product\n",
      "\n",
      "\n",
      "Review: tastes wonderful probably best quick meal like ever great lunch work want go want inexpensive delicious lunch would say good restaurants great product \n",
      "Predicted summary:  great product\n",
      "\n",
      "\n",
      "Review: like sauce grilled beef disappeared stores \n",
      "Predicted summary:  great sauce\n",
      "\n",
      "\n",
      "Review: purchased pack sons classroom snack town house crackers cheap price offered amazon suprisingly low expected chance crackers would arrive cracker crumbs case one time appreciate way amazon packages everything mroe crumbs broken crackers purchased locally yay amazon enjoyed crackers many times past always enjoy taste unique necessary something cracker enjoy \n",
      "Predicted summary:  great crackers\n",
      "\n",
      "\n",
      "Review: like sprout baby food becaus sodium stage baby food ordered box gave months old baby start baby food check nutrition facts omg mg sodium much sodium went wal mart got stage sweet peas mg sodium wait give packs till baby gets bigger good best date aug looking sweet peas stage good one much sodium mg omg waste money \n",
      "Predicted summary:  baby food\n",
      "\n",
      "\n",
      "Review: gloria jeans coffees tried meet coffee expectations foo foo flavors like mudslide okay still exceptional luckily able trade almost full box cup exchange yahoo return get flavor liked recommend site highly learn lot brewing keurig free \n",
      "Predicted summary:  not the best\n",
      "\n",
      "\n",
      "Review: must one unlucky ones mine arrived pulverized bubble wrap top second outer box \n",
      "Predicted summary:  great gift\n",
      "\n",
      "\n",
      "Review: happy get order unfortunately used first bottle tastes old verge bad sediment way thicker fresh bottle sure even use bottles \n",
      "Predicted summary:  not what expected\n",
      "\n",
      "\n",
      "Review: product exactly expected taste quantity price could bit better expected \n",
      "Predicted summary:  good product\n",
      "\n",
      "\n",
      "Review: ordered couldnt seem find size store couple skittle shells bottom bag shipping product everything else fine \n",
      "Predicted summary:  great product but not the best\n",
      "\n",
      "\n",
      "Review: love mites vegemite marmite vegemite acquired taste something recommend trying unles know beer product loaded vitamin bs totally vegetarian great toast like sweet salty things recommend trying cinnamon raisen toast even scones game people use add flavor casseroles added vitamin boost sure would great product would purchase new zealand store would recommend mention acquired taste right go easy spreading toast thick coating recommended cannot find locally yes buy cheaper find international food store save shipping \n",
      "Predicted summary:  great product\n",
      "\n",
      "\n",
      "Review: order hassle free processed swiftly packaging well done delivery right money definintly recommend buying slim jims \n",
      "Predicted summary:  slim jim\n",
      "\n",
      "\n",
      "Review: little toddler meals simple easy best loved little munchkin lives two hours away mother college send meals apartment well may little costly college student budget happy ensure little munchkin healthy meals loves make feel independent size meat carrots green beans perfect toddler pick tiny fingers spoon put mouth choking incidents date \n",
      "Predicted summary:  great for kids and adults\n",
      "\n",
      "\n",
      "Review: popchip calorie bags great snack help control portions trust full sized bag taste great decent amount bags enough satisfy bland tasting like baked chips regularly order bbq flavor tried many popchip flavors personal favorites know make taste great little calories thanks popchips \n",
      "Predicted summary:  delicious snack\n",
      "\n",
      "\n",
      "Review: think candies great nice lemony would give stars sugar coating taste nice get past candy otoh keeps sticking together plus received another order purchase hand stick extra gifts recommend tried flavors really love lemon \n",
      "Predicted summary:  great candy\n",
      "\n",
      "\n",
      "Review: product nice happy found way purchase able make couple healthy sized burgers box instead recommended glad find animal products ingredients price seems reasonable purchased boxes time \n",
      "Predicted summary:  great product\n",
      "\n",
      "\n",
      "Review: repeat customer success first round fortune cookies last year decided order cookies night opening ceremonies olympics representative greenfire worked together came different olympics related fortunes ordered three pounds staff loved brought meeting start day spent almost much time reading fortunes spent working meeting left staff go nibble away end night three pounds gone got kick hearing staff laughing fortunes came two successful rounds fortunes plan back third round \n",
      "Predicted summary:  great cookies\n",
      "\n",
      "\n",
      "Review: kids love like grape flavor nice change plain applesauce convenient pack lunches school perfect size younger ones \n",
      "Predicted summary:  kids love it\n",
      "\n",
      "\n",
      "Review: love melba toast convenient get boxes would given higher rating one three occasions ordered get end box crushed toast \n",
      "Predicted summary:  great product\n",
      "\n",
      "\n",
      "Review: problems product call mild like medium cup strong brew starbucks disc hesitate purchase \n",
      "Predicted summary:  good coffee\n",
      "\n",
      "\n",
      "Review: love sweet potatoes nutritional powerhouse great diabetics eat variety dishes stay lean fit also love chips imagine dismay thought best worlds ended tasting much like either things ate three bags different days empty stomach make sure mistaken even pit bull would touch sit cupboard awaiting expiration date \n",
      "Predicted summary:  delicious\n",
      "\n",
      "\n",
      "Review: noticed different aroma box arrived hazlenut favorite flavor felt flavor good hazlenut blends taste slightly bitter less rich satisfying coffees drinkable best say order brand first negative review personality coffee \n",
      "Predicted summary:  my favorite cup\n",
      "\n",
      "\n",
      "Review: bought product used buy cookies time lived texas best taffy filling cookie eaten favorite since living michigan cannot find store found amazon buy definitely ordering tasty cookies great dunked milk \n",
      "Predicted summary:  best cookies ever\n",
      "\n",
      "\n",
      "Review: cat somewhat picky eater bit nervous ordering pack food delivery came quickly served boy cat loved food much licked bowl clean asked food looks like made chicken breast broth fillers gone though cans cat still loves food best btw second favorite asian fusion also brand \n",
      "Predicted summary:  my cat loves this food\n",
      "\n",
      "\n",
      "Review: stash new stash teas india refreshing different stash one unique darjeeling summer exception ingredient darjeeling second flush black tea leaves truly complex tasty tea tastes wonderfully black needs nothing added great tea experience tea contains caffeine strong distinctive high quality refreshing tea recommended true step stash \n"
     ]
    },
    {
     "name": "stdout",
     "output_type": "stream",
     "text": [
      "Predicted summary:  stash chamomile herbal tea\n",
      "\n",
      "\n",
      "Review: purchased tea set gift friend enjoys tea love tea creates flower clear teapot great gift \n",
      "Predicted summary:  great gift\n",
      "\n",
      "\n",
      "Review: product tastes exactly like sugar use confidence knowing body react like would refined sugar love \n",
      "Predicted summary:  great product\n",
      "\n",
      "\n",
      "Review: great mother got timely manner excited called told envy work mothers excited \n",
      "Predicted summary:  great product\n",
      "\n",
      "\n",
      "Review: would perfect ground bit smaller big bite take long taste great \n",
      "Predicted summary:  great\n",
      "\n",
      "\n",
      "Review: small dogs absolutely love greenies stores pets mart pet co want sale pack large always order amazon want spoil dogs great price keeping teeth white gums healthy \n",
      "Predicted summary:  great deal\n",
      "\n",
      "\n",
      "Review: ordered two sets six boxes paid product came shock boxes yes boxes rip guess look matter quickly \n",
      "Predicted summary:  rip off\n",
      "\n",
      "\n",
      "Review: little guys sure kick good pickled sausage juicy spicy perfect alarm clock wake taste buds surprised comments product price quality cannot pass oh forget shipping great product came pennsylvania california matter two days go ahead click add cart button calling name \n",
      "Predicted summary:  great product\n",
      "\n",
      "\n",
      "Review: really good tasting cider ever caramel apple suckers tastes lot like surprisingly tastes like caramel apple know would taste much like caramel apple first actually love cider \n",
      "Predicted summary:  great apple cider\n",
      "\n",
      "\n"
     ]
    }
   ],
   "source": [
    "for i in range(0,100):\n",
    "    print(\"Review:\",seq2text(x_train[i]))\n",
    "#     print(\"Original summary:\",seq2summary(y_train[i]))\n",
    "    print(\"Predicted summary:\",decode_sequence(x_train[i].reshape(1,max_text_len)))\n",
    "    print(\"\\n\")"
   ]
  },
  {
   "cell_type": "markdown",
   "metadata": {},
   "source": [
    "### Predictions on Tweets"
   ]
  },
  {
   "cell_type": "code",
   "execution_count": 123,
   "metadata": {},
   "outputs": [],
   "source": [
    "dataTwitter = pd.read_csv(os.getcwd() + '\\\\AAPLBatch2-25--3-16.csv')"
   ]
  },
  {
   "cell_type": "code",
   "execution_count": 124,
   "metadata": {},
   "outputs": [
    {
     "data": {
      "text/html": [
       "<div>\n",
       "<style scoped>\n",
       "    .dataframe tbody tr th:only-of-type {\n",
       "        vertical-align: middle;\n",
       "    }\n",
       "\n",
       "    .dataframe tbody tr th {\n",
       "        vertical-align: top;\n",
       "    }\n",
       "\n",
       "    .dataframe thead th {\n",
       "        text-align: right;\n",
       "    }\n",
       "</style>\n",
       "<table border=\"1\" class=\"dataframe\">\n",
       "  <thead>\n",
       "    <tr style=\"text-align: right;\">\n",
       "      <th></th>\n",
       "      <th>id</th>\n",
       "      <th>user_description</th>\n",
       "      <th>orig_text</th>\n",
       "      <th>text</th>\n",
       "      <th>user_name</th>\n",
       "      <th>user_followers</th>\n",
       "      <th>created</th>\n",
       "      <th>symbolval</th>\n",
       "    </tr>\n",
       "  </thead>\n",
       "  <tbody>\n",
       "    <tr>\n",
       "      <th>0</th>\n",
       "      <td>1</td>\n",
       "      <td>Know your edge. Take the trade.\\n\\nIf you don't know your edge, why are you trading? My stories are conceptually true. Names &amp; locations changed. Trades are real.</td>\n",
       "      <td>$AAPL making the run at 280.\\n\\n(260 is next)</td>\n",
       "      <td>AAPL making the run at 280\\n\\n260 is next</td>\n",
       "      <td>LettingGoSays</td>\n",
       "      <td>2012</td>\n",
       "      <td>2020-02-25 20:38:34.000000</td>\n",
       "      <td>AAPL</td>\n",
       "    </tr>\n",
       "    <tr>\n",
       "      <th>1</th>\n",
       "      <td>2</td>\n",
       "      <td>Trading Professionals Who Specialize in Live Technical &amp; Swing Trading Alerts. DM for Info.</td>\n",
       "      <td>Traders market right now, please trade fast, dont be afraid to take profits on both calls and puts, fast moving market, huge volatility , keep trades short term and fast! $SPY $AAPL $NFLX $FB $AMD</td>\n",
       "      <td>Traders market right now please trade fast dont be afraid to take profits on both calls and puts fast moving market huge volatility  keep trades short term and fast SPY AAPL NFLX FB AMD</td>\n",
       "      <td>TheOptionsPros</td>\n",
       "      <td>1565</td>\n",
       "      <td>2020-02-25 20:38:37.000000</td>\n",
       "      <td>nosymbol</td>\n",
       "    </tr>\n",
       "  </tbody>\n",
       "</table>\n",
       "</div>"
      ],
      "text/plain": [
       "   id  \\\n",
       "0   1   \n",
       "1   2   \n",
       "\n",
       "                                                                                                                                                     user_description  \\\n",
       "0  Know your edge. Take the trade.\\n\\nIf you don't know your edge, why are you trading? My stories are conceptually true. Names & locations changed. Trades are real.   \n",
       "1                                                                         Trading Professionals Who Specialize in Live Technical & Swing Trading Alerts. DM for Info.   \n",
       "\n",
       "                                                                                                                                                                                              orig_text  \\\n",
       "0                                                                                                                                                         $AAPL making the run at 280.\\n\\n(260 is next)   \n",
       "1  Traders market right now, please trade fast, dont be afraid to take profits on both calls and puts, fast moving market, huge volatility , keep trades short term and fast! $SPY $AAPL $NFLX $FB $AMD   \n",
       "\n",
       "                                                                                                                                                                                        text  \\\n",
       "0                                                                                                                                                  AAPL making the run at 280\\n\\n260 is next   \n",
       "1  Traders market right now please trade fast dont be afraid to take profits on both calls and puts fast moving market huge volatility  keep trades short term and fast SPY AAPL NFLX FB AMD   \n",
       "\n",
       "        user_name  user_followers                     created symbolval  \n",
       "0   LettingGoSays            2012  2020-02-25 20:38:34.000000      AAPL  \n",
       "1  TheOptionsPros            1565  2020-02-25 20:38:37.000000  nosymbol  "
      ]
     },
     "execution_count": 124,
     "metadata": {},
     "output_type": "execute_result"
    }
   ],
   "source": [
    "dataTwitter.head(2)"
   ]
  },
  {
   "cell_type": "code",
   "execution_count": 125,
   "metadata": {},
   "outputs": [
    {
     "name": "stdout",
     "output_type": "stream",
     "text": [
      "shape:  (17371, 8)\n",
      "<class 'pandas.core.frame.DataFrame'>\n",
      "RangeIndex: 17371 entries, 0 to 17370\n",
      "Data columns (total 8 columns):\n",
      " #   Column            Non-Null Count  Dtype \n",
      "---  ------            --------------  ----- \n",
      " 0   id                17371 non-null  int64 \n",
      " 1   user_description  15848 non-null  object\n",
      " 2   orig_text         17371 non-null  object\n",
      " 3   text              17371 non-null  object\n",
      " 4   user_name         17371 non-null  object\n",
      " 5   user_followers    17371 non-null  int64 \n",
      " 6   created           17371 non-null  object\n",
      " 7   symbolval         17371 non-null  object\n",
      "dtypes: int64(2), object(6)\n",
      "memory usage: 1.1+ MB\n"
     ]
    }
   ],
   "source": [
    "print(\"shape: \", dataTwitter.shape)\n",
    "dataTwitter.info()"
   ]
  },
  {
   "cell_type": "code",
   "execution_count": 126,
   "metadata": {},
   "outputs": [
    {
     "data": {
      "text/html": [
       "<div>\n",
       "<style scoped>\n",
       "    .dataframe tbody tr th:only-of-type {\n",
       "        vertical-align: middle;\n",
       "    }\n",
       "\n",
       "    .dataframe tbody tr th {\n",
       "        vertical-align: top;\n",
       "    }\n",
       "\n",
       "    .dataframe thead th {\n",
       "        text-align: right;\n",
       "    }\n",
       "</style>\n",
       "<table border=\"1\" class=\"dataframe\">\n",
       "  <thead>\n",
       "    <tr style=\"text-align: right;\">\n",
       "      <th></th>\n",
       "      <th>id</th>\n",
       "      <th>user_followers</th>\n",
       "    </tr>\n",
       "  </thead>\n",
       "  <tbody>\n",
       "    <tr>\n",
       "      <th>count</th>\n",
       "      <td>17371.000000</td>\n",
       "      <td>1.737100e+04</td>\n",
       "    </tr>\n",
       "    <tr>\n",
       "      <th>mean</th>\n",
       "      <td>47577.805999</td>\n",
       "      <td>6.288931e+03</td>\n",
       "    </tr>\n",
       "    <tr>\n",
       "      <th>std</th>\n",
       "      <td>27480.363651</td>\n",
       "      <td>4.637471e+04</td>\n",
       "    </tr>\n",
       "    <tr>\n",
       "      <th>min</th>\n",
       "      <td>1.000000</td>\n",
       "      <td>0.000000e+00</td>\n",
       "    </tr>\n",
       "    <tr>\n",
       "      <th>25%</th>\n",
       "      <td>23502.500000</td>\n",
       "      <td>1.470000e+02</td>\n",
       "    </tr>\n",
       "    <tr>\n",
       "      <th>50%</th>\n",
       "      <td>46372.000000</td>\n",
       "      <td>7.500000e+02</td>\n",
       "    </tr>\n",
       "    <tr>\n",
       "      <th>75%</th>\n",
       "      <td>72484.500000</td>\n",
       "      <td>3.480000e+03</td>\n",
       "    </tr>\n",
       "    <tr>\n",
       "      <th>max</th>\n",
       "      <td>93182.000000</td>\n",
       "      <td>3.421751e+06</td>\n",
       "    </tr>\n",
       "  </tbody>\n",
       "</table>\n",
       "</div>"
      ],
      "text/plain": [
       "                 id  user_followers\n",
       "count  17371.000000    1.737100e+04\n",
       "mean   47577.805999    6.288931e+03\n",
       "std    27480.363651    4.637471e+04\n",
       "min        1.000000    0.000000e+00\n",
       "25%    23502.500000    1.470000e+02\n",
       "50%    46372.000000    7.500000e+02\n",
       "75%    72484.500000    3.480000e+03\n",
       "max    93182.000000    3.421751e+06"
      ]
     },
     "execution_count": 126,
     "metadata": {},
     "output_type": "execute_result"
    }
   ],
   "source": [
    "dataTwitter.describe()"
   ]
  },
  {
   "cell_type": "code",
   "execution_count": 127,
   "metadata": {},
   "outputs": [],
   "source": [
    "cleaningTweets = dataTwitter.drop_duplicates(subset=['text'])\n",
    "cleaningTweets = dataTwitter.dropna(axis=0)"
   ]
  },
  {
   "cell_type": "code",
   "execution_count": 128,
   "metadata": {},
   "outputs": [
    {
     "name": "stdout",
     "output_type": "stream",
     "text": [
      "99.99369005552751%%%%\r"
     ]
    }
   ],
   "source": [
    "cleaned_text_tweets = clean_text(cleaningTweets, 'text', 0)\n",
    "cleaned_text_tweets[:3]\n",
    "\n",
    "cleaningTweets['cleaned_text']=cleaned_text_tweets\n",
    "\n",
    "cleaningTweets.replace('', np.nan, inplace=True)\n",
    "cleaningTweets.dropna(axis=0,inplace=True)\n",
    "\n",
    "\n",
    "text_word_count = []\n",
    "for text in cleaningTweets['cleaned_text']:\n",
    "    text_word_count.append(len(text.split()))\n",
    "    \n",
    "cnt=0\n",
    "for i in cleaningTweets['cleaned_text']:\n",
    "    if(len(i.split())<=140):\n",
    "        cnt=cnt+1"
   ]
  },
  {
   "cell_type": "code",
   "execution_count": 129,
   "metadata": {},
   "outputs": [
    {
     "name": "stdout",
     "output_type": "stream",
     "text": [
      "1.0\n"
     ]
    }
   ],
   "source": [
    "print(cnt/len(cleaningTweets['cleaned_text']*100))"
   ]
  },
  {
   "cell_type": "code",
   "execution_count": 130,
   "metadata": {},
   "outputs": [
    {
     "data": {
      "image/png": "[encoded data removed]",
      "text/plain": [
       "<Figure size 1440x576 with 1 Axes>"
      ]
     },
     "metadata": {},
     "output_type": "display_data"
    }
   ],
   "source": [
    "length_df = pd.DataFrame({'text': text_word_count})\n",
    "length_df.hist(bins=30, figsize=(20,8))\n",
    "plt.show()"
   ]
  },
  {
   "cell_type": "code",
   "execution_count": 131,
   "metadata": {},
   "outputs": [
    {
     "data": {
      "text/html": [
       "<div>\n",
       "<style scoped>\n",
       "    .dataframe tbody tr th:only-of-type {\n",
       "        vertical-align: middle;\n",
       "    }\n",
       "\n",
       "    .dataframe tbody tr th {\n",
       "        vertical-align: top;\n",
       "    }\n",
       "\n",
       "    .dataframe thead th {\n",
       "        text-align: right;\n",
       "    }\n",
       "</style>\n",
       "<table border=\"1\" class=\"dataframe\">\n",
       "  <thead>\n",
       "    <tr style=\"text-align: right;\">\n",
       "      <th></th>\n",
       "      <th>text</th>\n",
       "    </tr>\n",
       "  </thead>\n",
       "  <tbody>\n",
       "    <tr>\n",
       "      <th>0</th>\n",
       "      <td>aapl making run next</td>\n",
       "    </tr>\n",
       "    <tr>\n",
       "      <th>1</th>\n",
       "      <td>traders market right please trade fast dont afraid take profits calls puts fast moving market huge volatility keep trades short term fast spy aapl nflx fb amd</td>\n",
       "    </tr>\n",
       "    <tr>\n",
       "      <th>2</th>\n",
       "      <td>aapl ish lets end day strongtia</td>\n",
       "    </tr>\n",
       "  </tbody>\n",
       "</table>\n",
       "</div>"
      ],
      "text/plain": [
       "                                                                                                                                                             text\n",
       "0                                                                                                                                            aapl making run next\n",
       "1  traders market right please trade fast dont afraid take profits calls puts fast moving market huge volatility keep trades short term fast spy aapl nflx fb amd\n",
       "2                                                                                                                                 aapl ish lets end day strongtia"
      ]
     },
     "execution_count": 131,
     "metadata": {},
     "output_type": "execute_result"
    }
   ],
   "source": [
    "cleaned_text_tweets =np.array(cleaningTweets['cleaned_text'])\n",
    "short_text_Tweet=[]\n",
    "\n",
    "for i in range(len(cleaned_text_tweets)):\n",
    "    if(len(cleaned_summary[i].split())<=max_summary_len and len(cleaned_text_tweets[i].split())<=max_text_len):\n",
    "        short_text_Tweet.append(cleaned_text_tweets[i])\n",
    "#         short_summary.append(cleaned_summary[i])\n",
    "\n",
    "df=pd.DataFrame({'text':short_text_Tweet})\n",
    "df.head(3)"
   ]
  },
  {
   "cell_type": "code",
   "execution_count": null,
   "metadata": {},
   "outputs": [],
   "source": []
  },
  {
   "cell_type": "markdown",
   "metadata": {},
   "source": [
    "### Tokenize"
   ]
  },
  {
   "cell_type": "code",
   "execution_count": 132,
   "metadata": {},
   "outputs": [
    {
     "name": "stdout",
     "output_type": "stream",
     "text": [
      "% of rare words in vocabulary: 46.022529322959\n",
      "Total Coverage of rare words: 2.9991713114847145\n"
     ]
    },
    {
     "data": {
      "text/plain": [
       "9297"
      ]
     },
     "execution_count": 132,
     "metadata": {},
     "output_type": "execute_result"
    }
   ],
   "source": [
    "x_train2 = df['text']\n",
    "x_tokenizer2 = Tokenizer()\n",
    "x_tokenizer2.fit_on_texts(list(x_train2))\n",
    "\n",
    "thresh=2\n",
    "\n",
    "cnt=0\n",
    "tot_cnt=0\n",
    "freq=0\n",
    "tot_freq=0\n",
    "\n",
    "for key,value in x_tokenizer2.word_counts.items():\n",
    "    tot_cnt=tot_cnt+1\n",
    "    tot_freq=tot_freq+value\n",
    "    if(value<thresh):\n",
    "        cnt=cnt+1\n",
    "        freq=freq+value\n",
    "    \n",
    "print(\"% of rare words in vocabulary:\",(cnt/tot_cnt)*100)\n",
    "print(\"Total Coverage of rare words:\",(freq/tot_freq)*100)\n",
    "\n",
    "#prepare a tokenizer for reviews on training data\n",
    "x_tokenizer2 = Tokenizer(num_words=tot_cnt-cnt) \n",
    "x_tokenizer2.fit_on_texts(list(x_train2))\n",
    "\n",
    "#convert text sequences into integer sequences\n",
    "x_train_seq2    =   x_tokenizer2.texts_to_sequences(x_train2) \n",
    "# x_val_seq   =   x_tokenizer.texts_to_sequences(x_val)\n",
    "\n",
    "#padding zero upto maximum length\n",
    "x_train2    =   pad_sequences(x_train_seq2,  maxlen=max_text_len, padding='post')\n",
    "# x_val   =   pad_sequences(x_val_seq, maxlen=max_text_len, padding='post')\n",
    "\n",
    "#size of vocabulary ( +1 for padding token)\n",
    "x_voc2   =  x_tokenizer2.num_words + 1\n",
    "x_voc2"
   ]
  },
  {
   "cell_type": "code",
   "execution_count": null,
   "metadata": {},
   "outputs": [],
   "source": []
  },
  {
   "cell_type": "code",
   "execution_count": 133,
   "metadata": {},
   "outputs": [
    {
     "name": "stdout",
     "output_type": "stream",
     "text": [
      "% of rare words in vocabulary: 46.01718532280539\n",
      "Total Coverage of rare words: 2.6837138590830136\n"
     ]
    },
    {
     "data": {
      "text/plain": [
       "9299"
      ]
     },
     "execution_count": 133,
     "metadata": {},
     "output_type": "execute_result"
    }
   ],
   "source": [
    "df['text'] = df['text'].apply(lambda x : 'sostok '+ x + ' eostok')\n",
    "y_train2 = df['text']\n",
    "y_tokenizer2 = Tokenizer()   \n",
    "y_tokenizer2.fit_on_texts(list(y_train2))\n",
    "\n",
    "\n",
    "thresh=2\n",
    "\n",
    "cnt=0\n",
    "tot_cnt=0\n",
    "freq=0\n",
    "tot_freq=0\n",
    "\n",
    "for key,value in y_tokenizer2.word_counts.items():\n",
    "    tot_cnt=tot_cnt+1\n",
    "    tot_freq=tot_freq+value\n",
    "    if(value<thresh):\n",
    "        cnt=cnt+1\n",
    "        freq=freq+value\n",
    "    \n",
    "print(\"% of rare words in vocabulary:\",(cnt/tot_cnt)*100)\n",
    "print(\"Total Coverage of rare words:\",(freq/tot_freq)*100)\n",
    "\n",
    "\n",
    "#prepare a tokenizer for reviews on training data\n",
    "y_tokenizer2 = Tokenizer(num_words=tot_cnt-cnt) \n",
    "y_tokenizer2.fit_on_texts(list(y_train2))\n",
    "\n",
    "#convert text sequences into integer sequences\n",
    "y_train_seq2    =   y_tokenizer2.texts_to_sequences(y_train2) \n",
    "# y_val_seq   =   y_tokenizer.texts_to_sequences(y_val) \n",
    "\n",
    "#padding zero upto maximum length\n",
    "y_train2    =   pad_sequences(y_train_seq2, maxlen=max_summary_len, padding='post')\n",
    "# y_val   =   pad_sequences(y_val_seq, maxlen=max_summary_len, padding='post')\n",
    "\n",
    "#size of vocabulary\n",
    "y_voc2  =   y_tokenizer2.num_words +1\n",
    "y_voc2"
   ]
  },
  {
   "cell_type": "code",
   "execution_count": null,
   "metadata": {},
   "outputs": [],
   "source": []
  },
  {
   "cell_type": "code",
   "execution_count": 134,
   "metadata": {},
   "outputs": [],
   "source": [
    "def decode_sequence(input_seq):\n",
    "    # Encode the input as state vectors.\n",
    "    e_out, e_h, e_c = encoder_model.predict(input_seq)\n",
    "    \n",
    "    # Generate empty target sequence of length 1.\n",
    "    target_seq = np.zeros((1,1))\n",
    "    \n",
    "    # Populate the first word of target sequence with the start word.\n",
    "    target_seq[0, 0] = target_word_index['sostok']\n",
    "\n",
    "    stop_condition = False\n",
    "    decoded_sentence = ''\n",
    "    while not stop_condition:\n",
    "      \n",
    "        output_tokens, h, c = decoder_model.predict([target_seq] + [e_out, e_h, e_c])\n",
    "\n",
    "        # Sample a token\n",
    "        sampled_token_index = np.argmax(output_tokens[0, -1, :])\n",
    "#         sampled_token = reverse_target_word_index[sampled_token_index]\n",
    "\n",
    "        try:\n",
    "            sampled_token = reverse_target_word_index[sampled_token_index]\n",
    "        except:\n",
    "            sampled_token = '-x-'\n",
    "        \n",
    "        if(sampled_token!='eostok'):\n",
    "            decoded_sentence += ' '+sampled_token\n",
    "\n",
    "        # Exit condition: either hit max length or find stop word.\n",
    "        if (sampled_token == 'eostok'  or len(decoded_sentence.split()) >= (max_summary_len-1)):\n",
    "            stop_condition = True\n",
    "\n",
    "        # Update the target sequence (of length 1).\n",
    "        target_seq = np.zeros((1,1))\n",
    "        target_seq[0, 0] = sampled_token_index\n",
    "\n",
    "        # Update internal states\n",
    "        e_h, e_c = h, c\n",
    "\n",
    "    return decoded_sentence"
   ]
  },
  {
   "cell_type": "code",
   "execution_count": 135,
   "metadata": {},
   "outputs": [],
   "source": [
    "reverse_target_word_index=y_tokenizer2.index_word\n",
    "reverse_source_word_index=x_tokenizer2.index_word\n",
    "target_word_index=y_tokenizer.word_index"
   ]
  },
  {
   "cell_type": "code",
   "execution_count": 138,
   "metadata": {
    "scrolled": false
   },
   "outputs": [
    {
     "name": "stdout",
     "output_type": "stream",
     "text": [
      "Tweet: aapl making run next \n",
      "Predicted summary:  spy close sostok -x- -x- -x- -x- -x- -x-\n",
      "\n",
      "\n",
      "Tweet: traders market right please trade fast dont afraid take profits calls puts fast moving market huge volatility keep trades short term fast spy aapl nflx fb amd \n",
      "Predicted summary: \n",
      "\n",
      "\n",
      "Tweet: aapl ish lets end day \n",
      "Predicted summary: \n",
      "\n",
      "\n",
      "Tweet: hours later feeling aapl \n",
      "Predicted summary:  tsla amzn mrk sostok -x- -x- -x- -x- -x-\n",
      "\n",
      "\n",
      "Tweet: spy gspc aapl nflx goog tsla dow falls back day moving average brief bounce \n",
      "Predicted summary:  spy amd sostok -x- -x- -x- -x- -x- -x-\n",
      "\n",
      "\n",
      "Tweet: aapl patent bandwidth management devices download multiple data streams tech ip research \n",
      "Predicted summary: \n",
      "\n",
      "\n",
      "Tweet: tptw captures billion worth contract billions federal government trading range going ibio nnvc kwbt tsla henc nio avxl aim ttnp aapl adxs tmus \n",
      "Predicted summary:  iwm new stocks sostok -x- -x- -x- -x- -x-\n",
      "\n",
      "\n",
      "Tweet: time study warren buffetts annual letter berkshire hathaway shareholders performance top stock aapl cost gains roi estimated cost difference actual nice \n",
      "Predicted summary: \n",
      "\n",
      "\n",
      "Tweet: inovio pharmaceuticals novavax exploding higher today ino nvax cjjd jnj biib gild lly mrk bmy abbv dxcm coo regn mdt pfe nvs aapl goog fb apt \n",
      "Predicted summary: \n",
      "\n",
      "\n",
      "Tweet: coronavirus hitting supply chains consumer demand dji aapl hd msft \n",
      "Predicted summary:  crashing sostok -x- -x- -x- -x- -x- -x- -x-\n",
      "\n",
      "\n",
      "Tweet: ive decided put buy aapl loses handle \n",
      "Predicted summary: \n",
      "\n",
      "\n",
      "Tweet: listening ntsb aapl blaming training employees safe driving devices ridiculous tsla responsible customers using beta software danger vehicles \n",
      "Predicted summary:  avgo sostok -x- -x- -x- -x- -x- -x- -x-\n",
      "\n",
      "\n",
      "Tweet: aapl puts sold fb puts sold gain hour bad advice \n",
      "Predicted summary:  expected usa sostok -x- -x- -x- -x- -x- -x-\n",
      "\n",
      "\n",
      "Tweet: better drug planet making money shorting aapl straight \n",
      "Predicted summary:  year sostok -x- -x- -x- -x- -x- -x- -x-\n",
      "\n",
      "\n",
      "Tweet: billion aapl buybacks alone \n",
      "Predicted summary:  post stress stick sostok -x- -x- -x- -x- -x-\n",
      "\n",
      "\n",
      "Tweet: jnj aapl new article apple johnson amp new heart study big deal digital health get latest jnj related news \n",
      "Predicted summary: \n",
      "\n",
      "\n",
      "Tweet: aapl beautiful entry \n",
      "Predicted summary: \n",
      "\n",
      "\n",
      "Tweet: least tim cook gave heads aapl stock headed bear territory already correction territory price target next quarters share \n",
      "Predicted summary:  production sostok -x- -x- -x- -x- -x- -x- -x-\n",
      "\n",
      "\n",
      "Tweet: would much rather co growing piling new employees like amzn building story tower msft googl fb aapl etc amp cos trying cut employees profitability like ge viac expe etc \n",
      "Predicted summary: \n",
      "\n",
      "\n",
      "Tweet: qualcomm announces new modem possible iphone candidate aapl \n",
      "Predicted summary:  spy coronavirus tsla\n",
      "\n",
      "\n",
      "Tweet: nymo still weekly year chart draw vix spy spx es qqq ndx dia dowjones iwm rut xlf xle xop xrt fxi aapl tsla spce mrna vix \n",
      "Predicted summary: \n",
      "\n",
      "\n",
      "Tweet: cant time market lock gains sit awhile sold aapl exit price ish luck skill reentry imminent \n",
      "Predicted summary: \n",
      "\n",
      "\n",
      "Tweet: fb would pay per month us users sharing contact info coronavirus clouds aapl new iphones tsla us regulators strongly criticized role autopilot crash \n",
      "Predicted summary: \n",
      "\n",
      "\n",
      "Tweet: aapl continues shed value points two days coronavirus \n",
      "Predicted summary:  disruptions sostok -x- -x- -x- -x- -x- -x- -x-\n",
      "\n",
      "\n",
      "Tweet: tuesday mornings top stocks nio amd mu msft aapl nvda baba panw tsla amzn see rest todays trending stocks trading names today dia spy qqq \n",
      "Predicted summary: \n",
      "\n",
      "\n",
      "Tweet: scalped aapl point \n",
      "Predicted summary:  spy coronavirus tsla\n",
      "\n",
      "\n",
      "Tweet: cant get enough amzn googl aapl tsla ndx spx spy \n",
      "Predicted summary:  short sostok -x- -x- -x- -x- -x- -x- -x-\n",
      "\n",
      "\n",
      "Tweet: update tesla us regulators strongly criticized role autopilot crash tsla aapl \n",
      "Predicted summary:  thats sostok -x- -x- -x- -x- -x- -x- -x-\n",
      "\n",
      "\n",
      "Tweet: day could better spy aapl tsla \n",
      "Predicted summary:  spy amd sostok -x- -x- -x- -x- -x- -x-\n",
      "\n",
      "\n",
      "Tweet: aapl patent energy system recovery tech ip research \n",
      "Predicted summary:  settle znf goog amzn fb sostok -x- -x- -x-\n",
      "\n",
      "\n",
      "Tweet: needham longer covid disruptions continue past june greater threat aapls sept new product launches including phone christmas selling season revenue represented annual revs past years \n",
      "Predicted summary: \n",
      "\n",
      "\n",
      "Tweet: needham sees apple aapl supply chain normal june st pt unchanged \n",
      "Predicted summary:  prepared streaming market sostok -x- -x- -x- -x- -x-\n",
      "\n",
      "\n",
      "Tweet: premium atm weekly aapl calls right insane \n",
      "Predicted summary: \n",
      "\n",
      "\n",
      "Tweet: aapl might well come tonight another warning \n",
      "Predicted summary: \n",
      "\n",
      "\n",
      "Tweet: hunch tomorrow wont spy spx aapl goog tsla \n",
      "Predicted summary:  nvax open sostok -x- -x- -x- -x- -x- -x-\n",
      "\n",
      "\n",
      "Tweet: aapl youre averaging stock youre nuts \n",
      "Predicted summary: \n",
      "\n",
      "\n",
      "Tweet: aapl red dog reversal happened apple bounce \n",
      "Predicted summary:  tsla vix blackboxstocks sostok -x- -x- -x- -x- -x-\n",
      "\n",
      "\n",
      "Tweet: aapl loaded close \n",
      "Predicted summary:  spy us sostok -x- -x- -x- -x- -x- -x-\n",
      "\n",
      "\n",
      "Tweet: apple aapl exposed risks associated ongoing health crisis china plays crucial role companys supply chain also accounts significant share revenue sets apart rival tech giants \n",
      "Predicted summary:  apple stockmarket tlt jpm sostok -x- -x- -x- -x-\n",
      "\n",
      "\n",
      "Tweet: coronavirus stocks today sectors risk investors finding opportunities whats next week market insights answers aapl smh nvda gld housing vix \n",
      "Predicted summary: \n",
      "\n",
      "\n",
      "Tweet: aapl days smooth trend min would love us panic trade reversal worth shot risking points \n",
      "Predicted summary:  tsla vix spy vix amzn maybe sostok -x- -x-\n",
      "\n",
      "\n",
      "Tweet: chase robinhood legit sell client order flows hft co fix issues since may give edge time clients spy qqq ashr baba csca aapl akcpf ba amzn chtr dish dte dvmt glw goog axp ssnlf tmus qcom hpe \n",
      "Predicted summary:  googl sostok -x- -x- -x- -x- -x- -x- -x-\n",
      "\n",
      "\n",
      "Tweet: left alot money table today nvda ba aapl put plays executed plans trigger targets plan stick weather risk side reward side \n",
      "Predicted summary: \n",
      "\n",
      "\n",
      "Tweet: buying aapl mm nke coronavirus fear lets load cheap stocks trading market \n",
      "Predicted summary: \n",
      "\n",
      "\n",
      "Tweet: top moneyflow whole market today spy aapl hyg jnk qqq tsla eem jpm \n",
      "Predicted summary: \n",
      "\n",
      "\n",
      "Tweet: top moneyflow nasdaq today aapl msft goog nflx adbe intc bidu orcl mu amat \n",
      "Predicted summary:  gdxj hold sostok -x- -x- -x- -x- -x- -x-\n",
      "\n",
      "\n",
      "Tweet: top moneyflow sp today aapl msft jpm bac jnj goog nke xom \n",
      "Predicted summary:  optionstrading optionstrading siri optionstrading oncs jd sostok -x- -x-\n",
      "\n",
      "\n",
      "Tweet: profitable day market insight trades shared aapl fb home someone paid attention made money time scan charts find setups lets get money \n",
      "Predicted summary: \n",
      "\n",
      "\n",
      "Tweet: warning sent points even wait thursday aapl nflx fb aal spx ndx esf spy baba \n",
      "Predicted summary:  googl sostok -x- -x- -x- -x- -x- -x- -x-\n",
      "\n",
      "\n",
      "Tweet: todays million dollar call options trade aapl amd amzn bynd crm csco fnv gild hd lk msft nio oxy swks tsla baba fb nee nvda regn \n",
      "Predicted summary:  buy sostok -x- -x- -x- -x- -x- -x- -x-\n",
      "\n",
      "\n",
      "Tweet: dumb people always selling news sbes hdii spom cyio clsi time buy cheap shares otc alpp grfn sfor aapl msft amzn fb googl tsla amd \n",
      "Predicted summary: \n",
      "\n",
      "\n",
      "Tweet: aapl still love co shorted puts today banked gains small accounts grow nicely \n",
      "Predicted summary: \n",
      "\n",
      "\n",
      "Tweet: every year im eyeing aapl big unexpected move last year aapl year servers lesson trade less trade better disclaimer never able capture move \n",
      "Predicted summary:  tst tlt stocks sostok -x- -x- -x- -x- -x-\n",
      "\n",
      "\n",
      "Tweet: todays million dollar put options trade aapl cmg fb googl lvs msft nugt nvda tsla amzn baba panw shop swks ba amd mu shak nflx \n",
      "Predicted summary: \n",
      "\n",
      "\n",
      "Tweet: ftc sending million refunds consumers tricked apple tech support scam aapl \n",
      "Predicted summary:  rate believe sostok -x- -x- -x- -x- -x- -x-\n",
      "\n",
      "\n",
      "Tweet: top money flow feb start free day trial spy ally qqq aapl amzn tsla lyft optionsflow options stocks \n",
      "Predicted summary: \n",
      "\n",
      "\n",
      "Tweet: alert aapl stopped loss position closed \n",
      "Predicted summary: \n",
      "\n",
      "\n",
      "Tweet: new mini camp starts monday learn spy aapl sdc crm dis \n",
      "Predicted summary:  spy us sostok -x- -x- -x- -x- -x- -x-\n",
      "\n",
      "\n",
      "Tweet: stock indexes closed today dow points officially points intraday highs sampp points amp nasdaq points msft gld amzn nvda amd unh pcg biib sfix aapl cost ba ndaq fb twtr mcd dpz spy baba bidu jd tsla \n"
     ]
    },
    {
     "name": "stdout",
     "output_type": "stream",
     "text": [
      "Predicted summary:  spy coronavirus tsla\n",
      "\n",
      "\n",
      "Tweet: aapl spy amzn new article two black swans get latest aapl related news \n",
      "Predicted summary: \n",
      "\n",
      "\n",
      "Tweet: aapl patent tech ip research \n",
      "Predicted summary:  spy us sostok -x- -x- -x- -x- -x- -x-\n",
      "\n",
      "\n",
      "Tweet: grabbing aapl amzn lets see works two days row \n",
      "Predicted summary: \n",
      "\n",
      "\n",
      "Tweet: spom week imo sbes hdii clsi cyio zmrk keep loading related stocks run year otc alpp grfn sfor aapl msft amzn fb googl tsla amd \n",
      "Predicted summary: \n",
      "\n",
      "\n",
      "Tweet: looks terrible imo aapl \n",
      "Predicted summary: \n",
      "\n",
      "\n",
      "Tweet: aapl lows \n",
      "Predicted summary: \n",
      "\n",
      "\n",
      "Tweet: buys today stock investment nasdaq coronavirus investing wfc pfe aapl rds ibm mm wba dividendinvesting dividend \n",
      "Predicted summary: \n",
      "\n",
      "\n",
      "Tweet: coronavirus clouds apples timeline new iphones report aapl \n",
      "Predicted summary:  top sostok -x- -x- -x- -x- -x- -x- -x-\n",
      "\n",
      "\n",
      "Tweet: aapl apple worries investing markets trading \n",
      "Predicted summary: \n",
      "\n",
      "\n",
      "Tweet: nio amd bac aapl uber spce us volume leaders \n",
      "Predicted summary: \n",
      "\n",
      "\n",
      "Tweet: vix rsi way overbought iwm rsi oversold many etfs stks rsi way way low aapl rsi oversold many fb rsi said buy want go rsi ty jim sorry need ask \n",
      "Predicted summary:  tsla vix hope sostok -x- -x- -x- -x- -x-\n",
      "\n",
      "\n",
      "Tweet: last days spx declined largest spx companies time experienced interesting rather synchronized decline msft aapl amzn googl fb passive indexing giveth passive indexing taketh \n",
      "Predicted summary: \n",
      "\n",
      "\n",
      "Tweet: aapl goes sub tomorrow going allin taking summer \n",
      "Predicted summary:  valuation intc tsla sostok -x- -x- -x- -x- -x-\n",
      "\n",
      "\n",
      "Tweet: aapl closes lower th day row sentiment bearish aapl apple \n",
      "Predicted summary:  spy amd sostok -x- -x- -x- -x- -x- -x-\n",
      "\n",
      "\n",
      "Tweet: faang stocks overview amzn fb nflx googl aapl faangs \n",
      "Predicted summary: \n",
      "\n",
      "\n",
      "Tweet: cares spce people able pay hr trip doesnt regulatory approval msft aapl goog amzn nvda roku lk baba avgo skws qcom intc mu amd bidu lrcx fb txn tsla ba ge \n",
      "Predicted summary: \n",
      "\n",
      "\n",
      "Tweet: get followers ill post charts show profitable entry points help rt tweets stock market profits everyone aapl tsla spy \n",
      "Predicted summary: \n",
      "\n",
      "\n",
      "Tweet: great trading models profectus systems aapl bac pg yhoo chk wfc fb crm ge mro nflx amzn tsla spy vlo jblu atvi amd \n",
      "Predicted summary: \n",
      "\n",
      "\n",
      "Tweet: put lot money work today cash level aapl fb roku sbux amzn baba nvda \n",
      "Predicted summary: \n",
      "\n",
      "\n",
      "Tweet: yield curve may losing predictive power closely watched says former fed official aapl de tsla msft amzn googl fb ko spy trading potstocks weedstocks acb hexo apha ogi weed coronavirus covid \n",
      "Predicted summary: \n",
      "\n",
      "\n",
      "Tweet: company reports record financial performance aapl de tsla msft amzn googl fb ko spy trading potstocks weedstocks cannabis acb hexo apha ogi weed tlry \n",
      "Predicted summary:  googl sostok -x- -x- -x- -x- -x- -x- -x-\n",
      "\n",
      "\n",
      "Tweet: mm pump fake actually read ah pump premkt dump whos counting btfd power bottoms dia spy iwm aapl tsla btfd \n",
      "Predicted summary:  amzn fb sostok -x- -x- -x- -x- -x- -x-\n",
      "\n",
      "\n",
      "Tweet: yes quality names like aapl apple nvda nvdia fb facebook days ago great time buy little bit watch happens ok get wet buy whole entire net worth \n",
      "Predicted summary:  tsla amzn fb sostok -x- -x- -x- -x- -x-\n",
      "\n",
      "\n",
      "Tweet: aapl entry level paying along way initial ish took puts still holding small point every day stop struggling let show \n",
      "Predicted summary: \n",
      "\n",
      "\n",
      "Tweet: spx qqq days coronavirus continues spread stocks ran far fast since oct might give back entire move would target spx major caution flag aapl msft amzn jpm bac gs hd cost bonds place hide tlt \n",
      "Predicted summary: \n",
      "\n",
      "\n",
      "Tweet: spy gspc aapl nflx goog tsla disneys iger step bob chapek named new ceo \n",
      "Predicted summary: \n",
      "\n",
      "\n",
      "Tweet: spy gspc aapl nflx goog tsla salesforce shares drop earnings block step \n",
      "Predicted summary:  tsla spy sostok -x- -x- -x- -x- -x- -x-\n",
      "\n",
      "\n",
      "Tweet: spy gspc aapl nflx goog tsla dow sees biggest point drop record amid coronavirus \n",
      "Predicted summary:  tsla spy sostok -x- -x- -x- -x- -x- -x-\n",
      "\n",
      "\n",
      "Tweet: johnson amp johnson apple launches new app aapl \n",
      "Predicted summary:  bears uncertainty sostok -x- -x- -x- -x- -x- -x-\n",
      "\n",
      "\n",
      "Tweet: maybe aapl \n",
      "Predicted summary: \n",
      "\n",
      "\n",
      "Tweet: viac worth less combined market cap two companies around prior merger investors wary streaming strategy viac cmcsa dis nflx aapl sne roku amzn disca lgf twtr fox disca fb goog \n",
      "Predicted summary: \n",
      "\n",
      "\n",
      "Tweet: aapl patent providing data function access node tech ip research \n",
      "Predicted summary: \n",
      "\n",
      "\n",
      "Tweet: huge giveaway people rules retweet follow random winners announced good luck everyone link ltc eth xrp btc neo ada xlm bat trx tsla amzn aapl giveaway crypto bitcoin \n",
      "Predicted summary: \n",
      "\n",
      "\n",
      "Tweet: aapl buy anything higher interest \n",
      "Predicted summary:  tsla amzn moving sostok -x- -x- -x- -x- -x-\n",
      "\n",
      "\n",
      "Tweet: fred board one much time talking aapl tsla electreks take find strange blaming tesla telling people pay attention blaming apple telling employees pay attention driving \n",
      "Predicted summary:  amzn fb sostok -x- -x- -x- -x- -x- -x-\n",
      "\n",
      "\n",
      "Tweet: fred board one much time talking aapl tsla electreks tslaq find strange blaming tesla telling people pay attention blaming apple telling employees pay attention driving \n",
      "Predicted summary:  tsla even amzn codx sostok -x- -x- -x- -x-\n",
      "\n",
      "\n",
      "Tweet: like aapl odds hit sub last push index exhaustion buy orders getting set \n",
      "Predicted summary:  tsla vix spy vix amzn maybe sostok -x- -x-\n",
      "\n",
      "\n",
      "Tweet: could ask better trading session traded stmp aapl lk amd tsla qcom uvxy shak iceman \n",
      "Predicted summary: \n",
      "\n",
      "\n",
      "Tweet: separate hardware software comes covid impact tech say apx aapl \n",
      "Predicted summary: \n",
      "\n",
      "\n",
      "Tweet: invested years ago sp nasdaq nyse nflx pcln amzn crm nvda aapl adbe msft googl goog ebay adsk orcl intc qcom ibm csco hpq fb snap tsla trip qqq spy baba bidu tcehy btc bac jpm ko pep qcom vmw wmt twtr tm gm dis \n",
      "Predicted summary: \n",
      "\n",
      "\n",
      "Tweet: boom nailed tsla play morning come join bulls today spy roku amd aapl nvda amzn cgc nio fb googl lk baba spce \n",
      "Predicted summary: \n",
      "\n",
      "\n"
     ]
    }
   ],
   "source": [
    "for i in range(0,100):\n",
    "    print(\"Tweet:\",seq2text(x_train2[i]))\n",
    "    #     print(\"Original summary:\",seq2summary(y_train[i]))\n",
    "    print(\"Predicted summary:\",decode_sequence(x_train2[i].reshape(1,max_text_len)))\n",
    "    print(\"\\n\")"
   ]
  },
  {
   "cell_type": "code",
   "execution_count": null,
   "metadata": {},
   "outputs": [],
   "source": []
  }
 ],
 "metadata": {
  "kernelspec": {
   "display_name": "Python 3",
   "language": "python",
   "name": "python3"
  },
  "language_info": {
   "codemirror_mode": {
    "name": "ipython",
    "version": 3
   },
   "file_extension": ".py",
   "mimetype": "text/x-python",
   "name": "python",
   "nbconvert_exporter": "python",
   "pygments_lexer": "ipython3",
   "version": "3.7.6"
  }
 },
 "nbformat": 4,
 "nbformat_minor": 4
}
