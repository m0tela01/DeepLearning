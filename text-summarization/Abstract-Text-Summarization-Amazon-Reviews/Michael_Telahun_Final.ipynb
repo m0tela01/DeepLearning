{
 "cells": [
  {
   "cell_type": "code",
   "execution_count": 1,
   "metadata": {},
   "outputs": [
    {
     "name": "stderr",
     "output_type": "stream",
     "text": [
      "WARNING:root:Limited tf.compat.v2.summary API due to missing TensorBoard installation.\n",
      "WARNING:root:Limited tf.compat.v2.summary API due to missing TensorBoard installation.\n",
      "WARNING:root:Limited tf.compat.v2.summary API due to missing TensorBoard installation.\n",
      "WARNING:root:Limited tf.compat.v2.summary API due to missing TensorBoard installation.\n",
      "WARNING:root:Limited tf.compat.v2.summary API due to missing TensorBoard installation.\n",
      "WARNING:root:Limited tf.compat.v2.summary API due to missing TensorBoard installation.\n",
      "WARNING:root:Limited tf.summary API due to missing TensorBoard installation.\n"
     ]
    }
   ],
   "source": [
    "from attention import AttentionLayer # from here https://github.com/thushv89/attention_keras/blob/master/layers/attention.py"
   ]
  },
  {
   "cell_type": "code",
   "execution_count": 2,
   "metadata": {},
   "outputs": [
    {
     "name": "stderr",
     "output_type": "stream",
     "text": [
      "Using TensorFlow backend.\n"
     ]
    }
   ],
   "source": [
    "import os\n",
    "import re\n",
    "import sys\n",
    "import numpy as np\n",
    "import pandas as pd\n",
    "import warnings\n",
    "pd.set_option(\"display.max_colwidth\", 200)\n",
    "warnings.filterwarnings(\"ignore\")\n",
    "\n",
    "from bs4 import BeautifulSoup\n",
    "\n",
    "import matplotlib.pyplot as plt\n",
    "import seaborn as sns\n",
    "sns.set_style('dark')\n",
    "\n",
    "from nltk.corpus import stopwords\n",
    "stop_words = set(stopwords.words('english')) \n",
    "\n",
    "from keras import backend as K, layers\n",
    "from keras.preprocessing.text import Tokenizer \n",
    "from keras.preprocessing.sequence import pad_sequences\n",
    "\n",
    "from sklearn.model_selection import train_test_split\n",
    "\n",
    "import tensorflow as tf\n",
    "from tensorflow.keras.models import Model\n",
    "from tensorflow.keras.callbacks import EarlyStopping\n",
    "from tensorflow.keras.layers import Input, LSTM, Embedding, Dense, Concatenate, TimeDistributed, Bidirectional"
   ]
  },
  {
   "cell_type": "code",
   "execution_count": 3,
   "metadata": {},
   "outputs": [
    {
     "data": {
      "text/plain": [
       "'/home/nemo/Documents/school/Final Project'"
      ]
     },
     "execution_count": 3,
     "metadata": {},
     "output_type": "execute_result"
    }
   ],
   "source": [
    "os.getcwd()"
   ]
  },
  {
   "cell_type": "code",
   "execution_count": 4,
   "metadata": {},
   "outputs": [],
   "source": [
    "data = pd.read_csv(os.getcwd() + '/amazon-fine-food-reviews/Reviews.csv')"
   ]
  },
  {
   "cell_type": "code",
   "execution_count": 5,
   "metadata": {},
   "outputs": [
    {
     "data": {
      "text/html": [
       "<div>\n",
       "<style scoped>\n",
       "    .dataframe tbody tr th:only-of-type {\n",
       "        vertical-align: middle;\n",
       "    }\n",
       "\n",
       "    .dataframe tbody tr th {\n",
       "        vertical-align: top;\n",
       "    }\n",
       "\n",
       "    .dataframe thead th {\n",
       "        text-align: right;\n",
       "    }\n",
       "</style>\n",
       "<table border=\"1\" class=\"dataframe\">\n",
       "  <thead>\n",
       "    <tr style=\"text-align: right;\">\n",
       "      <th></th>\n",
       "      <th>Id</th>\n",
       "      <th>ProductId</th>\n",
       "      <th>UserId</th>\n",
       "      <th>ProfileName</th>\n",
       "      <th>HelpfulnessNumerator</th>\n",
       "      <th>HelpfulnessDenominator</th>\n",
       "      <th>Score</th>\n",
       "      <th>Time</th>\n",
       "      <th>Summary</th>\n",
       "      <th>Text</th>\n",
       "    </tr>\n",
       "  </thead>\n",
       "  <tbody>\n",
       "    <tr>\n",
       "      <th>0</th>\n",
       "      <td>1</td>\n",
       "      <td>B001E4KFG0</td>\n",
       "      <td>A3SGXH7AUHU8GW</td>\n",
       "      <td>delmartian</td>\n",
       "      <td>1</td>\n",
       "      <td>1</td>\n",
       "      <td>5</td>\n",
       "      <td>1303862400</td>\n",
       "      <td>Good Quality Dog Food</td>\n",
       "      <td>I have bought several of the Vitality canned dog food products and have found them all to be of good quality. The product looks more like a stew than a processed meat and it smells better. My Labr...</td>\n",
       "    </tr>\n",
       "    <tr>\n",
       "      <th>1</th>\n",
       "      <td>2</td>\n",
       "      <td>B00813GRG4</td>\n",
       "      <td>A1D87F6ZCVE5NK</td>\n",
       "      <td>dll pa</td>\n",
       "      <td>0</td>\n",
       "      <td>0</td>\n",
       "      <td>1</td>\n",
       "      <td>1346976000</td>\n",
       "      <td>Not as Advertised</td>\n",
       "      <td>Product arrived labeled as Jumbo Salted Peanuts...the peanuts were actually small sized unsalted. Not sure if this was an error or if the vendor intended to represent the product as \"Jumbo\".</td>\n",
       "    </tr>\n",
       "  </tbody>\n",
       "</table>\n",
       "</div>"
      ],
      "text/plain": [
       "   Id   ProductId          UserId ProfileName  HelpfulnessNumerator  \\\n",
       "0   1  B001E4KFG0  A3SGXH7AUHU8GW  delmartian                     1   \n",
       "1   2  B00813GRG4  A1D87F6ZCVE5NK      dll pa                     0   \n",
       "\n",
       "   HelpfulnessDenominator  Score        Time                Summary  \\\n",
       "0                       1      5  1303862400  Good Quality Dog Food   \n",
       "1                       0      1  1346976000      Not as Advertised   \n",
       "\n",
       "                                                                                                                                                                                                      Text  \n",
       "0  I have bought several of the Vitality canned dog food products and have found them all to be of good quality. The product looks more like a stew than a processed meat and it smells better. My Labr...  \n",
       "1           Product arrived labeled as Jumbo Salted Peanuts...the peanuts were actually small sized unsalted. Not sure if this was an error or if the vendor intended to represent the product as \"Jumbo\".  "
      ]
     },
     "execution_count": 5,
     "metadata": {},
     "output_type": "execute_result"
    }
   ],
   "source": [
    "data.head(2)"
   ]
  },
  {
   "cell_type": "code",
   "execution_count": 6,
   "metadata": {},
   "outputs": [
    {
     "name": "stdout",
     "output_type": "stream",
     "text": [
      "shape:  (568454, 10)\n",
      "<class 'pandas.core.frame.DataFrame'>\n",
      "RangeIndex: 568454 entries, 0 to 568453\n",
      "Data columns (total 10 columns):\n",
      " #   Column                  Non-Null Count   Dtype \n",
      "---  ------                  --------------   ----- \n",
      " 0   Id                      568454 non-null  int64 \n",
      " 1   ProductId               568454 non-null  object\n",
      " 2   UserId                  568454 non-null  object\n",
      " 3   ProfileName             568438 non-null  object\n",
      " 4   HelpfulnessNumerator    568454 non-null  int64 \n",
      " 5   HelpfulnessDenominator  568454 non-null  int64 \n",
      " 6   Score                   568454 non-null  int64 \n",
      " 7   Time                    568454 non-null  int64 \n",
      " 8   Summary                 568427 non-null  object\n",
      " 9   Text                    568454 non-null  object\n",
      "dtypes: int64(5), object(5)\n",
      "memory usage: 43.4+ MB\n"
     ]
    }
   ],
   "source": [
    "print(\"shape: \", data.shape)\n",
    "data.info()"
   ]
  },
  {
   "cell_type": "code",
   "execution_count": 7,
   "metadata": {},
   "outputs": [
    {
     "data": {
      "text/html": [
       "<div>\n",
       "<style scoped>\n",
       "    .dataframe tbody tr th:only-of-type {\n",
       "        vertical-align: middle;\n",
       "    }\n",
       "\n",
       "    .dataframe tbody tr th {\n",
       "        vertical-align: top;\n",
       "    }\n",
       "\n",
       "    .dataframe thead th {\n",
       "        text-align: right;\n",
       "    }\n",
       "</style>\n",
       "<table border=\"1\" class=\"dataframe\">\n",
       "  <thead>\n",
       "    <tr style=\"text-align: right;\">\n",
       "      <th></th>\n",
       "      <th>Id</th>\n",
       "      <th>HelpfulnessNumerator</th>\n",
       "      <th>HelpfulnessDenominator</th>\n",
       "      <th>Score</th>\n",
       "      <th>Time</th>\n",
       "    </tr>\n",
       "  </thead>\n",
       "  <tbody>\n",
       "    <tr>\n",
       "      <th>count</th>\n",
       "      <td>568454.000000</td>\n",
       "      <td>568454.000000</td>\n",
       "      <td>568454.00000</td>\n",
       "      <td>568454.000000</td>\n",
       "      <td>5.684540e+05</td>\n",
       "    </tr>\n",
       "    <tr>\n",
       "      <th>mean</th>\n",
       "      <td>284227.500000</td>\n",
       "      <td>1.743817</td>\n",
       "      <td>2.22881</td>\n",
       "      <td>4.183199</td>\n",
       "      <td>1.296257e+09</td>\n",
       "    </tr>\n",
       "    <tr>\n",
       "      <th>std</th>\n",
       "      <td>164098.679298</td>\n",
       "      <td>7.636513</td>\n",
       "      <td>8.28974</td>\n",
       "      <td>1.310436</td>\n",
       "      <td>4.804331e+07</td>\n",
       "    </tr>\n",
       "    <tr>\n",
       "      <th>min</th>\n",
       "      <td>1.000000</td>\n",
       "      <td>0.000000</td>\n",
       "      <td>0.00000</td>\n",
       "      <td>1.000000</td>\n",
       "      <td>9.393408e+08</td>\n",
       "    </tr>\n",
       "    <tr>\n",
       "      <th>25%</th>\n",
       "      <td>142114.250000</td>\n",
       "      <td>0.000000</td>\n",
       "      <td>0.00000</td>\n",
       "      <td>4.000000</td>\n",
       "      <td>1.271290e+09</td>\n",
       "    </tr>\n",
       "    <tr>\n",
       "      <th>50%</th>\n",
       "      <td>284227.500000</td>\n",
       "      <td>0.000000</td>\n",
       "      <td>1.00000</td>\n",
       "      <td>5.000000</td>\n",
       "      <td>1.311120e+09</td>\n",
       "    </tr>\n",
       "    <tr>\n",
       "      <th>75%</th>\n",
       "      <td>426340.750000</td>\n",
       "      <td>2.000000</td>\n",
       "      <td>2.00000</td>\n",
       "      <td>5.000000</td>\n",
       "      <td>1.332720e+09</td>\n",
       "    </tr>\n",
       "    <tr>\n",
       "      <th>max</th>\n",
       "      <td>568454.000000</td>\n",
       "      <td>866.000000</td>\n",
       "      <td>923.00000</td>\n",
       "      <td>5.000000</td>\n",
       "      <td>1.351210e+09</td>\n",
       "    </tr>\n",
       "  </tbody>\n",
       "</table>\n",
       "</div>"
      ],
      "text/plain": [
       "                  Id  HelpfulnessNumerator  HelpfulnessDenominator  \\\n",
       "count  568454.000000         568454.000000            568454.00000   \n",
       "mean   284227.500000              1.743817                 2.22881   \n",
       "std    164098.679298              7.636513                 8.28974   \n",
       "min         1.000000              0.000000                 0.00000   \n",
       "25%    142114.250000              0.000000                 0.00000   \n",
       "50%    284227.500000              0.000000                 1.00000   \n",
       "75%    426340.750000              2.000000                 2.00000   \n",
       "max    568454.000000            866.000000               923.00000   \n",
       "\n",
       "               Score          Time  \n",
       "count  568454.000000  5.684540e+05  \n",
       "mean        4.183199  1.296257e+09  \n",
       "std         1.310436  4.804331e+07  \n",
       "min         1.000000  9.393408e+08  \n",
       "25%         4.000000  1.271290e+09  \n",
       "50%         5.000000  1.311120e+09  \n",
       "75%         5.000000  1.332720e+09  \n",
       "max         5.000000  1.351210e+09  "
      ]
     },
     "execution_count": 7,
     "metadata": {},
     "output_type": "execute_result"
    }
   ],
   "source": [
    "data.describe()"
   ]
  },
  {
   "cell_type": "code",
   "execution_count": 8,
   "metadata": {},
   "outputs": [
    {
     "name": "stdout",
     "output_type": "stream",
     "text": [
      "shape:  (568411, 10)\n"
     ]
    }
   ],
   "source": [
    "cleaning = data.drop_duplicates(subset=['Text'])\n",
    "cleaning = data.dropna(axis=0)\n",
    "print(\"shape: \", cleaning.shape)"
   ]
  },
  {
   "cell_type": "code",
   "execution_count": 9,
   "metadata": {},
   "outputs": [],
   "source": [
    "## contrations to full formed phrase\n",
    "contraction_mapping = {\"ain't\": \"is not\", \"aren't\": \"are not\",\"can't\": \"cannot\", \"'cause\": \"because\", \"could've\": \"could have\", \"couldn't\": \"could not\",\n",
    "                           \"didn't\": \"did not\",  \"doesn't\": \"does not\", \"don't\": \"do not\", \"hadn't\": \"had not\", \"hasn't\": \"has not\", \"haven't\": \"have not\",\n",
    "                           \"he'd\": \"he would\",\"he'll\": \"he will\", \"he's\": \"he is\", \"how'd\": \"how did\", \"how'd'y\": \"how do you\", \"how'll\": \"how will\", \"how's\": \"how is\",\n",
    "                           \"I'd\": \"I would\", \"I'd've\": \"I would have\", \"I'll\": \"I will\", \"I'll've\": \"I will have\",\"I'm\": \"I am\", \"I've\": \"I have\", \"i'd\": \"i would\",\n",
    "                           \"i'd've\": \"i would have\", \"i'll\": \"i will\",  \"i'll've\": \"i will have\",\"i'm\": \"i am\", \"i've\": \"i have\", \"isn't\": \"is not\", \"it'd\": \"it would\",\n",
    "                           \"it'd've\": \"it would have\", \"it'll\": \"it will\", \"it'll've\": \"it will have\",\"it's\": \"it is\", \"let's\": \"let us\", \"ma'am\": \"madam\",\n",
    "                           \"mayn't\": \"may not\", \"might've\": \"might have\",\"mightn't\": \"might not\",\"mightn't've\": \"might not have\", \"must've\": \"must have\",\n",
    "                           \"mustn't\": \"must not\", \"mustn't've\": \"must not have\", \"needn't\": \"need not\", \"needn't've\": \"need not have\",\"o'clock\": \"of the clock\",\n",
    "                           \"oughtn't\": \"ought not\", \"oughtn't've\": \"ought not have\", \"shan't\": \"shall not\", \"sha'n't\": \"shall not\", \"shan't've\": \"shall not have\",\n",
    "                           \"she'd\": \"she would\", \"she'd've\": \"she would have\", \"she'll\": \"she will\", \"she'll've\": \"she will have\", \"she's\": \"she is\",\n",
    "                           \"should've\": \"should have\", \"shouldn't\": \"should not\", \"shouldn't've\": \"should not have\", \"so've\": \"so have\",\"so's\": \"so as\",\n",
    "                           \"this's\": \"this is\",\"that'd\": \"that would\", \"that'd've\": \"that would have\", \"that's\": \"that is\", \"there'd\": \"there would\",\n",
    "                           \"there'd've\": \"there would have\", \"there's\": \"there is\", \"here's\": \"here is\",\"they'd\": \"they would\", \"they'd've\": \"they would have\",\n",
    "                           \"they'll\": \"they will\", \"they'll've\": \"they will have\", \"they're\": \"they are\", \"they've\": \"they have\", \"to've\": \"to have\",\n",
    "                           \"wasn't\": \"was not\", \"we'd\": \"we would\", \"we'd've\": \"we would have\", \"we'll\": \"we will\", \"we'll've\": \"we will have\", \"we're\": \"we are\",\n",
    "                           \"we've\": \"we have\", \"weren't\": \"were not\", \"what'll\": \"what will\", \"what'll've\": \"what will have\", \"what're\": \"what are\",\n",
    "                           \"what's\": \"what is\", \"what've\": \"what have\", \"when's\": \"when is\", \"when've\": \"when have\", \"where'd\": \"where did\", \"where's\": \"where is\",\n",
    "                           \"where've\": \"where have\", \"who'll\": \"who will\", \"who'll've\": \"who will have\", \"who's\": \"who is\", \"who've\": \"who have\",\n",
    "                           \"why's\": \"why is\", \"why've\": \"why have\", \"will've\": \"will have\", \"won't\": \"will not\", \"won't've\": \"will not have\",\n",
    "                           \"would've\": \"would have\", \"wouldn't\": \"would not\", \"wouldn't've\": \"would not have\", \"y'all\": \"you all\",\n",
    "                           \"y'all'd\": \"you all would\",\"y'all'd've\": \"you all would have\",\"y'all're\": \"you all are\",\"y'all've\": \"you all have\",\n",
    "                           \"you'd\": \"you would\", \"you'd've\": \"you would have\", \"you'll\": \"you will\", \"you'll've\": \"you will have\",\n",
    "                           \"you're\": \"you are\", \"you've\": \"you have\"}"
   ]
  },
  {
   "cell_type": "code",
   "execution_count": 10,
   "metadata": {},
   "outputs": [],
   "source": [
    "def text_cleaner(text,num):\n",
    "    newString = text.lower()\n",
    "    newString = BeautifulSoup(newString, \"lxml\").text  ## html\n",
    "    newString = re.sub(r'\\([^)]*\\)', '', newString)   ## parenthesis\n",
    "    newString = re.sub('\"','', newString)   ## quotes\n",
    "    newString = ' '.join([contraction_mapping[t] if t in contraction_mapping else t for t in newString.split(\" \")])    \n",
    "    newString = re.sub(r\"'s\\b\",\"\",newString)\n",
    "    newString = re.sub(\"[^a-zA-Z]\", \" \", newString) ## non-alphabet letters\n",
    "    newString = re.sub('[m]{2,}', 'mm', newString) \n",
    "    if(num==0):\n",
    "        tokens = [w for w in newString.split() if not w in stop_words]\n",
    "    else:\n",
    "        tokens=newString.split()\n",
    "    long_words=[]\n",
    "    for i in tokens:\n",
    "        if len(i)>1:                ##removing short word\n",
    "            long_words.append(i)   \n",
    "    return (\" \".join(long_words)).strip()"
   ]
  },
  {
   "cell_type": "code",
   "execution_count": 11,
   "metadata": {},
   "outputs": [],
   "source": [
    "def clean_text(data, feature, index):\n",
    "    cleaned = []\n",
    "    count = data.shape[0]\n",
    "    for i, text in enumerate(data[feature]):\n",
    "        cleaned.append(text_cleaner(text, index))\n",
    "        print(str(i/count*100) +\"%\", sep='', end='\\r')\n",
    "    return cleaned"
   ]
  },
  {
   "cell_type": "code",
   "execution_count": 12,
   "metadata": {},
   "outputs": [
    {
     "name": "stdout",
     "output_type": "stream",
     "text": [
      "99.99982407096275%%%%%%\r"
     ]
    }
   ],
   "source": [
    "cleaned_text = clean_text(cleaning, 'Text', 0)"
   ]
  },
  {
   "cell_type": "code",
   "execution_count": 13,
   "metadata": {},
   "outputs": [
    {
     "name": "stdout",
     "output_type": "stream",
     "text": [
      "99.99982407096275%%%%%%\r"
     ]
    }
   ],
   "source": [
    "cleaned_summary = clean_text(cleaning, 'Summary', 1)"
   ]
  },
  {
   "cell_type": "code",
   "execution_count": 14,
   "metadata": {},
   "outputs": [
    {
     "data": {
      "text/plain": [
       "['bought several vitality canned dog food products found good quality product looks like stew processed meat smells better labrador finicky appreciates product better',\n",
       " 'product arrived labeled jumbo salted peanuts peanuts actually small sized unsalted sure error vendor intended represent product jumbo',\n",
       " 'confection around centuries light pillowy citrus gelatin nuts case filberts cut tiny squares liberally coated powdered sugar tiny mouthful heaven chewy flavorful highly recommend yummy treat familiar story lewis lion witch wardrobe treat seduces edmund selling brother sisters witch']"
      ]
     },
     "execution_count": 14,
     "metadata": {},
     "output_type": "execute_result"
    }
   ],
   "source": [
    "## texts\n",
    "cleaned_text[:3]"
   ]
  },
  {
   "cell_type": "code",
   "execution_count": 15,
   "metadata": {},
   "outputs": [
    {
     "data": {
      "text/plain": [
       "['good quality dog food', 'not as advertised', 'delight says it all']"
      ]
     },
     "execution_count": 15,
     "metadata": {},
     "output_type": "execute_result"
    }
   ],
   "source": [
    "## summaries\n",
    "cleaned_summary[:3]"
   ]
  },
  {
   "cell_type": "code",
   "execution_count": 16,
   "metadata": {},
   "outputs": [],
   "source": [
    "cleaning['cleaned_text']=cleaned_text\n",
    "cleaning['cleaned_summary']=cleaned_summary"
   ]
  },
  {
   "cell_type": "code",
   "execution_count": 17,
   "metadata": {},
   "outputs": [],
   "source": [
    "cleaning.replace('', np.nan, inplace=True)\n",
    "cleaning.dropna(axis=0,inplace=True)"
   ]
  },
  {
   "cell_type": "code",
   "execution_count": 18,
   "metadata": {},
   "outputs": [
    {
     "data": {
      "image/png": "[encoded data removed]",
      "text/plain": [
       "<Figure size 1440x576 with 2 Axes>"
      ]
     },
     "metadata": {},
     "output_type": "display_data"
    }
   ],
   "source": [
    "text_word_count = []\n",
    "summary_word_count = []\n",
    "\n",
    "for text in cleaning['cleaned_text']:\n",
    "    text_word_count.append(len(text.split()))\n",
    "    \n",
    "for text in cleaning['cleaned_summary']:\n",
    "    summary_word_count.append(len(text.split()))\n",
    "\n",
    "\n",
    "length_df = pd.DataFrame({'text': text_word_count, 'summary': summary_word_count})\n",
    "length_df.hist(bins=30, figsize=(20,8))\n",
    "plt.show()"
   ]
  },
  {
   "cell_type": "markdown",
   "metadata": {},
   "source": [
    "### Determine size of summaries and text"
   ]
  },
  {
   "cell_type": "code",
   "execution_count": 19,
   "metadata": {},
   "outputs": [
    {
     "name": "stdout",
     "output_type": "stream",
     "text": [
      "0.9796298546146681\n"
     ]
    }
   ],
   "source": [
    "cnt=0\n",
    "for i in cleaning['cleaned_summary']:\n",
    "    if(len(i.split())<=10):\n",
    "        cnt=cnt+1\n",
    "print(cnt/len(cleaning['cleaned_summary']))"
   ]
  },
  {
   "cell_type": "code",
   "execution_count": 20,
   "metadata": {},
   "outputs": [
    {
     "name": "stdout",
     "output_type": "stream",
     "text": [
      "0.9778849489117669\n"
     ]
    }
   ],
   "source": [
    "cnt=0\n",
    "for i in cleaning['cleaned_text']:\n",
    "    if(len(i.split())<=140):\n",
    "        cnt=cnt+1\n",
    "print(cnt/len(cleaning['cleaned_text']))"
   ]
  },
  {
   "cell_type": "code",
   "execution_count": 21,
   "metadata": {},
   "outputs": [],
   "source": [
    "max_text_len=140 ##original tweet character limit\n",
    "max_summary_len=10"
   ]
  },
  {
   "cell_type": "code",
   "execution_count": null,
   "metadata": {},
   "outputs": [],
   "source": []
  },
  {
   "cell_type": "code",
   "execution_count": 22,
   "metadata": {},
   "outputs": [],
   "source": [
    "cleaned_text =np.array(cleaning['cleaned_text'])\n",
    "cleaned_summary=np.array(cleaning['cleaned_summary'])\n",
    "\n",
    "short_text=[]\n",
    "short_summary=[]\n",
    "\n",
    "for i in range(len(cleaned_text)):\n",
    "    if(len(cleaned_summary[i].split())<=max_summary_len and len(cleaned_text[i].split())<=max_text_len):\n",
    "        short_text.append(cleaned_text[i])\n",
    "        short_summary.append(cleaned_summary[i])\n",
    "        \n",
    "df=pd.DataFrame({'text':short_text,'summary':short_summary})"
   ]
  },
  {
   "cell_type": "code",
   "execution_count": 23,
   "metadata": {},
   "outputs": [],
   "source": [
    "df['summary'] = df['summary'].apply(lambda x : 'sostok '+ x + ' eostok')"
   ]
  },
  {
   "cell_type": "code",
   "execution_count": 24,
   "metadata": {},
   "outputs": [
    {
     "data": {
      "text/html": [
       "<div>\n",
       "<style scoped>\n",
       "    .dataframe tbody tr th:only-of-type {\n",
       "        vertical-align: middle;\n",
       "    }\n",
       "\n",
       "    .dataframe tbody tr th {\n",
       "        vertical-align: top;\n",
       "    }\n",
       "\n",
       "    .dataframe thead th {\n",
       "        text-align: right;\n",
       "    }\n",
       "</style>\n",
       "<table border=\"1\" class=\"dataframe\">\n",
       "  <thead>\n",
       "    <tr style=\"text-align: right;\">\n",
       "      <th></th>\n",
       "      <th>text</th>\n",
       "      <th>summary</th>\n",
       "    </tr>\n",
       "  </thead>\n",
       "  <tbody>\n",
       "    <tr>\n",
       "      <th>0</th>\n",
       "      <td>bought several vitality canned dog food products found good quality product looks like stew processed meat smells better labrador finicky appreciates product better</td>\n",
       "      <td>sostok good quality dog food eostok</td>\n",
       "    </tr>\n",
       "    <tr>\n",
       "      <th>1</th>\n",
       "      <td>product arrived labeled jumbo salted peanuts peanuts actually small sized unsalted sure error vendor intended represent product jumbo</td>\n",
       "      <td>sostok not as advertised eostok</td>\n",
       "    </tr>\n",
       "  </tbody>\n",
       "</table>\n",
       "</div>"
      ],
      "text/plain": [
       "                                                                                                                                                                   text  \\\n",
       "0  bought several vitality canned dog food products found good quality product looks like stew processed meat smells better labrador finicky appreciates product better   \n",
       "1                                 product arrived labeled jumbo salted peanuts peanuts actually small sized unsalted sure error vendor intended represent product jumbo   \n",
       "\n",
       "                               summary  \n",
       "0  sostok good quality dog food eostok  \n",
       "1      sostok not as advertised eostok  "
      ]
     },
     "execution_count": 24,
     "metadata": {},
     "output_type": "execute_result"
    }
   ],
   "source": [
    "df.head(2)"
   ]
  },
  {
   "cell_type": "markdown",
   "metadata": {},
   "source": [
    "### Splitting into train and test"
   ]
  },
  {
   "cell_type": "code",
   "execution_count": 25,
   "metadata": {},
   "outputs": [],
   "source": [
    "x_train, x_val, y_train, y_val = train_test_split(np.array(df['text']), np.array(df['summary']), \\\n",
    "                                                  test_size=0.2, random_state=0, shuffle=True) "
   ]
  },
  {
   "cell_type": "markdown",
   "metadata": {},
   "source": [
    "### tokenize text"
   ]
  },
  {
   "cell_type": "code",
   "execution_count": 26,
   "metadata": {},
   "outputs": [],
   "source": [
    "x_tokenizer = Tokenizer()\n",
    "x_tokenizer.fit_on_texts(list(x_train))"
   ]
  },
  {
   "cell_type": "code",
   "execution_count": 27,
   "metadata": {},
   "outputs": [
    {
     "name": "stdout",
     "output_type": "stream",
     "text": [
      "% of rare words in vocabulary: 43.84752720927183\n",
      "Total Coverage of rare words: 0.29215902833566204\n"
     ]
    }
   ],
   "source": [
    "thresh=2\n",
    "\n",
    "cnt=0\n",
    "tot_cnt=0\n",
    "freq=0\n",
    "tot_freq=0\n",
    "\n",
    "for key,value in x_tokenizer.word_counts.items():\n",
    "    tot_cnt=tot_cnt+1\n",
    "    tot_freq=tot_freq+value\n",
    "    if(value<thresh):\n",
    "        cnt=cnt+1\n",
    "        freq=freq+value\n",
    "    \n",
    "print(\"% of rare words in vocabulary:\",(cnt/tot_cnt)*100)\n",
    "print(\"Total Coverage of rare words:\",(freq/tot_freq)*100)"
   ]
  },
  {
   "cell_type": "code",
   "execution_count": 28,
   "metadata": {},
   "outputs": [
    {
     "data": {
      "text/plain": [
       "55670"
      ]
     },
     "execution_count": 28,
     "metadata": {},
     "output_type": "execute_result"
    }
   ],
   "source": [
    "#prepare a tokenizer for reviews on training data\n",
    "x_tokenizer = Tokenizer(num_words=tot_cnt-cnt) \n",
    "x_tokenizer.fit_on_texts(list(x_train))\n",
    "\n",
    "#convert text sequences into integer sequences\n",
    "x_train_seq    =   x_tokenizer.texts_to_sequences(x_train) \n",
    "x_val_seq   =   x_tokenizer.texts_to_sequences(x_val)\n",
    "\n",
    "#padding zero upto maximum length\n",
    "x_train    =   pad_sequences(x_train_seq,  maxlen=max_text_len, padding='post')\n",
    "x_val   =   pad_sequences(x_val_seq, maxlen=max_text_len, padding='post')\n",
    "\n",
    "#size of vocabulary ( +1 for padding token)\n",
    "x_voc   =  x_tokenizer.num_words + 1\n",
    "x_voc"
   ]
  },
  {
   "cell_type": "code",
   "execution_count": null,
   "metadata": {},
   "outputs": [],
   "source": []
  },
  {
   "cell_type": "markdown",
   "metadata": {},
   "source": [
    "### tokenize summary"
   ]
  },
  {
   "cell_type": "code",
   "execution_count": 29,
   "metadata": {},
   "outputs": [],
   "source": [
    "y_tokenizer = Tokenizer()   \n",
    "y_tokenizer.fit_on_texts(list(y_train))"
   ]
  },
  {
   "cell_type": "code",
   "execution_count": 30,
   "metadata": {},
   "outputs": [
    {
     "name": "stdout",
     "output_type": "stream",
     "text": [
      "% of rare words in vocabulary: 42.915752988611445\n",
      "Total Coverage of rare words: 0.48205445618306153\n"
     ]
    }
   ],
   "source": [
    "thresh=2\n",
    "\n",
    "cnt=0\n",
    "tot_cnt=0\n",
    "freq=0\n",
    "tot_freq=0\n",
    "\n",
    "for key,value in y_tokenizer.word_counts.items():\n",
    "    tot_cnt=tot_cnt+1\n",
    "    tot_freq=tot_freq+value\n",
    "    if(value<thresh):\n",
    "        cnt=cnt+1\n",
    "        freq=freq+value\n",
    "    \n",
    "print(\"% of rare words in vocabulary:\",(cnt/tot_cnt)*100)\n",
    "print(\"Total Coverage of rare words:\",(freq/tot_freq)*100)"
   ]
  },
  {
   "cell_type": "code",
   "execution_count": 31,
   "metadata": {},
   "outputs": [
    {
     "data": {
      "text/plain": [
       "16141"
      ]
     },
     "execution_count": 31,
     "metadata": {},
     "output_type": "execute_result"
    }
   ],
   "source": [
    "#prepare a tokenizer for reviews on training data\n",
    "y_tokenizer = Tokenizer(num_words=tot_cnt-cnt) \n",
    "y_tokenizer.fit_on_texts(list(y_train))\n",
    "\n",
    "#convert text sequences into integer sequences\n",
    "y_train_seq    =   y_tokenizer.texts_to_sequences(y_train) \n",
    "y_val_seq   =   y_tokenizer.texts_to_sequences(y_val) \n",
    "\n",
    "#padding zero upto maximum length\n",
    "y_train    =   pad_sequences(y_train_seq, maxlen=max_summary_len, padding='post')\n",
    "y_val   =   pad_sequences(y_val_seq, maxlen=max_summary_len, padding='post')\n",
    "\n",
    "#size of vocabulary\n",
    "y_voc  =   y_tokenizer.num_words +1\n",
    "y_voc"
   ]
  },
  {
   "cell_type": "code",
   "execution_count": 32,
   "metadata": {},
   "outputs": [
    {
     "data": {
      "text/plain": [
       "(436099, 436099)"
      ]
     },
     "execution_count": 32,
     "metadata": {},
     "output_type": "execute_result"
    }
   ],
   "source": [
    "y_tokenizer.word_counts['sostok'],len(y_train) "
   ]
  },
  {
   "cell_type": "code",
   "execution_count": 33,
   "metadata": {},
   "outputs": [],
   "source": [
    "## delete entries with just start and end tokens\n",
    "ind=[]\n",
    "for i in range(len(y_train)):\n",
    "    cnt=0\n",
    "    for j in y_train[i]:\n",
    "        if j!=0:\n",
    "            cnt=cnt+1\n",
    "    if(cnt==2):\n",
    "        ind.append(i)\n",
    "\n",
    "y_train=np.delete(y_train,ind, axis=0)\n",
    "x_train=np.delete(x_train,ind, axis=0)"
   ]
  },
  {
   "cell_type": "code",
   "execution_count": 34,
   "metadata": {},
   "outputs": [],
   "source": [
    "## delete entries with just start and end tokens\n",
    "ind=[]\n",
    "for i in range(len(y_val)):\n",
    "    cnt=0\n",
    "    for j in y_val[i]:\n",
    "        if j!=0:\n",
    "            cnt=cnt+1\n",
    "    if(cnt==2):\n",
    "        ind.append(i)\n",
    "\n",
    "y_val=np.delete(y_val,ind, axis=0)\n",
    "x_val=np.delete(x_val,ind, axis=0)"
   ]
  },
  {
   "cell_type": "code",
   "execution_count": null,
   "metadata": {},
   "outputs": [],
   "source": []
  },
  {
   "cell_type": "markdown",
   "metadata": {},
   "source": [
    "### plotting"
   ]
  },
  {
   "cell_type": "code",
   "execution_count": 35,
   "metadata": {},
   "outputs": [],
   "source": [
    "def plotloss(history_dict):\n",
    "    acc = history_dict['acc']\n",
    "    loss_values = history_dict['loss']\n",
    "#     val_loss_values = history_dict['val_loss']\n",
    "    epochs = range(1, len(acc) + 1)\n",
    "\n",
    "    plt.figure(figsize=(16, 10))\n",
    "    plt.plot(epochs, loss_values, 'r', label='Training loss')\n",
    "#     plt.plot(epochs, val_loss_values, 'g', label='Validation loss')\n",
    "    plt.title('Training and validation loss')\n",
    "    plt.xlabel('Epochs')\n",
    "    plt.ylabel('Loss')\n",
    "    plt.legend()\n",
    "    plt.show()\n",
    "    \n",
    "def plotacc(history):\n",
    "    acc = history.history['acc']\n",
    "#     val_acc = history.history['val_acc']\n",
    "    epochs = range(1, len(acc) + 1)\n",
    "\n",
    "    plt.figure(figsize=(16, 10))\n",
    "    plt.plot(epochs, acc, 'r', label='Training acc')\n",
    "#     plt.plot(epochs, val_acc, 'g', label='Validation acc')\n",
    "    plt.title('Training and validation accuracy')\n",
    "    plt.xlabel('Epochs')\n",
    "    plt.ylabel('Loss')\n",
    "    plt.legend()\n",
    "    plt.show()"
   ]
  },
  {
   "cell_type": "markdown",
   "metadata": {},
   "source": [
    "### my computer doesn't like tensorflow after I play a game or use the gpu "
   ]
  },
  {
   "cell_type": "code",
   "execution_count": 36,
   "metadata": {},
   "outputs": [],
   "source": [
    "import gc\n",
    "from numba import cuda"
   ]
  },
  {
   "cell_type": "code",
   "execution_count": 37,
   "metadata": {},
   "outputs": [],
   "source": [
    "# K.clear_session()\n",
    "# gc.collect()\n",
    "\n",
    "# cuda.select_device(0)\n",
    "# cuda.close()"
   ]
  },
  {
   "cell_type": "code",
   "execution_count": 38,
   "metadata": {},
   "outputs": [
    {
     "name": "stdout",
     "output_type": "stream",
     "text": [
      "Gpus: [PhysicalDevice(name='/physical_device:GPU:0', device_type='GPU'), PhysicalDevice(name='/physical_device:GPU:1', device_type='GPU')]\n",
      "2 Physical GPUs, 1 Logical GPUs\n"
     ]
    }
   ],
   "source": [
    "gpus = tf.config.experimental.list_physical_devices('GPU')\n",
    "print(\"Gpus:\", str(gpus))\n",
    "if gpus:\n",
    "    try:\n",
    "        # Restrict TensorFlow to only use the fourth GPU\n",
    "        tf.config.experimental.set_visible_devices(gpus[0], 'GPU')\n",
    "\n",
    "        # Currently, memory growth needs to be the same across GPUs\n",
    "        for gpu in gpus:\n",
    "            tf.config.experimental.set_memory_growth(gpu, True)\n",
    "        logical_gpus = tf.config.experimental.list_logical_devices('GPU')\n",
    "        print(len(gpus), \"Physical GPUs,\", len(logical_gpus), \"Logical GPUs\")\n",
    "    except RuntimeError as e:\n",
    "        # Memory growth must be set before GPUs have been initialized\n",
    "        print(e)"
   ]
  },
  {
   "cell_type": "markdown",
   "metadata": {},
   "source": [
    "# Model  1"
   ]
  },
  {
   "cell_type": "code",
   "execution_count": null,
   "metadata": {},
   "outputs": [],
   "source": []
  },
  {
   "cell_type": "code",
   "execution_count": 114,
   "metadata": {},
   "outputs": [
    {
     "name": "stdout",
     "output_type": "stream",
     "text": [
      "Model: \"model\"\n",
      "__________________________________________________________________________________________________\n",
      "Layer (type)                    Output Shape         Param #     Connected to                     \n",
      "==================================================================================================\n",
      "input_1 (InputLayer)            [(None, 140)]        0                                            \n",
      "__________________________________________________________________________________________________\n",
      "embedding (Embedding)           (None, 140, 100)     5567000     input_1[0][0]                    \n",
      "__________________________________________________________________________________________________\n",
      "lstm (LSTM)                     [(None, 140, 300), ( 481200      embedding[0][0]                  \n",
      "__________________________________________________________________________________________________\n",
      "input_2 (InputLayer)            [(None, None)]       0                                            \n",
      "__________________________________________________________________________________________________\n",
      "lstm_1 (LSTM)                   [(None, 140, 300), ( 721200      lstm[0][0]                       \n",
      "__________________________________________________________________________________________________\n",
      "embedding_1 (Embedding)         (None, None, 100)    1614100     input_2[0][0]                    \n",
      "__________________________________________________________________________________________________\n",
      "lstm_2 (LSTM)                   [(None, 140, 300), ( 721200      lstm_1[0][0]                     \n",
      "__________________________________________________________________________________________________\n",
      "lstm_3 (LSTM)                   [(None, None, 300),  481200      embedding_1[0][0]                \n",
      "                                                                 lstm_2[0][1]                     \n",
      "                                                                 lstm_2[0][2]                     \n",
      "__________________________________________________________________________________________________\n",
      "attention_layer (AttentionLayer ((None, None, 300),  180300      lstm_2[0][0]                     \n",
      "                                                                 lstm_3[0][0]                     \n",
      "__________________________________________________________________________________________________\n",
      "concat_layer (Concatenate)      (None, None, 600)    0           lstm_3[0][0]                     \n",
      "                                                                 attention_layer[0][0]            \n",
      "__________________________________________________________________________________________________\n",
      "time_distributed (TimeDistribut (None, None, 16141)  9700741     concat_layer[0][0]               \n",
      "==================================================================================================\n",
      "Total params: 19,466,941\n",
      "Trainable params: 19,466,941\n",
      "Non-trainable params: 0\n",
      "__________________________________________________________________________________________________\n"
     ]
    }
   ],
   "source": [
    "K.clear_session()\n",
    "    \n",
    "latent_dim = 300\n",
    "embedding_dim=100\n",
    "\n",
    "# Encoder\n",
    "encoder_inputs = Input(shape=(max_text_len,))\n",
    "\n",
    "#embedding layer\n",
    "enc_emb =  Embedding(x_voc, embedding_dim, trainable=True)(encoder_inputs)\n",
    "\n",
    "#encoder lstm 1\n",
    "encoder_lstm1 = LSTM(latent_dim,return_sequences=True,return_state=True,dropout=0.4,recurrent_dropout=0.4)\n",
    "encoder_output1, state_h1, state_c1 = encoder_lstm1(enc_emb)\n",
    "\n",
    "#encoder lstm 2\n",
    "encoder_lstm2 = LSTM(latent_dim,return_sequences=True,return_state=True,dropout=0.4,recurrent_dropout=0.4)\n",
    "encoder_output2, state_h2, state_c2 = encoder_lstm2(encoder_output1)\n",
    "\n",
    "#encoder lstm 3\n",
    "encoder_lstm3=LSTM(latent_dim, return_state=True, return_sequences=True,dropout=0.4,recurrent_dropout=0.4)\n",
    "encoder_outputs, state_h, state_c= encoder_lstm3(encoder_output2)\n",
    "\n",
    "# Set up the decoder, using `encoder_states` as initial state.\n",
    "decoder_inputs = Input(shape=(None,))\n",
    "\n",
    "#embedding layer\n",
    "dec_emb_layer = Embedding(y_voc, embedding_dim,trainable=True)\n",
    "dec_emb = dec_emb_layer(decoder_inputs)\n",
    "\n",
    "decoder_lstm = LSTM(latent_dim, return_sequences=True, return_state=True,dropout=0.4,recurrent_dropout=0.2)\n",
    "decoder_outputs,decoder_fwd_state, decoder_back_state = decoder_lstm(dec_emb,initial_state=[state_h, state_c])\n",
    "\n",
    "# Attention layer\n",
    "attn_layer = AttentionLayer(name='attention_layer')\n",
    "attn_out, attn_states = attn_layer([encoder_outputs, decoder_outputs])\n",
    "\n",
    "# Concat attention input and decoder LSTM output\n",
    "decoder_concat_input = Concatenate(axis=-1, name='concat_layer')([decoder_outputs, attn_out])\n",
    "\n",
    "#dense layer\n",
    "decoder_dense =  TimeDistributed(Dense(y_voc, activation='softmax'))\n",
    "decoder_outputs = decoder_dense(decoder_concat_input)\n",
    "\n",
    "# Define the model \n",
    "model = Model([encoder_inputs, decoder_inputs], decoder_outputs)\n",
    "\n",
    "model.summary() \n"
   ]
  },
  {
   "cell_type": "code",
   "execution_count": 115,
   "metadata": {},
   "outputs": [],
   "source": [
    "model.compile(optimizer='rmsprop',\n",
    "              loss='sparse_categorical_crossentropy')"
   ]
  },
  {
   "cell_type": "code",
   "execution_count": 116,
   "metadata": {},
   "outputs": [],
   "source": [
    "es = EarlyStopping(monitor='val_loss',\n",
    "                   mode='min',\n",
    "                   verbose=1,\n",
    "                   patience=2)"
   ]
  },
  {
   "cell_type": "code",
   "execution_count": 42,
   "metadata": {},
   "outputs": [
    {
     "name": "stdout",
     "output_type": "stream",
     "text": [
      "Train on 434714 samples, validate on 108501 samples\n",
      "Epoch 1/10\n",
      "434714/434714 [==============================] - 1301s 3ms/sample - loss: 2.5814 - val_loss: 2.3142\n",
      "Epoch 2/10\n",
      "434714/434714 [==============================] - 1288s 3ms/sample - loss: 2.2353 - val_loss: 2.1391\n",
      "Epoch 3/10\n",
      "434714/434714 [==============================] - 1286s 3ms/sample - loss: 2.1162 - val_loss: 2.0404\n",
      "Epoch 4/10\n",
      "434714/434714 [==============================] - 1286s 3ms/sample - loss: 2.0462 - val_loss: 1.9834\n",
      "Epoch 5/10\n",
      "434714/434714 [==============================] - 1284s 3ms/sample - loss: 1.9965 - val_loss: 1.9540\n",
      "Epoch 6/10\n",
      "434714/434714 [==============================] - 1285s 3ms/sample - loss: 1.9581 - val_loss: 1.9158\n",
      "Epoch 7/10\n",
      "434714/434714 [==============================] - 1283s 3ms/sample - loss: 1.9307 - val_loss: 1.8808\n",
      "Epoch 8/10\n",
      "434714/434714 [==============================] - 1284s 3ms/sample - loss: 1.9062 - val_loss: 1.8644\n",
      "Epoch 9/10\n",
      "434714/434714 [==============================] - 1284s 3ms/sample - loss: 1.8873 - val_loss: 1.8669\n",
      "Epoch 10/10\n",
      "434714/434714 [==============================] - 1283s 3ms/sample - loss: 1.8708 - val_loss: 1.8372\n"
     ]
    }
   ],
   "source": [
    "history=model.fit([x_train, y_train[:,:-1]], y_train.reshape(y_train.shape[0], y_train.shape[1], 1)[:,1:],\n",
    "                  epochs=10,\n",
    "                  callbacks=[es],\n",
    "                  batch_size=256,\n",
    "                  validation_data=([x_val, y_val[:,:-1]], y_val.reshape(y_val.shape[0], y_val.shape[1], 1)[:,1:]))"
   ]
  },
  {
   "cell_type": "code",
   "execution_count": 47,
   "metadata": {
    "scrolled": true
   },
   "outputs": [
    {
     "data": {
      "image/png": "[encoded data removed]",
      "text/plain": [
       "<Figure size 1152x720 with 1 Axes>"
      ]
     },
     "metadata": {},
     "output_type": "display_data"
    }
   ],
   "source": [
    "plt.figure(figsize=(16, 10))\n",
    "plt.plot(history.history['loss'], label='train')\n",
    "plt.plot(history.history['val_loss'], label='test')\n",
    "plt.legend()\n",
    "plt.show()"
   ]
  },
  {
   "cell_type": "code",
   "execution_count": 48,
   "metadata": {},
   "outputs": [],
   "source": [
    "# model.save('fp_m1.h5')  ## 10 epoch test"
   ]
  },
  {
   "cell_type": "code",
   "execution_count": null,
   "metadata": {},
   "outputs": [],
   "source": []
  },
  {
   "cell_type": "markdown",
   "metadata": {},
   "source": [
    "## Model 1 - 15 Epochs"
   ]
  },
  {
   "cell_type": "code",
   "execution_count": 108,
   "metadata": {},
   "outputs": [
    {
     "name": "stdout",
     "output_type": "stream",
     "text": [
      "Train on 434714 samples, validate on 108501 samples\n",
      "Epoch 1/15\n",
      "434714/434714 [==============================] - 1353s 3ms/sample - loss: 2.5565 - val_loss: 2.2604\n",
      "Epoch 2/15\n",
      "434714/434714 [==============================] - 1329s 3ms/sample - loss: 2.2006 - val_loss: 2.1058\n",
      "Epoch 3/15\n",
      "434714/434714 [==============================] - 1332s 3ms/sample - loss: 2.0887 - val_loss: 2.0192\n",
      "Epoch 4/15\n",
      "434714/434714 [==============================] - 1332s 3ms/sample - loss: 2.0244 - val_loss: 1.9595\n",
      "Epoch 5/15\n",
      "434714/434714 [==============================] - 1331s 3ms/sample - loss: 1.9788 - val_loss: 1.9276\n",
      "Epoch 6/15\n",
      "434714/434714 [==============================] - 1331s 3ms/sample - loss: 1.9466 - val_loss: 1.8989\n",
      "Epoch 7/15\n",
      "434714/434714 [==============================] - 1321s 3ms/sample - loss: 1.9217 - val_loss: 1.8776\n",
      "Epoch 8/15\n",
      "434714/434714 [==============================] - 1318s 3ms/sample - loss: 1.8987 - val_loss: 1.8555\n",
      "Epoch 9/15\n",
      "434714/434714 [==============================] - 1318s 3ms/sample - loss: 1.8793 - val_loss: 1.8447\n",
      "Epoch 10/15\n",
      "434714/434714 [==============================] - 1319s 3ms/sample - loss: 1.8650 - val_loss: 1.8390\n",
      "Epoch 11/15\n",
      "434714/434714 [==============================] - 1317s 3ms/sample - loss: 1.8509 - val_loss: 1.8108\n",
      "Epoch 12/15\n",
      "434714/434714 [==============================] - 1318s 3ms/sample - loss: 1.8369 - val_loss: 1.7996\n",
      "Epoch 13/15\n",
      "434714/434714 [==============================] - 1317s 3ms/sample - loss: 1.8218 - val_loss: 1.8026\n",
      "Epoch 14/15\n",
      "434714/434714 [==============================] - 1318s 3ms/sample - loss: 1.8068 - val_loss: 1.7737\n",
      "Epoch 15/15\n",
      "434714/434714 [==============================] - 1319s 3ms/sample - loss: 1.7937 - val_loss: 1.7711\n"
     ]
    }
   ],
   "source": [
    "history=model.fit([x_train, y_train[:,:-1]], y_train.reshape(y_train.shape[0], y_train.shape[1], 1)[:,1:],\n",
    "                  epochs=15,\n",
    "                  callbacks=[es],\n",
    "                  batch_size=256,\n",
    "                  validation_data=([x_val, y_val[:,:-1]], y_val.reshape(y_val.shape[0], y_val.shape[1], 1)[:,1:]))"
   ]
  },
  {
   "cell_type": "code",
   "execution_count": 109,
   "metadata": {},
   "outputs": [
    {
     "data": {
      "image/png": "[encoded data removed]",
      "text/plain": [
       "<Figure size 1152x720 with 1 Axes>"
      ]
     },
     "metadata": {},
     "output_type": "display_data"
    }
   ],
   "source": [
    "plt.figure(figsize=(16, 10))\n",
    "plt.plot(history.history['loss'], label='train')\n",
    "plt.plot(history.history['val_loss'], label='test')\n",
    "plt.legend()\n",
    "plt.show()"
   ]
  },
  {
   "cell_type": "code",
   "execution_count": 110,
   "metadata": {},
   "outputs": [],
   "source": [
    "model.save('fp_m1_15.h5')  ## 15 epoch test"
   ]
  },
  {
   "cell_type": "code",
   "execution_count": null,
   "metadata": {},
   "outputs": [],
   "source": []
  },
  {
   "cell_type": "code",
   "execution_count": null,
   "metadata": {},
   "outputs": [],
   "source": []
  },
  {
   "cell_type": "markdown",
   "metadata": {},
   "source": [
    "## Model 1 - 50 epochs"
   ]
  },
  {
   "cell_type": "code",
   "execution_count": 117,
   "metadata": {},
   "outputs": [
    {
     "name": "stdout",
     "output_type": "stream",
     "text": [
      "Train on 434714 samples, validate on 108501 samples\n",
      "Epoch 1/50\n",
      "434714/434714 [==============================] - 1324s 3ms/sample - loss: 2.5550 - val_loss: 2.2912\n",
      "Epoch 2/50\n",
      "434714/434714 [==============================] - 1310s 3ms/sample - loss: 2.2089 - val_loss: 2.1204\n",
      "Epoch 3/50\n",
      "434714/434714 [==============================] - 1310s 3ms/sample - loss: 2.0949 - val_loss: 2.0244\n",
      "Epoch 4/50\n",
      "434714/434714 [==============================] - 1309s 3ms/sample - loss: 2.0332 - val_loss: 1.9794\n",
      "Epoch 5/50\n",
      "434714/434714 [==============================] - 1310s 3ms/sample - loss: 1.9901 - val_loss: 1.9458\n",
      "Epoch 6/50\n",
      "434714/434714 [==============================] - 1311s 3ms/sample - loss: 1.9602 - val_loss: 1.9122\n",
      "Epoch 7/50\n",
      "434714/434714 [==============================] - 1308s 3ms/sample - loss: 1.9401 - val_loss: 1.8898\n",
      "Epoch 8/50\n",
      "434714/434714 [==============================] - 1308s 3ms/sample - loss: 1.9200 - val_loss: 1.8802\n",
      "Epoch 9/50\n",
      "434714/434714 [==============================] - 1307s 3ms/sample - loss: 1.9050 - val_loss: 1.8612\n",
      "Epoch 10/50\n",
      "434714/434714 [==============================] - 1308s 3ms/sample - loss: 1.8897 - val_loss: 1.8489\n",
      "Epoch 11/50\n",
      "434714/434714 [==============================] - 1309s 3ms/sample - loss: 1.8789 - val_loss: 1.8502\n",
      "Epoch 12/50\n",
      "434714/434714 [==============================] - 1309s 3ms/sample - loss: 1.8698 - val_loss: 1.8411\n",
      "Epoch 13/50\n",
      "434714/434714 [==============================] - 1309s 3ms/sample - loss: 1.8585 - val_loss: 1.8293\n",
      "Epoch 14/50\n",
      "434714/434714 [==============================] - 1310s 3ms/sample - loss: 1.8478 - val_loss: 1.8284\n",
      "Epoch 15/50\n",
      "434714/434714 [==============================] - 1307s 3ms/sample - loss: 1.8385 - val_loss: 1.8330\n",
      "Epoch 16/50\n",
      "434714/434714 [==============================] - 1317s 3ms/sample - loss: 1.8309 - val_loss: 1.7986\n",
      "Epoch 17/50\n",
      "434714/434714 [==============================] - 1309s 3ms/sample - loss: 1.8224 - val_loss: 1.7877\n",
      "Epoch 18/50\n",
      "434714/434714 [==============================] - 1312s 3ms/sample - loss: 1.8127 - val_loss: 1.7983\n",
      "Epoch 19/50\n",
      "434714/434714 [==============================] - 1313s 3ms/sample - loss: 1.8052 - val_loss: 1.7816\n",
      "Epoch 20/50\n",
      "434714/434714 [==============================] - 1317s 3ms/sample - loss: 1.7963 - val_loss: 1.7830\n",
      "Epoch 21/50\n",
      "434714/434714 [==============================] - 1314s 3ms/sample - loss: 1.7894 - val_loss: 1.7663\n",
      "Epoch 22/50\n",
      "434714/434714 [==============================] - 1318s 3ms/sample - loss: 1.7823 - val_loss: 1.7864\n",
      "Epoch 23/50\n",
      "434714/434714 [==============================] - 1318s 3ms/sample - loss: 1.7749 - val_loss: 1.7715\n",
      "Epoch 00023: early stopping\n"
     ]
    }
   ],
   "source": [
    "history=model.fit([x_train, y_train[:,:-1]], y_train.reshape(y_train.shape[0], y_train.shape[1], 1)[:,1:],\n",
    "                  epochs=50,\n",
    "                  callbacks=[es],\n",
    "                  batch_size=256,\n",
    "                  validation_data=([x_val, y_val[:,:-1]], y_val.reshape(y_val.shape[0], y_val.shape[1], 1)[:,1:]))"
   ]
  },
  {
   "cell_type": "code",
   "execution_count": 118,
   "metadata": {},
   "outputs": [
    {
     "data": {
      "image/png": "[encoded data removed]",
      "text/plain": [
       "<Figure size 1152x720 with 1 Axes>"
      ]
     },
     "metadata": {},
     "output_type": "display_data"
    }
   ],
   "source": [
    "plt.figure(figsize=(16, 10))\n",
    "plt.plot(history.history['loss'], label='train')\n",
    "plt.plot(history.history['val_loss'], label='test')\n",
    "plt.legend()\n",
    "plt.show()"
   ]
  },
  {
   "cell_type": "code",
   "execution_count": 119,
   "metadata": {},
   "outputs": [],
   "source": [
    "model.save('fp_m1_50.h5') ## 50 epoch test"
   ]
  },
  {
   "cell_type": "code",
   "execution_count": null,
   "metadata": {},
   "outputs": [],
   "source": []
  },
  {
   "cell_type": "code",
   "execution_count": null,
   "metadata": {},
   "outputs": [],
   "source": []
  },
  {
   "cell_type": "markdown",
   "metadata": {},
   "source": [
    "## Model 2 - Roughly best at 15 epochs"
   ]
  },
  {
   "cell_type": "code",
   "execution_count": 90,
   "metadata": {},
   "outputs": [
    {
     "name": "stdout",
     "output_type": "stream",
     "text": [
      "Tensor(\"lstm_2/Identity_1:0\", shape=(None, 400), dtype=float32) Tensor(\"lstm_2/Identity_2:0\", shape=(None, 400), dtype=float32)\n",
      "Model: \"model\"\n",
      "__________________________________________________________________________________________________\n",
      "Layer (type)                    Output Shape         Param #     Connected to                     \n",
      "==================================================================================================\n",
      "input_1 (InputLayer)            [(None, 140)]        0                                            \n",
      "__________________________________________________________________________________________________\n",
      "embedding (Embedding)           (None, 140, 200)     11134000    input_1[0][0]                    \n",
      "__________________________________________________________________________________________________\n",
      "lstm (LSTM)                     [(None, 140, 400), ( 961600      embedding[0][0]                  \n",
      "__________________________________________________________________________________________________\n",
      "input_2 (InputLayer)            [(None, None)]       0                                            \n",
      "__________________________________________________________________________________________________\n",
      "lstm_1 (LSTM)                   [(None, 140, 400), ( 1281600     lstm[0][0]                       \n",
      "__________________________________________________________________________________________________\n",
      "embedding_1 (Embedding)         (None, None, 200)    3228200     input_2[0][0]                    \n",
      "__________________________________________________________________________________________________\n",
      "lstm_2 (LSTM)                   [(None, 140, 400), ( 1281600     lstm_1[0][0]                     \n",
      "__________________________________________________________________________________________________\n",
      "lstm_3 (LSTM)                   [(None, None, 400),  961600      embedding_1[0][0]                \n",
      "                                                                 lstm_2[0][1]                     \n",
      "                                                                 lstm_2[0][2]                     \n",
      "__________________________________________________________________________________________________\n",
      "attention_layer (AttentionLayer ((None, None, 400),  320400      lstm_2[0][0]                     \n",
      "                                                                 lstm_3[0][0]                     \n",
      "__________________________________________________________________________________________________\n",
      "concat_layer (Concatenate)      (None, None, 800)    0           lstm_3[0][0]                     \n",
      "                                                                 attention_layer[0][0]            \n",
      "__________________________________________________________________________________________________\n",
      "time_distributed (TimeDistribut (None, None, 16141)  12928941    concat_layer[0][0]               \n",
      "==================================================================================================\n",
      "Total params: 32,097,941\n",
      "Trainable params: 32,097,941\n",
      "Non-trainable params: 0\n",
      "__________________________________________________________________________________________________\n"
     ]
    }
   ],
   "source": [
    "K.clear_session()\n",
    "    \n",
    "latent_dim = 400\n",
    "embedding_dim=200\n",
    "\n",
    "# Encoder\n",
    "encoder_inputs = Input(shape=(max_text_len,))\n",
    "\n",
    "#embedding layer\n",
    "enc_emb =  Embedding(x_voc, embedding_dim, trainable=True)(encoder_inputs)\n",
    "\n",
    "#encoder lstm 1\n",
    "encoder_lstm1 = LSTM(latent_dim,return_sequences=True,return_state=True,dropout=0.4,recurrent_dropout=0.6)\n",
    "encoder_output1, state_h1, state_c1 = encoder_lstm1(enc_emb)\n",
    "\n",
    "#encoder lstm 2\n",
    "encoder_lstm2 = LSTM(latent_dim,return_sequences=True,return_state=True,dropout=0.4,recurrent_dropout=0.6)\n",
    "encoder_output2, state_h2, state_c2 = encoder_lstm2(encoder_output1)\n",
    "\n",
    "#encoder lstm 3\n",
    "encoder_lstm3=LSTM(latent_dim, return_state=True, return_sequences=True,dropout=0.4,recurrent_dropout=0.6)\n",
    "encoder_outputs, state_h, state_c= encoder_lstm3(encoder_output2)\n",
    "\n",
    "# Set up the decoder, using `encoder_states` as initial state.\n",
    "decoder_inputs = Input(shape=(None,))\n",
    "\n",
    "#embedding layer\n",
    "dec_emb_layer = Embedding(y_voc, embedding_dim,trainable=True)\n",
    "dec_emb = dec_emb_layer(decoder_inputs)\n",
    "\n",
    "decoder_lstm = LSTM(latent_dim, return_sequences=True, return_state=True,dropout=0.4,recurrent_dropout=0.2)\n",
    "print(state_h, state_c)\n",
    "decoder_outputs,decoder_fwd_state, decoder_back_state = decoder_lstm(dec_emb,initial_state=[state_h, state_c])\n",
    "\n",
    "# Attention layer\n",
    "attn_layer = AttentionLayer(name='attention_layer')\n",
    "attn_out, attn_states = attn_layer([encoder_outputs, decoder_outputs])\n",
    "\n",
    "# Concat attention input and decoder LSTM output\n",
    "decoder_concat_input = Concatenate(axis=-1, name='concat_layer')([decoder_outputs, attn_out])\n",
    "\n",
    "#dense layer\n",
    "decoder_dense =  TimeDistributed(Dense(y_voc, activation='softmax'))\n",
    "decoder_outputs = decoder_dense(decoder_concat_input)\n",
    "\n",
    "# Define the model \n",
    "model = Model([encoder_inputs, decoder_inputs], decoder_outputs)\n",
    "\n",
    "model.summary() "
   ]
  },
  {
   "cell_type": "code",
   "execution_count": 91,
   "metadata": {},
   "outputs": [],
   "source": [
    "model.compile(optimizer='rmsprop',\n",
    "              loss='sparse_categorical_crossentropy',\n",
    "              metrics=['acc'])"
   ]
  },
  {
   "cell_type": "code",
   "execution_count": 92,
   "metadata": {},
   "outputs": [],
   "source": [
    "es = EarlyStopping(monitor='val_loss',\n",
    "                   mode='min',\n",
    "                   verbose=1,\n",
    "                   patience=3)"
   ]
  },
  {
   "cell_type": "code",
   "execution_count": 93,
   "metadata": {
    "scrolled": true
   },
   "outputs": [
    {
     "name": "stdout",
     "output_type": "stream",
     "text": [
      "Train on 434714 samples, validate on 108501 samples\n",
      "Epoch 1/15\n",
      "434714/434714 [==============================] - 1845s 4ms/sample - loss: 2.4723 - acc: 0.6285 - val_loss: 2.1876 - val_acc: 0.6531\n",
      "Epoch 2/15\n",
      "434714/434714 [==============================] - 1831s 4ms/sample - loss: 2.1192 - acc: 0.6593 - val_loss: 2.0219 - val_acc: 0.6683\n",
      "Epoch 3/15\n",
      "434714/434714 [==============================] - 1826s 4ms/sample - loss: 2.0070 - acc: 0.6696 - val_loss: 1.9414 - val_acc: 0.6769\n",
      "Epoch 4/15\n",
      "434714/434714 [==============================] - 1826s 4ms/sample - loss: 1.9424 - acc: 0.6762 - val_loss: 1.8898 - val_acc: 0.6821\n",
      "Epoch 5/15\n",
      "434714/434714 [==============================] - 1825s 4ms/sample - loss: 1.8977 - acc: 0.6807 - val_loss: 1.8571 - val_acc: 0.6857\n",
      "Epoch 6/15\n",
      "434714/434714 [==============================] - 1825s 4ms/sample - loss: 1.8626 - acc: 0.6843 - val_loss: 1.8255 - val_acc: 0.6899\n",
      "Epoch 7/15\n",
      "434714/434714 [==============================] - 1825s 4ms/sample - loss: 1.8366 - acc: 0.6875 - val_loss: 1.8047 - val_acc: 0.6926\n",
      "Epoch 8/15\n",
      "434714/434714 [==============================] - 1823s 4ms/sample - loss: 1.8112 - acc: 0.6901 - val_loss: 1.7817 - val_acc: 0.6947\n",
      "Epoch 9/15\n",
      "434714/434714 [==============================] - 1823s 4ms/sample - loss: 1.7864 - acc: 0.6923 - val_loss: 1.7651 - val_acc: 0.6973\n",
      "Epoch 10/15\n",
      "434714/434714 [==============================] - 1820s 4ms/sample - loss: 1.7664 - acc: 0.6945 - val_loss: 1.7530 - val_acc: 0.6987\n",
      "Epoch 11/15\n",
      "434714/434714 [==============================] - 1817s 4ms/sample - loss: 1.7520 - acc: 0.6960 - val_loss: 1.7457 - val_acc: 0.7001\n",
      "Epoch 12/15\n",
      "434714/434714 [==============================] - 1814s 4ms/sample - loss: 1.7358 - acc: 0.6979 - val_loss: 1.7245 - val_acc: 0.7019\n",
      "Epoch 13/15\n",
      "434714/434714 [==============================] - 1815s 4ms/sample - loss: 1.7201 - acc: 0.6991 - val_loss: 1.7393 - val_acc: 0.7031\n",
      "Epoch 14/15\n",
      "434714/434714 [==============================] - 1811s 4ms/sample - loss: 1.7053 - acc: 0.7003 - val_loss: 1.7068 - val_acc: 0.7050\n",
      "Epoch 15/15\n",
      "434714/434714 [==============================] - 1809s 4ms/sample - loss: 1.6901 - acc: 0.7015 - val_loss: 1.7040 - val_acc: 0.7062\n"
     ]
    }
   ],
   "source": [
    "history=model.fit([x_train, y_train[:,:-1]], y_train.reshape(y_train.shape[0], y_train.shape[1], 1)[:,1:],\n",
    "                  epochs=15,\n",
    "                  callbacks=[es],\n",
    "                  batch_size=256,\n",
    "                  validation_data=([x_val, y_val[:,:-1]], y_val.reshape(y_val.shape[0], y_val.shape[1], 1)[:,1:]))"
   ]
  },
  {
   "cell_type": "code",
   "execution_count": 94,
   "metadata": {
    "scrolled": true
   },
   "outputs": [
    {
     "data": {
      "image/png": "[encoded data removed]",
      "text/plain": [
       "<Figure size 1152x720 with 1 Axes>"
      ]
     },
     "metadata": {},
     "output_type": "display_data"
    }
   ],
   "source": [
    "plt.figure(figsize=(16, 10))\n",
    "plt.plot(history.history['loss'], label='train')\n",
    "plt.plot(history.history['val_loss'], label='test')\n",
    "plt.legend()\n",
    "plt.show()"
   ]
  },
  {
   "cell_type": "code",
   "execution_count": 75,
   "metadata": {},
   "outputs": [],
   "source": [
    "# model.save('fp_m2.h5')  ## 10 epoch test"
   ]
  },
  {
   "cell_type": "code",
   "execution_count": 95,
   "metadata": {},
   "outputs": [],
   "source": [
    "model.save('fp_m2_15.h5')  ## 15 epoch - best case"
   ]
  },
  {
   "cell_type": "code",
   "execution_count": null,
   "metadata": {},
   "outputs": [],
   "source": []
  },
  {
   "cell_type": "markdown",
   "metadata": {},
   "source": [
    "# Model 2 - 50 epochs"
   ]
  },
  {
   "cell_type": "code",
   "execution_count": 84,
   "metadata": {
    "scrolled": true
   },
   "outputs": [
    {
     "name": "stdout",
     "output_type": "stream",
     "text": [
      "Train on 434714 samples, validate on 108501 samples\n",
      "Epoch 1/50\n",
      "434714/434714 [==============================] - 1839s 4ms/sample - loss: 2.4748 - acc: 0.6284 - val_loss: 2.1828 - val_acc: 0.6533\n",
      "Epoch 2/50\n",
      "434714/434714 [==============================] - 1827s 4ms/sample - loss: 2.1199 - acc: 0.6594 - val_loss: 2.0269 - val_acc: 0.6680\n",
      "Epoch 3/50\n",
      "434714/434714 [==============================] - 1828s 4ms/sample - loss: 2.0080 - acc: 0.6699 - val_loss: 1.9452 - val_acc: 0.6758\n",
      "Epoch 4/50\n",
      "434714/434714 [==============================] - 1825s 4ms/sample - loss: 1.9414 - acc: 0.6764 - val_loss: 1.8888 - val_acc: 0.6827\n",
      "Epoch 5/50\n",
      "434714/434714 [==============================] - 1824s 4ms/sample - loss: 1.8968 - acc: 0.6812 - val_loss: 1.8587 - val_acc: 0.6861\n",
      "Epoch 6/50\n",
      "434714/434714 [==============================] - 1823s 4ms/sample - loss: 1.8654 - acc: 0.6848 - val_loss: 1.8377 - val_acc: 0.6877\n",
      "Epoch 7/50\n",
      "434714/434714 [==============================] - 1825s 4ms/sample - loss: 1.8375 - acc: 0.6878 - val_loss: 1.8084 - val_acc: 0.6921\n",
      "Epoch 8/50\n",
      "434714/434714 [==============================] - 1819s 4ms/sample - loss: 1.8128 - acc: 0.6905 - val_loss: 1.7853 - val_acc: 0.6954\n",
      "Epoch 9/50\n",
      "434714/434714 [==============================] - 1814s 4ms/sample - loss: 1.7910 - acc: 0.6923 - val_loss: 1.7685 - val_acc: 0.6968\n",
      "Epoch 10/50\n",
      "434714/434714 [==============================] - 1815s 4ms/sample - loss: 1.7717 - acc: 0.6945 - val_loss: 1.7587 - val_acc: 0.6994\n",
      "Epoch 11/50\n",
      "434714/434714 [==============================] - 1814s 4ms/sample - loss: 1.7527 - acc: 0.6964 - val_loss: 1.7418 - val_acc: 0.7007\n",
      "Epoch 12/50\n",
      "434714/434714 [==============================] - 1813s 4ms/sample - loss: 1.7357 - acc: 0.6982 - val_loss: 1.7300 - val_acc: 0.7023\n",
      "Epoch 13/50\n",
      "434714/434714 [==============================] - 1813s 4ms/sample - loss: 1.7190 - acc: 0.6996 - val_loss: 1.7293 - val_acc: 0.7017\n",
      "Epoch 14/50\n",
      "434714/434714 [==============================] - 1815s 4ms/sample - loss: 1.7041 - acc: 0.7006 - val_loss: 1.7047 - val_acc: 0.7049\n",
      "Epoch 15/50\n",
      "434714/434714 [==============================] - 1812s 4ms/sample - loss: 1.6908 - acc: 0.7020 - val_loss: 1.6995 - val_acc: 0.7061\n",
      "Epoch 16/50\n",
      "434714/434714 [==============================] - 1813s 4ms/sample - loss: 1.6767 - acc: 0.7032 - val_loss: 1.6882 - val_acc: 0.7067\n",
      "Epoch 17/50\n",
      "434714/434714 [==============================] - 1812s 4ms/sample - loss: 1.6637 - acc: 0.7045 - val_loss: 1.6777 - val_acc: 0.7090\n",
      "Epoch 18/50\n",
      "434714/434714 [==============================] - 1814s 4ms/sample - loss: 1.6522 - acc: 0.7054 - val_loss: 1.6714 - val_acc: 0.7099\n",
      "Epoch 19/50\n",
      "434714/434714 [==============================] - 1814s 4ms/sample - loss: 1.6419 - acc: 0.7061 - val_loss: 1.6755 - val_acc: 0.7109\n",
      "Epoch 20/50\n",
      "434714/434714 [==============================] - 1814s 4ms/sample - loss: 1.6323 - acc: 0.7073 - val_loss: 1.6576 - val_acc: 0.7117\n",
      "Epoch 21/50\n",
      "434714/434714 [==============================] - 1815s 4ms/sample - loss: 1.6231 - acc: 0.7082 - val_loss: 1.6693 - val_acc: 0.7094\n",
      "Epoch 22/50\n",
      "434714/434714 [==============================] - 1818s 4ms/sample - loss: 1.6139 - acc: 0.7091 - val_loss: 1.6507 - val_acc: 0.7138\n",
      "Epoch 23/50\n",
      "434714/434714 [==============================] - 1819s 4ms/sample - loss: 1.6058 - acc: 0.7098 - val_loss: 1.6501 - val_acc: 0.7149\n",
      "Epoch 24/50\n",
      "434714/434714 [==============================] - 1821s 4ms/sample - loss: 1.5969 - acc: 0.7105 - val_loss: 1.6841 - val_acc: 0.7086\n",
      "Epoch 25/50\n",
      "434714/434714 [==============================] - 1828s 4ms/sample - loss: 1.5879 - acc: 0.7113 - val_loss: 1.6480 - val_acc: 0.7153\n",
      "Epoch 26/50\n",
      "434714/434714 [==============================] - 1833s 4ms/sample - loss: 1.5800 - acc: 0.7120 - val_loss: 1.6362 - val_acc: 0.7156\n",
      "Epoch 27/50\n",
      "434714/434714 [==============================] - 1829s 4ms/sample - loss: 1.5722 - acc: 0.7126 - val_loss: 1.6333 - val_acc: 0.7156\n",
      "Epoch 28/50\n",
      "434714/434714 [==============================] - 1829s 4ms/sample - loss: 1.5625 - acc: 0.7135 - val_loss: 1.6418 - val_acc: 0.7172\n",
      "Epoch 29/50\n",
      "434714/434714 [==============================] - 1830s 4ms/sample - loss: 1.5544 - acc: 0.7142 - val_loss: 1.6465 - val_acc: 0.7186\n",
      "Epoch 30/50\n",
      "434714/434714 [==============================] - 1829s 4ms/sample - loss: 1.5462 - acc: 0.7153 - val_loss: 1.6199 - val_acc: 0.7179\n",
      "Epoch 31/50\n",
      "434714/434714 [==============================] - 1831s 4ms/sample - loss: 1.5389 - acc: 0.7160 - val_loss: 1.6254 - val_acc: 0.7204\n",
      "Epoch 32/50\n",
      "434714/434714 [==============================] - 1831s 4ms/sample - loss: 1.5330 - acc: 0.7165 - val_loss: 1.6275 - val_acc: 0.7163\n",
      "Epoch 33/50\n",
      "434714/434714 [==============================] - 1833s 4ms/sample - loss: 1.5286 - acc: 0.7169 - val_loss: 1.6261 - val_acc: 0.7193\n",
      "Epoch 00033: early stopping\n"
     ]
    }
   ],
   "source": [
    "history=model.fit([x_train, y_train[:,:-1]], y_train.reshape(y_train.shape[0], y_train.shape[1], 1)[:,1:],\n",
    "                  epochs=50,\n",
    "                  callbacks=[es],\n",
    "                  batch_size=256,\n",
    "                  validation_data=([x_val, y_val[:,:-1]], y_val.reshape(y_val.shape[0], y_val.shape[1], 1)[:,1:]))"
   ]
  },
  {
   "cell_type": "code",
   "execution_count": 85,
   "metadata": {
    "scrolled": true
   },
   "outputs": [
    {
     "data": {
      "image/png": "[encoded data removed]",
      "text/plain": [
       "<Figure size 1152x720 with 1 Axes>"
      ]
     },
     "metadata": {},
     "output_type": "display_data"
    }
   ],
   "source": [
    "plt.figure(figsize=(16, 10))\n",
    "plt.plot(history.history['loss'], label='train')\n",
    "plt.plot(history.history['val_loss'], label='test')\n",
    "plt.legend()\n",
    "plt.show()"
   ]
  },
  {
   "cell_type": "code",
   "execution_count": 86,
   "metadata": {},
   "outputs": [],
   "source": [
    "# model.save('fp_m2_50.h5')"
   ]
  },
  {
   "cell_type": "code",
   "execution_count": null,
   "metadata": {},
   "outputs": [],
   "source": []
  },
  {
   "cell_type": "code",
   "execution_count": null,
   "metadata": {},
   "outputs": [],
   "source": []
  },
  {
   "cell_type": "code",
   "execution_count": null,
   "metadata": {},
   "outputs": [],
   "source": []
  },
  {
   "cell_type": "markdown",
   "metadata": {},
   "source": [
    "### Model 4"
   ]
  },
  {
   "cell_type": "code",
   "execution_count": 58,
   "metadata": {
    "scrolled": true
   },
   "outputs": [
    {
     "name": "stdout",
     "output_type": "stream",
     "text": [
      "Model: \"model\"\n",
      "__________________________________________________________________________________________________\n",
      "Layer (type)                    Output Shape         Param #     Connected to                     \n",
      "==================================================================================================\n",
      "input_1 (InputLayer)            [(None, 140)]        0                                            \n",
      "__________________________________________________________________________________________________\n",
      "embedding (Embedding)           (None, 140, 200)     11134000    input_1[0][0]                    \n",
      "__________________________________________________________________________________________________\n",
      "lstm (LSTM)                     [(None, 140, 400), ( 961600      embedding[0][0]                  \n",
      "__________________________________________________________________________________________________\n",
      "input_2 (InputLayer)            [(None, None)]       0                                            \n",
      "__________________________________________________________________________________________________\n",
      "lstm_1 (LSTM)                   [(None, 140, 400), ( 1281600     lstm[0][0]                       \n",
      "__________________________________________________________________________________________________\n",
      "embedding_1 (Embedding)         (None, None, 200)    3228200     input_2[0][0]                    \n",
      "__________________________________________________________________________________________________\n",
      "lstm_2 (LSTM)                   [(None, 140, 400), ( 1281600     lstm_1[0][0]                     \n",
      "__________________________________________________________________________________________________\n",
      "lstm_3 (LSTM)                   [(None, None, 400),  961600      embedding_1[0][0]                \n",
      "                                                                 lstm_2[0][1]                     \n",
      "                                                                 lstm_2[0][2]                     \n",
      "__________________________________________________________________________________________________\n",
      "attention_layer (AttentionLayer ((None, None, 400),  320400      lstm_2[0][0]                     \n",
      "                                                                 lstm_3[0][0]                     \n",
      "__________________________________________________________________________________________________\n",
      "concat_layer (Concatenate)      (None, None, 800)    0           lstm_3[0][0]                     \n",
      "                                                                 attention_layer[0][0]            \n",
      "__________________________________________________________________________________________________\n",
      "time_distributed (TimeDistribut (None, None, 16141)  12928941    concat_layer[0][0]               \n",
      "==================================================================================================\n",
      "Total params: 32,097,941\n",
      "Trainable params: 32,097,941\n",
      "Non-trainable params: 0\n",
      "__________________________________________________________________________________________________\n"
     ]
    }
   ],
   "source": [
    "K.clear_session()\n",
    "    \n",
    "latent_dim = 400\n",
    "embedding_dim=200\n",
    "\n",
    "# Encoder\n",
    "encoder_inputs = Input(shape=(max_text_len,))\n",
    "\n",
    "#embedding layer\n",
    "enc_emb =  Embedding(x_voc, embedding_dim, trainable=True)(encoder_inputs)\n",
    "\n",
    "#encoder lstm 1\n",
    "encoder_lstm1 = LSTM(latent_dim,return_sequences=True,return_state=True,dropout=0.5,recurrent_dropout=0.8)\n",
    "encoder_output1, state_h1, state_c1 = encoder_lstm1(enc_emb)\n",
    "\n",
    "#encoder lstm 2\n",
    "encoder_lstm2 = LSTM(latent_dim,return_sequences=True,return_state=True,dropout=0.5,recurrent_dropout=0.8)\n",
    "encoder_output2, state_h2, state_c2 = encoder_lstm2(encoder_output1)\n",
    "\n",
    "#encoder lstm 3\n",
    "encoder_lstm3=LSTM(latent_dim, return_state=True, return_sequences=True,dropout=0.5,recurrent_dropout=0.8)\n",
    "encoder_outputs, state_h, state_c= encoder_lstm3(encoder_output2)\n",
    "\n",
    "# Set up the decoder, using `encoder_states` as initial state.\n",
    "decoder_inputs = Input(shape=(None,))\n",
    "\n",
    "#embedding layer\n",
    "dec_emb_layer = Embedding(y_voc, embedding_dim,trainable=True)\n",
    "dec_emb = dec_emb_layer(decoder_inputs)\n",
    "\n",
    "decoder_lstm = LSTM(latent_dim, return_sequences=True, return_state=True,dropout=0.5,recurrent_dropout=0.2)\n",
    "decoder_outputs,decoder_fwd_state, decoder_back_state = decoder_lstm(dec_emb,initial_state=[state_h, state_c])\n",
    "\n",
    "# Attention layer\n",
    "attn_layer = AttentionLayer(name='attention_layer')\n",
    "attn_out, attn_states = attn_layer([encoder_outputs, decoder_outputs])\n",
    "\n",
    "# Concat attention input and decoder LSTM output\n",
    "decoder_concat_input = Concatenate(axis=-1, name='concat_layer')([decoder_outputs, attn_out])\n",
    "\n",
    "#dense layer\n",
    "decoder_dense =  TimeDistributed(Dense(y_voc, activation='softmax'))\n",
    "decoder_outputs = decoder_dense(decoder_concat_input)\n",
    "\n",
    "# Define the model \n",
    "model = Model([encoder_inputs, decoder_inputs], decoder_outputs)\n",
    "\n",
    "model.summary() "
   ]
  },
  {
   "cell_type": "code",
   "execution_count": 59,
   "metadata": {},
   "outputs": [],
   "source": [
    "model.compile(optimizer='rmsprop',\n",
    "              loss='sparse_categorical_crossentropy',\n",
    "              metrics=['acc'])"
   ]
  },
  {
   "cell_type": "code",
   "execution_count": 60,
   "metadata": {},
   "outputs": [],
   "source": [
    "es = EarlyStopping(monitor='val_loss',\n",
    "                   mode='min',\n",
    "                   verbose=1,\n",
    "                   patience=2)"
   ]
  },
  {
   "cell_type": "code",
   "execution_count": 61,
   "metadata": {
    "scrolled": false
   },
   "outputs": [
    {
     "name": "stdout",
     "output_type": "stream",
     "text": [
      "Train on 434714 samples, validate on 108501 samples\n",
      "Epoch 1/10\n",
      "434714/434714 [==============================] - 1851s 4ms/sample - loss: 2.5212 - acc: 0.6253 - val_loss: 2.2480 - val_acc: 0.6488\n",
      "Epoch 2/10\n",
      "434714/434714 [==============================] - 1835s 4ms/sample - loss: 2.1826 - acc: 0.6543 - val_loss: 2.0808 - val_acc: 0.6634\n",
      "Epoch 3/10\n",
      "434714/434714 [==============================] - 1838s 4ms/sample - loss: 2.0704 - acc: 0.6644 - val_loss: 2.0038 - val_acc: 0.6706\n",
      "Epoch 4/10\n",
      "434714/434714 [==============================] - 1836s 4ms/sample - loss: 2.0017 - acc: 0.6706 - val_loss: 1.9448 - val_acc: 0.6774\n",
      "Epoch 5/10\n",
      "434714/434714 [==============================] - 1841s 4ms/sample - loss: 1.9567 - acc: 0.6749 - val_loss: 1.9088 - val_acc: 0.6805\n",
      "Epoch 6/10\n",
      "434714/434714 [==============================] - 1845s 4ms/sample - loss: 1.9249 - acc: 0.6780 - val_loss: 1.8824 - val_acc: 0.6835\n",
      "Epoch 7/10\n",
      "434714/434714 [==============================] - 1834s 4ms/sample - loss: 1.9013 - acc: 0.6805 - val_loss: 1.8718 - val_acc: 0.6844\n",
      "Epoch 8/10\n",
      "434714/434714 [==============================] - 1838s 4ms/sample - loss: 1.8833 - acc: 0.6824 - val_loss: 1.8510 - val_acc: 0.6864\n",
      "Epoch 9/10\n",
      "434714/434714 [==============================] - 1838s 4ms/sample - loss: 1.8654 - acc: 0.6842 - val_loss: 1.8436 - val_acc: 0.6876\n",
      "Epoch 10/10\n",
      "434714/434714 [==============================] - 1838s 4ms/sample - loss: 1.8480 - acc: 0.6856 - val_loss: 1.8123 - val_acc: 0.6912\n"
     ]
    }
   ],
   "source": [
    "history=model.fit([x_train, y_train[:,:-1]], y_train.reshape(y_train.shape[0], y_train.shape[1], 1)[:,1:],\n",
    "                  epochs=10,\n",
    "                  callbacks=[es],\n",
    "                  batch_size=256,\n",
    "                  validation_data=([x_val, y_val[:,:-1]], y_val.reshape(y_val.shape[0], y_val.shape[1], 1)[:,1:]))"
   ]
  },
  {
   "cell_type": "code",
   "execution_count": 62,
   "metadata": {},
   "outputs": [],
   "source": [
    "# model.save('fp_m4.h5')  ## 10 epoch test"
   ]
  },
  {
   "cell_type": "code",
   "execution_count": 63,
   "metadata": {
    "scrolled": true
   },
   "outputs": [
    {
     "data": {
      "image/png": "[encoded data removed]",
      "text/plain": [
       "<Figure size 1152x720 with 1 Axes>"
      ]
     },
     "metadata": {},
     "output_type": "display_data"
    }
   ],
   "source": [
    "plt.figure(figsize=(16, 10))\n",
    "plt.plot(history.history['loss'], label='train')\n",
    "plt.plot(history.history['val_loss'], label='test')\n",
    "plt.plot(history.history['acc'], label='train_acc')\n",
    "plt.legend()\n",
    "plt.show()"
   ]
  },
  {
   "cell_type": "code",
   "execution_count": null,
   "metadata": {},
   "outputs": [],
   "source": []
  },
  {
   "cell_type": "code",
   "execution_count": null,
   "metadata": {},
   "outputs": [],
   "source": []
  },
  {
   "cell_type": "markdown",
   "metadata": {},
   "source": [
    "### Load model for testing"
   ]
  },
  {
   "cell_type": "code",
   "execution_count": 55,
   "metadata": {},
   "outputs": [],
   "source": [
    "model.load_weights('fp_m4.h5')"
   ]
  },
  {
   "cell_type": "code",
   "execution_count": null,
   "metadata": {},
   "outputs": [],
   "source": []
  },
  {
   "cell_type": "markdown",
   "metadata": {},
   "source": [
    "### LSTM - Testing the model outputs"
   ]
  },
  {
   "cell_type": "code",
   "execution_count": 42,
   "metadata": {},
   "outputs": [],
   "source": [
    "reverse_target_word_index=y_tokenizer.index_word\n",
    "reverse_source_word_index=x_tokenizer.index_word\n",
    "target_word_index=y_tokenizer.word_index"
   ]
  },
  {
   "cell_type": "code",
   "execution_count": 120,
   "metadata": {},
   "outputs": [],
   "source": [
    "# Encode the input sequence to get the feature vector\n",
    "encoder_model = Model(inputs=encoder_inputs,outputs=[encoder_outputs, state_h, state_c])\n",
    "\n",
    "# Decoder setup\n",
    "# Below tensors will hold the states of the previous time step\n",
    "decoder_state_input_h = Input(shape=(latent_dim,))\n",
    "decoder_state_input_c = Input(shape=(latent_dim,))\n",
    "decoder_hidden_state_input = Input(shape=(max_text_len,latent_dim))\n",
    "\n",
    "# Get the embeddings of the decoder sequence\n",
    "dec_emb2= dec_emb_layer(decoder_inputs) \n",
    "# To predict the next word in the sequence, set the initial states to the states from the previous time step\n",
    "decoder_outputs2, state_h2, state_c2 = decoder_lstm(dec_emb2, initial_state=[decoder_state_input_h, decoder_state_input_c])\n",
    "\n",
    "#attention inference\n",
    "attn_out_inf, attn_states_inf = attn_layer([decoder_hidden_state_input, decoder_outputs2])\n",
    "decoder_inf_concat = Concatenate(axis=-1, name='concat')([decoder_outputs2, attn_out_inf])\n",
    "\n",
    "# A dense softmax layer to generate prob dist. over the target vocabulary\n",
    "decoder_outputs2 = decoder_dense(decoder_inf_concat) \n",
    "\n",
    "# Final decoder model\n",
    "decoder_model = Model(\n",
    "    [decoder_inputs] + [decoder_hidden_state_input,decoder_state_input_h, decoder_state_input_c],\n",
    "    [decoder_outputs2] + [state_h2, state_c2])"
   ]
  },
  {
   "cell_type": "code",
   "execution_count": 52,
   "metadata": {},
   "outputs": [],
   "source": [
    "def decode_sequence(input_seq):\n",
    "    # Encode the input as state vectors.\n",
    "    e_out, e_h, e_c = encoder_model.predict(input_seq)\n",
    "    \n",
    "    # Generate empty target sequence of length 1.\n",
    "    target_seq = np.zeros((1,1))\n",
    "    \n",
    "    # Populate the first word of target sequence with the start word.\n",
    "    target_seq[0, 0] = target_word_index['sostok']\n",
    "\n",
    "    stop_condition = False\n",
    "    decoded_sentence = ''\n",
    "    while not stop_condition:\n",
    "      \n",
    "        output_tokens, h, c = decoder_model.predict([target_seq] + [e_out, e_h, e_c])\n",
    "\n",
    "        # Sample a token\n",
    "        sampled_token_index = np.argmax(output_tokens[0, -1, :])\n",
    "        sampled_token = reverse_target_word_index[sampled_token_index]\n",
    "        \n",
    "        if(sampled_token!='eostok'):\n",
    "            decoded_sentence += ' '+sampled_token\n",
    "\n",
    "        # Exit condition: either hit max length or find stop word.\n",
    "        if (sampled_token == 'eostok'  or len(decoded_sentence.split()) >= (max_summary_len-1)):\n",
    "            stop_condition = True\n",
    "\n",
    "        # Update the target sequence (of length 1).\n",
    "        target_seq = np.zeros((1,1))\n",
    "        target_seq[0, 0] = sampled_token_index\n",
    "\n",
    "        # Update internal states\n",
    "        e_h, e_c = h, c\n",
    "\n",
    "    return decoded_sentence"
   ]
  },
  {
   "cell_type": "code",
   "execution_count": 45,
   "metadata": {},
   "outputs": [],
   "source": [
    "def seq2summary(input_seq):\n",
    "    newString=''\n",
    "    for i in input_seq:\n",
    "        if((i!=0 and i!=target_word_index['sostok']) and i!=target_word_index['eostok']):\n",
    "            newString=newString+reverse_target_word_index[i]+' '\n",
    "    return newString\n",
    "\n",
    "def seq2text(input_seq):\n",
    "    newString=''\n",
    "    for i in input_seq:\n",
    "        if(i!=0):\n",
    "            newString=newString+reverse_source_word_index[i]+' '\n",
    "    return newString"
   ]
  },
  {
   "cell_type": "code",
   "execution_count": null,
   "metadata": {},
   "outputs": [],
   "source": []
  },
  {
   "cell_type": "code",
   "execution_count": null,
   "metadata": {},
   "outputs": [],
   "source": []
  },
  {
   "cell_type": "code",
   "execution_count": 121,
   "metadata": {},
   "outputs": [
    {
     "name": "stdout",
     "output_type": "stream",
     "text": [
      "0\n",
      "Review: okay expecting crunchy type dried strawberries maybe missed something reading description also sweet son liked gave aware berries coated sugar \n",
      "Original summary: sugar high \n",
      "Predicted summary:  not what expected\n",
      "\n",
      "\n",
      "1\n",
      "Review: yeast extract listed ingredient sounds harmless right specifically chips contain autolyzed yeast extract chemical level monosodium glutamate derived different source toxic properties kettle still advertises products containing msg acknowledge chips safe people msg sensitivities \n",
      "Original summary: the organic label is misleading \n",
      "Predicted summary:  yeast extract label\n",
      "\n",
      "\n",
      "2\n",
      "Review: loved flowers however error order unable reach live person correct even though wrote email left several voice mails hour order placed still waiting refund order placed error soon battle guess used company past like product able contact anyone change order unsatisfying get promised refund use vendor \n",
      "Original summary: poor customer service \n",
      "Predicted summary:  customer service\n",
      "\n",
      "\n",
      "3\n",
      "Review: searched decaf deep flavor great taste coffee barely miss caffeine since brewing glad found via amazon cannot miss brand \n",
      "Original summary: delicious \n",
      "Predicted summary:  decaf\n",
      "\n",
      "\n",
      "4\n",
      "Review: started weight watchers realized drinking lot points putting flavored creamers coffee morning found another solution point coffee instead flavored creamer use coffee mate fat free original plus one splenda vanilla packets turns point cup coffee points without losing much flavor previously enjoyed great product wish grocery stores carried \n",
      "Original summary: great low cal sweetener \n",
      "Predicted summary:  great coffee\n",
      "\n",
      "\n",
      "5\n",
      "Review: green color bit weird funny flavor works taking product improved recovery time like vegan added fiber added bonus get amount protein soy eat mixed almond hemp milk quite drinkable grainy needs mixed well clump like soy protein easy digest added sugar additives protein fiber pretty good mix careful mix mix according directions bottle problems makes good workout snack \n",
      "Original summary: not my favorite but it works \n",
      "Predicted summary:  not for me\n",
      "\n",
      "\n",
      "6\n",
      "Review: coffee one smoothest ever purchased use make latte every morning good flavor never bitter like espresso coffee decaf also great \n",
      "Original summary: best espresso coffee ever had \n",
      "Predicted summary:  lavazza crema gusto coffee\n",
      "\n",
      "\n",
      "7\n",
      "Review: great product completely get rid hot flashes night sweats seriously reduces number intensity tried everything else thing made difference get reasonable sleep night \n",
      "Original summary: sage tea \n",
      "Predicted summary:  sage tea\n",
      "\n",
      "\n",
      "8\n",
      "Review: since child fifties drank orange soda mini mug packaged \n",
      "Original summary: the champagne of spicy mustard \n",
      "Predicted summary:  orange soda\n",
      "\n",
      "\n",
      "9\n",
      "Review: tell fresh piece pop one moth flavor fresh gum soft chew smooth hmm hmm gum heaven \n",
      "Original summary: fresh soft and smooth \n",
      "Predicted summary:  great gum\n",
      "\n",
      "\n",
      "10\n",
      "Review: got sodastream birthday comes pack syrup sampler diet syrups regular syrups tried diet caffeine free syrups none come close tasting anything good diet drinks buy grocery store even store brands taste better sodastream diet drinks remind pre nutrasweet sodas used saccharine sweetener use soda stream make seltzer great job experimenting using drink mixes like crystal light work ok disclaimer one folks get bad aftertaste splenda splenda sweetener used diet sodastream drink syrups \n",
      "Original summary: drinks taste like diet soda from the old days \n",
      "Predicted summary:  great idea but not great\n",
      "\n",
      "\n",
      "11\n",
      "Review: really delicious earthy herbal tea every cup makes feel warm comfy love definitely repeat order \n",
      "Original summary: earthy and comforting \n",
      "Predicted summary:  earthy and comforting\n",
      "\n",
      "\n",
      "12\n",
      "Review: good quick cup coffee slightly different flavor blend quite enough really make huge impact taste \n",
      "Original summary: kona blend \n",
      "Predicted summary:  good coffee\n",
      "\n",
      "\n",
      "13\n",
      "Review: gift helps everyone gave women bean soups dips salsas extended family christmas everyone loved gift simplified shopping felt like helping really need help \n",
      "Original summary: great gift \n",
      "Predicted summary:  great gift\n",
      "\n",
      "\n",
      "14\n",
      "Review: cat isabel struggled uti weight issues years vet recommended wet food diet experimented variety brands could never find wet food made isabel feel full spend rest day begging us food tried wellness canned food isabel loves great wellness fills stopped constantly begging food started lose weight dandruff going away longer lethargic started play generally seems like happier cat chronic uti finally cleared give mostly wellness canned food little bit dry food mixed still primary source food happy first made switch \n",
      "Original summary: wellness canned food has been lifesaver for our cat \n",
      "Predicted summary:  my cat loves this food\n",
      "\n",
      "\n",
      "15\n",
      "Review: love lavazza coffee especially espresso black crema gusto tierra slightly costly though proceeds go worthy cause worth terms flavor like lavazza stronger \n",
      "Original summary: good not great \n",
      "Predicted summary:  lavazza crema gusto ground coffee\n",
      "\n",
      "\n",
      "16\n",
      "Review: meat moist like type beef jerky tried taste fast shipping \n",
      "Original summary: wild ride beef jerky \n",
      "Predicted summary:  great seasoning\n",
      "\n",
      "\n",
      "17\n",
      "Review: great product use pre post workout everything need even fibers tried lot meal replacement one best taste great \n",
      "Original summary: excellent product \n",
      "Predicted summary:  great product\n",
      "\n",
      "\n",
      "18\n",
      "Review: love tea drink every day pour water tea already dark think teabag contains twice amount tea american canadian company teabag opinion perfect \n",
      "Original summary: very strong black tea delicious \n",
      "Predicted summary:  great tea\n",
      "\n",
      "\n",
      "19\n",
      "Review: food great cats gotten completely addicted amazon bother mention quantities limited buying food cats months comprises roughly half diet went order repeatedly told problem long story phone calls plus emails later told bought lifetime maximum product ordered almost twice price via marketplace furious amazon nowhere page tell limit tell food great get used buying \n",
      "Original summary: beware amazon limits the total amount you can buy \n",
      "Predicted summary:  cats love it\n",
      "\n",
      "\n",
      "20\n",
      "Review: hairy kids dogs love rescued dogs cats life compared alot brands happy one \n",
      "Original summary: ms \n",
      "Predicted summary:  my dogs love these\n",
      "\n",
      "\n",
      "21\n",
      "Review: dog loves gets probably per day lb dog use small size reward without feeding note large box good value would guess times many biscuits size box would normally find grocery store twice price \n",
      "Original summary: good value large size box \n",
      "Predicted summary:  great treat\n",
      "\n",
      "\n",
      "22\n",
      "Review: jerky recommended nutritionist unlike jerky contains sugar harmful additives tastes great \n",
      "Original summary: healthy snack \n",
      "Predicted summary:  great jerky\n",
      "\n",
      "\n",
      "23\n",
      "Review: like things product contain company missed one thing good taste jerky almost medicinal type flavor little heat thrown try mask awfulness could disappointed purchase would return amazon cheap pay shipping highly suggest try find brand locally test buying bulk \n",
      "Original summary: good intentions horrible taste \n",
      "Predicted summary:  not as good as the original\n",
      "\n",
      "\n",
      "24\n",
      "Review: best healthy shake ever everyone family loves creamy sweet chocolaty perfect vanilla flavor creamy still tasty bit expensive worth every penny tried shakes like \n",
      "Original summary: best diet shake ever \n",
      "Predicted summary:  best protein ever\n",
      "\n",
      "\n",
      "25\n",
      "Review: disappointed tea taste better liptons yellow label tea expected stash loose tea since good expereience tea bags \n",
      "Original summary: stash darjeeling tea \n",
      "Predicted summary:  stash darjeeling tea\n",
      "\n",
      "\n",
      "26\n",
      "Review: horrified find product made china realizing give month old baby liked watch closely pieces easily break dissolve quickly enough choked luckily able cough piece cracker \n",
      "Original summary: made in china choking hazard \n",
      "Predicted summary:  made in china\n",
      "\n",
      "\n",
      "27\n",
      "Review: use litter ferrets pretty good soaks odor use multiple ferrets guess problem smell litter strong first use \n",
      "Original summary: great product \n",
      "Predicted summary:  works well\n",
      "\n",
      "\n",
      "28\n",
      "Review: glad finally see amazon selling fulfilling product buying albertsons lately getting roughly price amazon course pay sales tax get shipped via ups nd day air free since amazon prime member hope amazon lowers price well making one subscribe save products ordered packs lemon chocolate spearmint happy lower around less per bottle would order stuff like crazy hate drinking regular water seriously trying get diet sodas wondering chocolate flavor awesome sounds nasty actually good taste bit like drinking water one green andes candies mouth trying cut even get sweets good water drink actually satisfies sweet cravings \n",
      "Original summary: am so glad to finally see this on amazon \n"
     ]
    },
    {
     "name": "stdout",
     "output_type": "stream",
     "text": [
      "Predicted summary:  great tasting chocolate\n",
      "\n",
      "\n",
      "29\n",
      "Review: know dog treat might mistaken piece plastic one kids many toys solid therefore keeps dog busy awhile great loves best part though scent got lovely scent warm spice smell bad crumble ideal popping pocket way dog \n",
      "Original summary: bella says yum \n",
      "Predicted summary:  my dog loves it\n",
      "\n",
      "\n",
      "30\n",
      "Review: beans hard impossible find usa alfa brand bean directly greece fantastic product \n",
      "Original summary: greek giant beans \n",
      "Predicted summary:  beans\n",
      "\n",
      "\n",
      "31\n",
      "Review: good flavor stronger expected first gulp much better newman also good warm kahlua clod night \n",
      "Original summary: very bold \n",
      "Predicted summary:  nice flavor\n",
      "\n",
      "\n",
      "32\n",
      "Review: opened carton found packets consisting clear packet containing described pasta similarity orzo paper packet labeled type seasoning silver foil packet held cheese another paper packet marked broccoli misnomer contents clearly appeared sawdust green shingle chicken much truth advertising actually broccoli either sawdust apparently swept floor went publix bought chicken followed instructions back box course add sawdust adding cheese tried sample edible much flavor ok great shakes reason three stars added ro tel diced tomatoes green chiles topped favorite seasonings crumbled publix saltines result much improved meal significantly improved taste actually cannot see reason buying product would better buy orzo chicken favorite type cheese likely seasonings already want add brocolli buy fresh steam minutes throw mix add whatever imagination taste buds find pleasurable far superior meal \n",
      "Original summary: needs help \n",
      "Predicted summary:  not bad but not great either\n",
      "\n",
      "\n",
      "33\n",
      "Review: love sooo delicious even better healing properties like oral tea tree oil cool altho consider one important medicinal things take day actually tsp morning night keep us healthy also protected bugs going around inside amazing used band aid like hold mouth swish around even gargle little swallowing savor flavor work anti germ viral magic mucous membranes also gets absorbed faster way friend mine mixes unique honey braggs apple cider vinegar part ultimate health strategy thank airborne amazon person purchased repeat customer long available think would make excellent unique christmas gift \n",
      "Original summary: the most awesome honey ever \n",
      "Predicted summary:  amazing\n",
      "\n",
      "\n",
      "34\n",
      "Review: good oil decent price want spend bit also like colavita extra virgin olive oil around always use subscription stop whenever want \n",
      "Original summary: good oil \n",
      "Predicted summary:  olive oil\n",
      "\n",
      "\n",
      "35\n",
      "Review: water refreshing chilled refrigerator however tendency carry bottle til gone means might minutes perhaps hours care water room temperature metallic taste however considering benefits ph balance probably still buy small bottles \n",
      "Original summary: refreshing as long as its cold \n",
      "Predicted summary:  water\n",
      "\n",
      "\n",
      "36\n",
      "Review: review regarding cookie price set seller cookie fantastic perfect little treat three cookies calories since trying watch weight eat one calories perfect times need something sugary chocolately eat one blow entire day dieting yum yum \n",
      "Original summary: yummy little treat \n",
      "Predicted summary:  yummy cookies\n",
      "\n",
      "\n",
      "37\n",
      "Review: always enjoyed international coffee line made nice treat holidays wanted cup coffee want brew whole pot right amount peppermint flavor overwhelm coffee \n",
      "Original summary: nice little treat \n",
      "Predicted summary:  great coffee\n",
      "\n",
      "\n",
      "38\n",
      "Review: like others said description states quantity receive big rip order cups amazon anymore buyer beware \n",
      "Original summary: rip off \n",
      "Predicted summary:  misleading photo\n",
      "\n",
      "\n",
      "39\n",
      "Review: ordered bags arrived full worms bags would order \n",
      "Original summary: full of worms \n",
      "Predicted summary:  jelly belly\n",
      "\n",
      "\n",
      "40\n",
      "Review: use food two welsh corgis one food allergies cannot chicken slightly sensitive stomach non baked version work food half inch diameter forces chew rather gulp like tend like even smaller dogs love think better grade non super premium foods without hype skin coats perfect food regular order list \n",
      "Original summary: great stuff hard to find in stores \n",
      "Predicted summary:  great food\n",
      "\n",
      "\n",
      "41\n",
      "Review: ordered eden organic pinto beans ounce boxes eden organic black beans ounce boxes quality beans great opinion course love organic another reviewer said thought beans date thought date contacting company though edenfoods com found dates confusing packaging saw best de figured expired december customer service representative contacted said first two digits represent year meaning beans good december good know contact edenfoods com responded quickly answer within half day buying \n",
      "Original summary: eden organic beans \n",
      "Predicted summary:  beans\n",
      "\n",
      "\n",
      "42\n",
      "Review: decaf tea excellent best ever found love pg tips decaf good regular \n",
      "Original summary: best decaf tea \n",
      "Predicted summary:  best decaf tea\n",
      "\n",
      "\n",
      "43\n",
      "Review: bought work since charge keeping candy dish full love cant beat price fav reds much better get co workers happy buy candy every week month none candies stale bags expire another year amazon saved day \n",
      "Original summary: umm yes \n",
      "Predicted summary:  great candy\n",
      "\n",
      "\n",
      "44\n",
      "Review: disappointed flavor lack therof stash usually dependable products real letdown \n",
      "Original summary: not great \n",
      "Predicted summary:  not the same\n",
      "\n",
      "\n",
      "45\n",
      "Review: picture shows old package coffee could find anywhere reason made order dissapointed receive diffent jars turned product \n",
      "Original summary: new package the same taste \n",
      "Predicted summary:  misleading picture\n",
      "\n",
      "\n",
      "46\n",
      "Review: learned product friends loved later visited winery college station texas used wine tasting also sold aerator tower holds aerator researched product although different ones claim serve purpose venturi seems best job probably winery prefers make wines taste even better people purchasing frequently winery impressed improvement wine flavor trying without tasting getting whole set price tax free amazon made love even \n",
      "Original summary: amazing product \n",
      "Predicted summary:  great for wine\n",
      "\n",
      "\n",
      "47\n",
      "Review: bars perfect grab go morning afternoon addition lunch crunchy hint sweetness cranberries tried flavors intend give shot low carb option bar \n",
      "Original summary: great for breakfast or snack \n",
      "Predicted summary:  great snack bar\n",
      "\n",
      "\n",
      "48\n",
      "Review: wanting switch dog onto different type chew treat found vegetables keep gi tract good order made usa loves break small inches pieces give day last long rawhide fiber great give doggie heimlich maneuvers choking since made switch going try products company \n",
      "Original summary: chihuahua loves them \n",
      "Predicted summary:  my dog loves these\n",
      "\n",
      "\n",
      "49\n",
      "Review: coffee starbucks brand natural fusions vanilla ground coffee smells incredible open bag even better coffee brewing coffee done brewing entire house smelled like inside starbucks coffee store excellent taste taste something disappointment coffee definite bitter edge vanilla aspect extremely light definitely overpowered bitterness going house party would probably brew coffee way smells creates great party like atmosphere day day coffee drinking enjoyment starbucks natural fusions ground coffee vanilla flavored probably live expectations gourmet coffee drinkers \n",
      "Original summary: smells great tastes bitter disappointing \n",
      "Predicted summary:  vanilla flavored coffee\n",
      "\n",
      "\n",
      "50\n",
      "Review: seller delivery really slow cannot track still arrive two weeks know product turkey specific gum green tea flavor also find falim gum without flavor product also free sugar products wonder gum tastes gum love us canada actually chewing plastics sugar real gum strongly advise turkish product name means fortune every single gum wrapped paper tells fortune fun turkish \n",
      "Original summary: this is turkish gum with green tea flavor \n",
      "Predicted summary:  great gum\n",
      "\n",
      "\n",
      "51\n",
      "Review: could get around place got amazon sugar sweet got taste chewy texture beyond great never liked mango definitely something go \n",
      "Original summary: perhaps \n",
      "Predicted summary:  great sugar free snack\n",
      "\n",
      "\n",
      "52\n",
      "Review: roasted coconut chips absolutely fabulous nice little snack treat creamy taste crispy texture true coconut flavor preservatives \n",
      "Original summary: roasted coconut chips \n",
      "Predicted summary:  coconut chips\n",
      "\n",
      "\n",
      "53\n",
      "Review: brew bunn mc coffee pod brewer think good flavor say decaf would know also keurig buying many kcups outrageous prices although use solofill keurig alternate pod coffee kcups bag coffee use solofill adapter cannot understand people realize pods cups two different things pods fit kcup device unless pod holster use like bunn cafe coffee worth try want decent decaf \n",
      "Original summary: would not know it is decaf \n"
     ]
    },
    {
     "name": "stdout",
     "output_type": "stream",
     "text": [
      "Predicted summary:  weak coffee\n",
      "\n",
      "\n",
      "54\n",
      "Review: father law recommended get flax seed mill part healthier nutritious diet ordered flax seed mill noticed muffin recipe back wanted try especially wonderful reviews one problem gotten oat bran ordered tried muffin recipe whoa absolutely fantastic tried hot cereal adding tbsp flax seed mill dash salt chopped walnuts frozen blueberries touch maple syrup stuff tasty bowl breakfast maybe bowl lunch light filling without making full rest assured knowing getting fiber need day keeps regular cholesterol check happy gal \n",
      "Original summary: cannot be without this \n",
      "Predicted summary:  great for baking\n",
      "\n",
      "\n",
      "55\n",
      "Review: nuts great little small tasty arrived days ordered soooo much cheaper market \n",
      "Original summary: nuts \n",
      "Predicted summary:  nuts\n",
      "\n",
      "\n",
      "56\n",
      "Review: jerky recommended nutritionist unlike jerky contains sugar harmful additives tastes great \n",
      "Original summary: healthy snack \n",
      "Predicted summary:  great jerky\n",
      "\n",
      "\n",
      "57\n",
      "Review: breast cancer survivor aware organic foods drinks paul newman products among favorites \n",
      "Original summary: organic coffee \n",
      "Predicted summary:  great formula\n",
      "\n",
      "\n",
      "58\n",
      "Review: pretty big fan traditional tea figured would green tea mango pieces later found reading ingredients herbs like chamomile rose hips etc tea taste horrible thought box sort misleading amazon community aware additions \n",
      "Original summary: not just green tea and mango \n",
      "Predicted summary:  not what expected\n",
      "\n",
      "\n",
      "59\n",
      "Review: bought one stash teas remember one contained gluten gluten intolerant never expected tea contain gluten reason tea contain gluten celiacs beware \n",
      "Original summary: gluten in tea \n",
      "Predicted summary:  gluten free tea\n",
      "\n",
      "\n",
      "60\n",
      "Review: yeast made mexico use date got realized could purchased pouches going send back postage figured might well keep try seems work well also ordered pack \n",
      "Original summary: extremely overpriced \n",
      "Predicted summary:  yeast\n",
      "\n",
      "\n",
      "61\n",
      "Review: far favorite hot sauce date weird reason still prefer original tabasco eggs anything else want spice gets breakfast items feel heavy vinegar saturating hot sauces drown lot flavor enhances without covering flavor actually adding natural flavor sauce second nothing ever tried sure little kick immune endless bottles consumed looking try new sauce flavor heat definitely give try nice kick connoisseur type sauce looking laugh buddies pleasant kick full amazing flavors market new sauce flavor need give shot favorite far highly doubt regret purchase guess back \n",
      "Original summary: top of my list \n",
      "Predicted summary:  hot sauce\n",
      "\n",
      "\n",
      "62\n",
      "Review: best quality real tic tac best flavor huge help weight loss ever immediate shipping affordable price real product back definitely \n",
      "Original summary: the real one \n",
      "Predicted summary:  best peppermint jam ever\n",
      "\n",
      "\n",
      "63\n",
      "Review: pleased packaging prompt delivery however every single package empty coffee inside broken seals holes nicely sealed empty cups would like coffee coffee \n",
      "Original summary: order arrived promptly filled with empty cups \n",
      "Predicted summary:  great coffee\n",
      "\n",
      "\n",
      "64\n",
      "Review: using pearl barley inferior old batch product denmark maybe soil godd usa arrowhead much much better pearl barley product little flavor says producto denmark packed isreal like drinking dishwater would hate anyone new barley buy product flavor diluted biologist experience buy brand arrowhead barley good try huled lb bags make barley water drink first thing huled barley higher percent vitamins minerals barley good prevent uti helps acid refulx try drinking water lower th ph stomach leave lemon juice others add see make utube soak overnight boil mins strain put barley aside keep barley water store pitcher refrigerator make quarts time explored product listening oz time ago cheap health food save many people lot cost pain acid reflux \n",
      "Original summary: pearl barley \n",
      "Predicted summary:  not worth it\n",
      "\n",
      "\n",
      "65\n",
      "Review: quote keeps getting funnier every single time see put good use say watch movie say tim burton cannot stop good movies least top best comedies time twisted funny swear watch film get one laugh probably give chance course beetlejuice one famous movie history way go tim \n",
      "Original summary: it is showtime \n",
      "Predicted summary:  tim burton best\n",
      "\n",
      "\n",
      "66\n",
      "Review: doctor told lose weight going insulin months desperately looking healthy food choices worried much taste calories per calories fat mg sodium protein whopping fiber cans fit bill yes great flavor mixed cooked quinoa brown rice added tuna sardines good \n",
      "Original summary: low salt and healthy \n",
      "Predicted summary:  great for low carb diets\n",
      "\n",
      "\n",
      "67\n",
      "Review: bones great compressed rawhide lasts much longer rawhides making great powerful chewers love buying bulk like buy individually usually around \n",
      "Original summary: great value \n",
      "Predicted summary:  great chew toy\n",
      "\n",
      "\n",
      "68\n",
      "Review: tastes wonderful probably best quick meal like ever great lunch work want go want inexpensive delicious lunch would say good restaurants great product \n",
      "Original summary: loved it \n",
      "Predicted summary:  great meal replacement\n",
      "\n",
      "\n",
      "69\n",
      "Review: like sauce grilled beef disappeared stores \n",
      "Original summary: dr pepper sauce \n",
      "Predicted summary:  great sauce\n",
      "\n",
      "\n",
      "70\n",
      "Review: purchased pack sons classroom snack town house crackers cheap price offered amazon suprisingly low expected chance crackers would arrive cracker crumbs case one time appreciate way amazon packages everything mroe crumbs broken crackers purchased locally yay amazon enjoyed crackers many times past always enjoy taste unique necessary something cracker enjoy \n",
      "Original summary: great snack food \n",
      "Predicted summary:  great crackers\n",
      "\n",
      "\n",
      "71\n",
      "Review: like sprout baby food becaus sodium stage baby food ordered box gave months old baby start baby food check nutrition facts omg mg sodium much sodium went wal mart got stage sweet peas mg sodium wait give packs till baby gets bigger good best date aug looking sweet peas stage good one much sodium mg omg waste money \n",
      "Original summary: not stage baby food becareful \n",
      "Predicted summary:  great baby food\n",
      "\n",
      "\n",
      "72\n",
      "Review: gloria jeans coffees tried meet coffee expectations foo foo flavors like mudslide okay still exceptional luckily able trade almost full box cup exchange yahoo return get flavor liked recommend site highly learn lot brewing keurig free \n",
      "Original summary: if this flavor is let down trade it \n",
      "Predicted summary:  wolfgang puck coffee\n",
      "\n",
      "\n",
      "73\n",
      "Review: must one unlucky ones mine arrived pulverized bubble wrap top second outer box \n",
      "Original summary: unlucky \n",
      "Predicted summary:  great gift\n",
      "\n",
      "\n",
      "74\n",
      "Review: happy get order unfortunately used first bottle tastes old verge bad sediment way thicker fresh bottle sure even use bottles \n",
      "Original summary: old product \n",
      "Predicted summary:  not as advertised\n",
      "\n",
      "\n",
      "75\n",
      "Review: product exactly expected taste quantity price could bit better expected \n",
      "Original summary: what expected \n",
      "Predicted summary:  good product\n",
      "\n",
      "\n",
      "76\n",
      "Review: ordered couldnt seem find size store couple skittle shells bottom bag shipping product everything else fine \n",
      "Original summary: tastes like skittles to me \n",
      "Predicted summary:  not as described\n",
      "\n",
      "\n",
      "77\n",
      "Review: love mites vegemite marmite vegemite acquired taste something recommend trying unles know beer product loaded vitamin bs totally vegetarian great toast like sweet salty things recommend trying cinnamon raisen toast even scones game people use add flavor casseroles added vitamin boost sure would great product would purchase new zealand store would recommend mention acquired taste right go easy spreading toast thick coating recommended cannot find locally yes buy cheaper find international food store save shipping \n",
      "Original summary: too much spoils the flavor \n",
      "Predicted summary:  great stuff\n",
      "\n",
      "\n",
      "78\n",
      "Review: order hassle free processed swiftly packaging well done delivery right money definintly recommend buying slim jims \n",
      "Original summary: great product at great price \n",
      "Predicted summary:  slim jim\n",
      "\n",
      "\n",
      "79\n",
      "Review: little toddler meals simple easy best loved little munchkin lives two hours away mother college send meals apartment well may little costly college student budget happy ensure little munchkin healthy meals loves make feel independent size meat carrots green beans perfect toddler pick tiny fingers spoon put mouth choking incidents date \n",
      "Original summary: munchkin love \n"
     ]
    },
    {
     "name": "stdout",
     "output_type": "stream",
     "text": [
      "Predicted summary:  great party favors\n",
      "\n",
      "\n",
      "80\n",
      "Review: popchip calorie bags great snack help control portions trust full sized bag taste great decent amount bags enough satisfy bland tasting like baked chips regularly order bbq flavor tried many popchip flavors personal favorites know make taste great little calories thanks popchips \n",
      "Original summary: yummy snack \n",
      "Predicted summary:  popchips are great\n",
      "\n",
      "\n",
      "81\n",
      "Review: think candies great nice lemony would give stars sugar coating taste nice get past candy otoh keeps sticking together plus received another order purchase hand stick extra gifts recommend tried flavors really love lemon \n",
      "Original summary: love these \n",
      "Predicted summary:  great candy\n",
      "\n",
      "\n",
      "82\n",
      "Review: product nice happy found way purchase able make couple healthy sized burgers box instead recommended glad find animal products ingredients price seems reasonable purchased boxes time \n",
      "Original summary: good happy lunch \n",
      "Predicted summary:  great product\n",
      "\n",
      "\n",
      "83\n",
      "Review: repeat customer success first round fortune cookies last year decided order cookies night opening ceremonies olympics representative greenfire worked together came different olympics related fortunes ordered three pounds staff loved brought meeting start day spent almost much time reading fortunes spent working meeting left staff go nibble away end night three pounds gone got kick hearing staff laughing fortunes came two successful rounds fortunes plan back third round \n",
      "Original summary: back for more \n",
      "Predicted summary:  great cookies\n",
      "\n",
      "\n",
      "84\n",
      "Review: kids love like grape flavor nice change plain applesauce convenient pack lunches school perfect size younger ones \n",
      "Original summary: good product good price \n",
      "Predicted summary:  kids love it\n",
      "\n",
      "\n",
      "85\n",
      "Review: love melba toast convenient get boxes would given higher rating one three occasions ordered get end box crushed toast \n",
      "Original summary: good price for this favorite product \n",
      "Predicted summary:  great product\n",
      "\n",
      "\n",
      "86\n",
      "Review: problems product call mild like medium cup strong brew starbucks disc hesitate purchase \n",
      "Original summary: good cup of coffee \n",
      "Predicted summary:  great coffee\n",
      "\n",
      "\n",
      "87\n",
      "Review: love sweet potatoes nutritional powerhouse great diabetics eat variety dishes stay lean fit also love chips imagine dismay thought best worlds ended tasting much like either things ate three bags different days empty stomach make sure mistaken even pit bull would touch sit cupboard awaiting expiration date \n",
      "Original summary: ehhh \n",
      "Predicted summary:  not the best\n",
      "\n",
      "\n",
      "88\n",
      "Review: noticed different aroma box arrived hazlenut favorite flavor felt flavor good hazlenut blends taste slightly bitter less rich satisfying coffees drinkable best say order brand first negative review personality coffee \n",
      "Original summary: far from the best hazlenut coffee have tried \n",
      "Predicted summary:  van houtte creme brulee cups\n",
      "\n",
      "\n",
      "89\n",
      "Review: bought product used buy cookies time lived texas best taffy filling cookie eaten favorite since living michigan cannot find store found amazon buy definitely ordering tasty cookies great dunked milk \n",
      "Original summary: cookies \n",
      "Predicted summary:  best cookies ever\n",
      "\n",
      "\n",
      "90\n",
      "Review: cat somewhat picky eater bit nervous ordering pack food delivery came quickly served boy cat loved food much licked bowl clean asked food looks like made chicken breast broth fillers gone though cans cat still loves food best btw second favorite asian fusion also brand \n",
      "Original summary: my cat biggest favorite \n",
      "Predicted summary:  my cat loves this food\n",
      "\n",
      "\n",
      "91\n",
      "Review: stash new stash teas india refreshing different stash one unique darjeeling summer exception ingredient darjeeling second flush black tea leaves truly complex tasty tea tastes wonderfully black needs nothing added great tea experience tea contains caffeine strong distinctive high quality refreshing tea recommended true step stash \n",
      "Original summary: surprisingly unique and tasty \n",
      "Predicted summary:  stash premium herbal tea\n",
      "\n",
      "\n",
      "92\n",
      "Review: purchased tea set gift friend enjoys tea love tea creates flower clear teapot great gift \n",
      "Original summary: beautiful gift item \n",
      "Predicted summary:  great tea\n",
      "\n",
      "\n",
      "93\n",
      "Review: product tastes exactly like sugar use confidence knowing body react like would refined sugar love \n",
      "Original summary: xylitol \n",
      "Predicted summary:  sugar free sweetener\n",
      "\n",
      "\n",
      "94\n",
      "Review: great mother got timely manner excited called told envy work mothers excited \n",
      "Original summary: flowers \n",
      "Predicted summary:  great idea\n",
      "\n",
      "\n",
      "95\n",
      "Review: would perfect ground bit smaller big bite take long taste great \n",
      "Original summary: excellent taste but large crystals \n",
      "Predicted summary:  great snack\n",
      "\n",
      "\n",
      "96\n",
      "Review: small dogs absolutely love greenies stores pets mart pet co want sale pack large always order amazon want spoil dogs great price keeping teeth white gums healthy \n",
      "Original summary: amazing value price \n",
      "Predicted summary:  greenies are great\n",
      "\n",
      "\n",
      "97\n",
      "Review: ordered two sets six boxes paid product came shock boxes yes boxes rip guess look matter quickly \n",
      "Original summary: ripped off \n",
      "Predicted summary:  ridiculous price increase\n",
      "\n",
      "\n",
      "98\n",
      "Review: little guys sure kick good pickled sausage juicy spicy perfect alarm clock wake taste buds surprised comments product price quality cannot pass oh forget shipping great product came pennsylvania california matter two days go ahead click add cart button calling name \n",
      "Original summary: good quality good price \n",
      "Predicted summary:  great peppers\n",
      "\n",
      "\n",
      "99\n",
      "Review: really good tasting cider ever caramel apple suckers tastes lot like surprisingly tastes like caramel apple know would taste much like caramel apple first actually love cider \n",
      "Original summary: great cider \n",
      "Predicted summary:  apple cider cups\n",
      "\n",
      "\n"
     ]
    }
   ],
   "source": [
    "for i in range(0,100):\n",
    "    print(i)\n",
    "    print(\"Review:\",seq2text(x_train[i]))\n",
    "    print(\"Original summary:\",seq2summary(y_train[i]))\n",
    "    print(\"Predicted summary:\",decode_sequence(x_train[i].reshape(1,max_text_len)))\n",
    "    print(\"\\n\")"
   ]
  },
  {
   "cell_type": "code",
   "execution_count": null,
   "metadata": {},
   "outputs": [],
   "source": []
  },
  {
   "cell_type": "code",
   "execution_count": null,
   "metadata": {},
   "outputs": [],
   "source": []
  },
  {
   "cell_type": "markdown",
   "metadata": {},
   "source": [
    "### LSTM - Generate text for ROUGE evaluation"
   ]
  },
  {
   "cell_type": "code",
   "execution_count": 66,
   "metadata": {},
   "outputs": [],
   "source": [
    "def writeText(text, title, dataDir):\n",
    "    with open(os.path.join(os.getcwd() + dataDir, (title + \".txt\")), 'w', encoding='utf-8') as story:\n",
    "        story.write(text)"
   ]
  },
  {
   "cell_type": "code",
   "execution_count": 122,
   "metadata": {},
   "outputs": [],
   "source": [
    "for i in range(0,100):\n",
    "#     writeText(seq2summary(y_train[i]), \"REFERENCE_\" + str(i), \"/rogue_data/model2/provided_summaries/\")\n",
    "    writeText(decode_sequence(x_train[i].reshape(1,max_text_len)),\\\n",
    "             \"GENERATED_\" + str(i), \"/rogue_data/model1_50/model_summaries/\")"
   ]
  },
  {
   "cell_type": "code",
   "execution_count": null,
   "metadata": {},
   "outputs": [],
   "source": []
  },
  {
   "cell_type": "code",
   "execution_count": null,
   "metadata": {},
   "outputs": [],
   "source": []
  },
  {
   "cell_type": "markdown",
   "metadata": {},
   "source": [
    "# Bi-Directional"
   ]
  },
  {
   "cell_type": "markdown",
   "metadata": {},
   "source": [
    "## Model 3"
   ]
  },
  {
   "cell_type": "code",
   "execution_count": 99,
   "metadata": {},
   "outputs": [
    {
     "name": "stdout",
     "output_type": "stream",
     "text": [
      "Model: \"model\"\n",
      "__________________________________________________________________________________________________\n",
      "Layer (type)                    Output Shape         Param #     Connected to                     \n",
      "==================================================================================================\n",
      "input_1 (InputLayer)            [(None, 140)]        0                                            \n",
      "__________________________________________________________________________________________________\n",
      "embedding (Embedding)           (None, 140, 100)     5567000     input_1[0][0]                    \n",
      "__________________________________________________________________________________________________\n",
      "input_2 (InputLayer)            [(None, None)]       0                                            \n",
      "__________________________________________________________________________________________________\n",
      "bidirectional (Bidirectional)   [(None, 140, 600), ( 962400      embedding[0][0]                  \n",
      "__________________________________________________________________________________________________\n",
      "embedding_1 (Embedding)         (None, None, 100)    1614100     input_2[0][0]                    \n",
      "__________________________________________________________________________________________________\n",
      "bidirectional_1 (Bidirectional) [(None, 140, 600), ( 2162400     bidirectional[0][0]              \n",
      "                                                                 bidirectional[0][1]              \n",
      "                                                                 bidirectional[0][2]              \n",
      "                                                                 bidirectional[0][3]              \n",
      "                                                                 bidirectional[0][4]              \n",
      "__________________________________________________________________________________________________\n",
      "bidirectional_3 (Bidirectional) [(None, None, 600),  962400      embedding_1[0][0]                \n",
      "__________________________________________________________________________________________________\n",
      "bidirectional_2 (Bidirectional) [(None, 140, 600), ( 2162400     bidirectional_1[0][0]            \n",
      "                                                                 bidirectional_1[0][1]            \n",
      "                                                                 bidirectional_1[0][2]            \n",
      "                                                                 bidirectional_1[0][3]            \n",
      "                                                                 bidirectional_1[0][4]            \n",
      "__________________________________________________________________________________________________\n",
      "attention_layer (AttentionLayer ((None, None, 600),  720600      bidirectional_2[0][0]            \n",
      "                                                                 bidirectional_3[0][0]            \n",
      "__________________________________________________________________________________________________\n",
      "concat_layer (Concatenate)      (None, None, 1200)   0           bidirectional_3[0][0]            \n",
      "                                                                 attention_layer[0][0]            \n",
      "__________________________________________________________________________________________________\n",
      "time_distributed (TimeDistribut (None, None, 16141)  19385341    concat_layer[0][0]               \n",
      "==================================================================================================\n",
      "Total params: 33,536,641\n",
      "Trainable params: 33,536,641\n",
      "Non-trainable params: 0\n",
      "__________________________________________________________________________________________________\n"
     ]
    }
   ],
   "source": [
    "K.clear_session()\n",
    "    \n",
    "latent_dim = 300\n",
    "embedding_dim=100\n",
    "\n",
    "# Encoder\n",
    "encoder_inputs = Input(shape=(max_text_len,))\n",
    "\n",
    "#embedding layer\n",
    "enc_emb =  Embedding(x_voc, embedding_dim, trainable=True)(encoder_inputs)\n",
    "\n",
    "#encoder lstm 1\n",
    "encoder_lstm1 = LSTM(latent_dim,return_sequences=True,return_state=True,dropout=0.5,recurrent_dropout=0.6)\n",
    "encoder_output1 = Bidirectional(encoder_lstm1)(enc_emb)\n",
    "\n",
    "#encoder lstm 2\n",
    "encoder_lstm2 = LSTM(latent_dim,return_sequences=True,return_state=True,dropout=0.5,recurrent_dropout=0.6)\n",
    "encoder_output2 = Bidirectional(encoder_lstm2)(encoder_output1)\n",
    "\n",
    "#encoder lstm 3\n",
    "encoder_lstm3 = LSTM(latent_dim, return_state=True, return_sequences=True,dropout=0.5,recurrent_dropout=0.6)\n",
    "encoder_outputs = Bidirectional(encoder_lstm3)(encoder_output2)\n",
    "lstm, forward_h, forward_c, backward_h, backward_c = encoder_outputs\n",
    "\n",
    "state_h = Concatenate()([forward_h, backward_h])\n",
    "state_c = Concatenate()([forward_c, backward_c])\n",
    "\n",
    "\n",
    "# Set up the decoder, using `encoder_states` as initial state.\n",
    "decoder_inputs = Input(shape=(None,))\n",
    "\n",
    "#embedding layer\n",
    "dec_emb_layer = Embedding(y_voc, embedding_dim,trainable=True)\n",
    "dec_emb = dec_emb_layer(decoder_inputs)\n",
    "\n",
    "decoder_lstm = LSTM(latent_dim, return_sequences=True, return_state=True,dropout=0.4,recurrent_dropout=0.2)\n",
    "decoder_outputs= Bidirectional(decoder_lstm)(dec_emb)#,initial_state=[state_h, state_c])\n",
    "\n",
    "# Attention layer\n",
    "attn_layer = AttentionLayer(name='attention_layer')\n",
    "attn_out, attn_states = attn_layer([encoder_outputs[0], decoder_outputs[0]])\n",
    "\n",
    "# Concat attention input and decoder LSTM output\n",
    "decoder_concat_input = Concatenate(axis=-1, name='concat_layer')([decoder_outputs[0], attn_out])\n",
    "\n",
    "#dense layer\n",
    "decoder_dense =  TimeDistributed(Dense(y_voc, activation='softmax'))\n",
    "decoder_outputs = decoder_dense(decoder_concat_input)\n",
    "\n",
    "# Define the model \n",
    "model = Model([encoder_inputs, decoder_inputs], decoder_outputs)\n",
    "\n",
    "model.summary() \n"
   ]
  },
  {
   "cell_type": "code",
   "execution_count": 108,
   "metadata": {},
   "outputs": [],
   "source": [
    "model.compile(optimizer='rmsprop',\n",
    "              loss='sparse_categorical_crossentropy',\n",
    "              metrics=['acc'])"
   ]
  },
  {
   "cell_type": "code",
   "execution_count": 109,
   "metadata": {},
   "outputs": [],
   "source": [
    "es = EarlyStopping(monitor='val_loss',\n",
    "                   mode='min',\n",
    "                   verbose=1,\n",
    "                   patience=2)"
   ]
  },
  {
   "cell_type": "code",
   "execution_count": 111,
   "metadata": {},
   "outputs": [
    {
     "name": "stdout",
     "output_type": "stream",
     "text": [
      "Train on 434714 samples, validate on 108501 samples\n",
      "Epoch 1/10\n",
      "434714/434714 [==============================] - 4493s 10ms/sample - loss: 1.1986 - acc: 0.8086 - val_loss: 0.6536 - val_acc: 0.9015\n",
      "Epoch 2/10\n",
      "434714/434714 [==============================] - 4497s 10ms/sample - loss: 0.5577 - acc: 0.9199 - val_loss: 0.4079 - val_acc: 0.9460\n",
      "Epoch 3/10\n",
      "434714/434714 [==============================] - 4500s 10ms/sample - loss: 0.3926 - acc: 0.9478 - val_loss: 0.3014 - val_acc: 0.9613\n",
      "Epoch 4/10\n",
      "434714/434714 [==============================] - 4493s 10ms/sample - loss: 0.3006 - acc: 0.9606 - val_loss: 0.2363 - val_acc: 0.9693\n",
      "Epoch 5/10\n",
      "434714/434714 [==============================] - 4488s 10ms/sample - loss: 0.2460 - acc: 0.9675 - val_loss: 0.1905 - val_acc: 0.9748\n",
      "Epoch 6/10\n",
      "434714/434714 [==============================] - 4489s 10ms/sample - loss: 0.1992 - acc: 0.9732 - val_loss: 0.1512 - val_acc: 0.9798\n",
      "Epoch 7/10\n",
      "434714/434714 [==============================] - 4487s 10ms/sample - loss: 0.1683 - acc: 0.9770 - val_loss: 0.1303 - val_acc: 0.9827\n",
      "Epoch 8/10\n",
      "434714/434714 [==============================] - 4478s 10ms/sample - loss: 0.1434 - acc: 0.9801 - val_loss: 0.1149 - val_acc: 0.9842\n",
      "Epoch 9/10\n",
      "434714/434714 [==============================] - 4432s 10ms/sample - loss: 0.1266 - acc: 0.9822 - val_loss: 0.1003 - val_acc: 0.9864\n",
      "Epoch 10/10\n",
      "434714/434714 [==============================] - 4410s 10ms/sample - loss: 0.1135 - acc: 0.9838 - val_loss: 0.0912 - val_acc: 0.9876\n"
     ]
    }
   ],
   "source": [
    "history=model.fit([x_train, y_train[:,:-1]], y_train.reshape(y_train.shape[0], y_train.shape[1], 1)[:,1:],\n",
    "                  epochs=10,\n",
    "                  callbacks=[es],\n",
    "                  batch_size=128,\n",
    "                  validation_data=([x_val, y_val[:,:-1]], y_val.reshape(y_val.shape[0], y_val.shape[1], 1)[:,1:]))"
   ]
  },
  {
   "cell_type": "code",
   "execution_count": 112,
   "metadata": {
    "scrolled": true
   },
   "outputs": [
    {
     "data": {
      "image/png": "[encoded data removed]",
      "text/plain": [
       "<Figure size 1152x720 with 1 Axes>"
      ]
     },
     "metadata": {},
     "output_type": "display_data"
    }
   ],
   "source": [
    "plt.figure(figsize=(16, 10))\n",
    "plt.plot(history.history['loss'], label='train')\n",
    "plt.plot(history.history['val_loss'], label='test')\n",
    "plt.legend()\n",
    "plt.show()"
   ]
  },
  {
   "cell_type": "code",
   "execution_count": 113,
   "metadata": {},
   "outputs": [],
   "source": [
    "# model.save('fp_m3.h5')  ## 10 epoch test"
   ]
  },
  {
   "cell_type": "code",
   "execution_count": 114,
   "metadata": {
    "scrolled": true
   },
   "outputs": [
    {
     "data": {
      "image/png": "[encoded data removed]",
      "text/plain": [
       "<Figure size 1152x720 with 1 Axes>"
      ]
     },
     "metadata": {},
     "output_type": "display_data"
    }
   ],
   "source": [
    "plotloss(history.history)"
   ]
  },
  {
   "cell_type": "code",
   "execution_count": 115,
   "metadata": {
    "scrolled": true
   },
   "outputs": [
    {
     "data": {
      "image/png": "[encoded data removed]",
      "text/plain": [
       "<Figure size 1152x720 with 1 Axes>"
      ]
     },
     "metadata": {},
     "output_type": "display_data"
    }
   ],
   "source": [
    "plotacc(history)"
   ]
  },
  {
   "cell_type": "code",
   "execution_count": null,
   "metadata": {},
   "outputs": [],
   "source": []
  },
  {
   "cell_type": "code",
   "execution_count": null,
   "metadata": {},
   "outputs": [],
   "source": []
  },
  {
   "cell_type": "code",
   "execution_count": 100,
   "metadata": {},
   "outputs": [],
   "source": [
    "model.load_weights('fp_m3.h5')"
   ]
  },
  {
   "cell_type": "markdown",
   "metadata": {},
   "source": [
    "### Bidirectional LSTM - Testing the model outputs"
   ]
  },
  {
   "cell_type": "code",
   "execution_count": 101,
   "metadata": {},
   "outputs": [],
   "source": [
    "# Encode the input sequence to get the feature vector\n",
    "encoder_model = Model(inputs=encoder_inputs,outputs=[encoder_outputs[0], state_h, state_c])\n",
    "\n",
    "# Decoder setup\n",
    "# Below tensors will hold the states of the previous time step\n",
    "decoder_state_input_h = Input(shape=(latent_dim*2))\n",
    "decoder_state_input_c = Input(shape=(latent_dim*2,))\n",
    "decoder_hidden_state_input = Input(shape=(max_text_len,latent_dim*2))\n",
    "\n",
    "\n",
    "\n",
    "# Get the embeddings of the decoder sequence\n",
    "dec_emb2= dec_emb_layer(decoder_inputs) \n",
    "# print(decoder_state_input_h, decoder_state_input_c, decoder_hidden_state_input)\n",
    "# print(decoder_outputs[1])\n",
    "# print(Bidirectional(decoder_lstm))\n",
    "# To predict the next word in the sequence, set the initial states to the states from the previous time step\n",
    "decode_lstm = Bidirectional(decoder_lstm)(dec_emb2)#, \\\n",
    "                                                    #initial_state=[decoder_state_input_h, decoder_state_input_c])\n",
    "decoder_outputs2, forward_h, forward_c, backward_h, backward_c = decode_lstm\n",
    "\n",
    "state_h2 = Concatenate()([forward_h, backward_h])\n",
    "state_c2 = Concatenate()([forward_c, backward_c])\n",
    "\n",
    "\n",
    "\n",
    "#attention inference\n",
    "attn_out_inf, attn_states_inf = attn_layer([decoder_hidden_state_input, decoder_outputs2])\n",
    "decoder_inf_concat = Concatenate(axis=-1, name='concat')([decoder_outputs2, attn_out_inf])\n",
    "\n",
    "# A dense softmax layer to generate prob dist. over the target vocabulary\n",
    "decoder_outputs2 = decoder_dense(decoder_inf_concat) \n",
    "\n",
    "# Final decoder model\n",
    "decoder_model = Model(\n",
    "    [decoder_inputs] + [decoder_hidden_state_input,decoder_state_input_h, decoder_state_input_c],\n",
    "    [decoder_outputs2] + [state_h2, state_c2])\n"
   ]
  },
  {
   "cell_type": "code",
   "execution_count": 102,
   "metadata": {},
   "outputs": [],
   "source": [
    "def decode_sequence(input_seq):\n",
    "    # Encode the input as state vectors.\n",
    "    e_out, e_h, e_c = encoder_model.predict(input_seq)\n",
    "    \n",
    "    # Generate empty target sequence of length 1.\n",
    "    target_seq = np.zeros((1,1))\n",
    "    \n",
    "    # Populate the first word of target sequence with the start word.\n",
    "    target_seq[0, 0] = target_word_index['sostok']\n",
    "\n",
    "    stop_condition = False\n",
    "    decoded_sentence = ''\n",
    "    while not stop_condition:\n",
    "      \n",
    "        output_tokens, h, c = decoder_model.predict([target_seq] + [e_out, e_h, e_c])\n",
    "\n",
    "        # Sample a token\n",
    "        sampled_token_index = np.argmax(output_tokens[0, -1, :])\n",
    "        sampled_token = reverse_target_word_index[sampled_token_index]\n",
    "        \n",
    "        if(sampled_token!='eostok'):\n",
    "            decoded_sentence += ' '+sampled_token\n",
    "\n",
    "        # Exit condition: either hit max length or find stop word.\n",
    "        if (sampled_token == 'eostok'  or len(decoded_sentence.split()) >= (max_summary_len-1)):\n",
    "            stop_condition = True\n",
    "\n",
    "        # Update the target sequence (of length 1).\n",
    "        target_seq = np.zeros((1,1))\n",
    "        target_seq[0, 0] = sampled_token_index\n",
    "\n",
    "        # Update internal states\n",
    "        e_h, e_c = h, c\n",
    "\n",
    "    return decoded_sentence"
   ]
  },
  {
   "cell_type": "code",
   "execution_count": 103,
   "metadata": {},
   "outputs": [],
   "source": [
    "def seq2summary(input_seq):\n",
    "    newString=''\n",
    "    for i in input_seq:\n",
    "        if((i!=0 and i!=target_word_index['sostok']) and i!=target_word_index['eostok']):\n",
    "            newString=newString+reverse_target_word_index[i]+' '\n",
    "    return newString\n",
    "\n",
    "def seq2text(input_seq):\n",
    "    newString=''\n",
    "    for i in input_seq:\n",
    "        if(i!=0):\n",
    "            newString=newString+reverse_source_word_index[i]+' '\n",
    "    return newString"
   ]
  },
  {
   "cell_type": "code",
   "execution_count": 104,
   "metadata": {},
   "outputs": [
    {
     "name": "stdout",
     "output_type": "stream",
     "text": [
      "Review: okay expecting crunchy type dried strawberries maybe missed something reading description also sweet son liked gave aware berries coated sugar \n",
      "Original summary: sugar high \n",
      "Predicted summary:  honestly honestly honestly honestly honestly honestly honestly honestly honestly\n",
      "\n",
      "\n",
      "Review: yeast extract listed ingredient sounds harmless right specifically chips contain autolyzed yeast extract chemical level monosodium glutamate derived different source toxic properties kettle still advertises products containing msg acknowledge chips safe people msg sensitivities \n",
      "Original summary: the organic label is misleading \n",
      "Predicted summary:  honestly honestly honestly honestly honestly honestly honestly honestly honestly\n",
      "\n",
      "\n",
      "Review: loved flowers however error order unable reach live person correct even though wrote email left several voice mails hour order placed still waiting refund order placed error soon battle guess used company past like product able contact anyone change order unsatisfying get promised refund use vendor \n",
      "Original summary: poor customer service \n",
      "Predicted summary:  honestly honestly honestly honestly honestly honestly honestly honestly honestly\n",
      "\n",
      "\n",
      "Review: searched decaf deep flavor great taste coffee barely miss caffeine since brewing glad found via amazon cannot miss brand \n",
      "Original summary: delicious \n",
      "Predicted summary:  honestly honestly honestly honestly honestly honestly honestly honestly honestly\n",
      "\n",
      "\n",
      "Review: started weight watchers realized drinking lot points putting flavored creamers coffee morning found another solution point coffee instead flavored creamer use coffee mate fat free original plus one splenda vanilla packets turns point cup coffee points without losing much flavor previously enjoyed great product wish grocery stores carried \n",
      "Original summary: great low cal sweetener \n",
      "Predicted summary:  honestly honestly honestly honestly honestly honestly honestly honestly honestly\n",
      "\n",
      "\n",
      "Review: green color bit weird funny flavor works taking product improved recovery time like vegan added fiber added bonus get amount protein soy eat mixed almond hemp milk quite drinkable grainy needs mixed well clump like soy protein easy digest added sugar additives protein fiber pretty good mix careful mix mix according directions bottle problems makes good workout snack \n",
      "Original summary: not my favorite but it works \n",
      "Predicted summary:  honestly honestly honestly honestly honestly honestly honestly honestly honestly\n",
      "\n",
      "\n",
      "Review: coffee one smoothest ever purchased use make latte every morning good flavor never bitter like espresso coffee decaf also great \n",
      "Original summary: best espresso coffee ever had \n",
      "Predicted summary:  honestly honestly honestly honestly honestly honestly honestly honestly honestly\n",
      "\n",
      "\n",
      "Review: great product completely get rid hot flashes night sweats seriously reduces number intensity tried everything else thing made difference get reasonable sleep night \n",
      "Original summary: sage tea \n",
      "Predicted summary:  honestly honestly honestly honestly honestly honestly honestly honestly honestly\n",
      "\n",
      "\n",
      "Review: since child fifties drank orange soda mini mug packaged \n",
      "Original summary: the champagne of spicy mustard \n",
      "Predicted summary:  honestly honestly honestly honestly honestly honestly honestly honestly honestly\n",
      "\n",
      "\n",
      "Review: tell fresh piece pop one moth flavor fresh gum soft chew smooth hmm hmm gum heaven \n",
      "Original summary: fresh soft and smooth \n",
      "Predicted summary:  honestly honestly honestly honestly honestly honestly honestly honestly honestly\n",
      "\n",
      "\n",
      "Review: got sodastream birthday comes pack syrup sampler diet syrups regular syrups tried diet caffeine free syrups none come close tasting anything good diet drinks buy grocery store even store brands taste better sodastream diet drinks remind pre nutrasweet sodas used saccharine sweetener use soda stream make seltzer great job experimenting using drink mixes like crystal light work ok disclaimer one folks get bad aftertaste splenda splenda sweetener used diet sodastream drink syrups \n",
      "Original summary: drinks taste like diet soda from the old days \n",
      "Predicted summary:  honestly honestly honestly honestly honestly honestly honestly honestly honestly\n",
      "\n",
      "\n",
      "Review: really delicious earthy herbal tea every cup makes feel warm comfy love definitely repeat order \n",
      "Original summary: earthy and comforting \n",
      "Predicted summary:  honestly honestly honestly honestly honestly honestly honestly honestly honestly\n",
      "\n",
      "\n",
      "Review: good quick cup coffee slightly different flavor blend quite enough really make huge impact taste \n",
      "Original summary: kona blend \n",
      "Predicted summary:  honestly honestly honestly honestly honestly honestly honestly honestly honestly\n",
      "\n",
      "\n",
      "Review: gift helps everyone gave women bean soups dips salsas extended family christmas everyone loved gift simplified shopping felt like helping really need help \n",
      "Original summary: great gift \n",
      "Predicted summary:  honestly honestly honestly honestly honestly honestly honestly honestly honestly\n",
      "\n",
      "\n",
      "Review: cat isabel struggled uti weight issues years vet recommended wet food diet experimented variety brands could never find wet food made isabel feel full spend rest day begging us food tried wellness canned food isabel loves great wellness fills stopped constantly begging food started lose weight dandruff going away longer lethargic started play generally seems like happier cat chronic uti finally cleared give mostly wellness canned food little bit dry food mixed still primary source food happy first made switch \n",
      "Original summary: wellness canned food has been lifesaver for our cat \n",
      "Predicted summary:  doesnt doesnt doesnt doesnt doesnt doesnt doesnt doesnt doesnt\n",
      "\n",
      "\n",
      "Review: love lavazza coffee especially espresso black crema gusto tierra slightly costly though proceeds go worthy cause worth terms flavor like lavazza stronger \n",
      "Original summary: good not great \n",
      "Predicted summary:  honestly honestly honestly honestly honestly honestly honestly honestly honestly\n",
      "\n",
      "\n",
      "Review: meat moist like type beef jerky tried taste fast shipping \n",
      "Original summary: wild ride beef jerky \n",
      "Predicted summary:  honestly honestly honestly honestly honestly honestly honestly honestly honestly\n",
      "\n",
      "\n",
      "Review: great product use pre post workout everything need even fibers tried lot meal replacement one best taste great \n",
      "Original summary: excellent product \n",
      "Predicted summary:  honestly honestly honestly honestly honestly honestly honestly honestly honestly\n",
      "\n",
      "\n",
      "Review: love tea drink every day pour water tea already dark think teabag contains twice amount tea american canadian company teabag opinion perfect \n",
      "Original summary: very strong black tea delicious \n",
      "Predicted summary:  honestly honestly honestly honestly honestly honestly honestly honestly honestly\n",
      "\n",
      "\n",
      "Review: food great cats gotten completely addicted amazon bother mention quantities limited buying food cats months comprises roughly half diet went order repeatedly told problem long story phone calls plus emails later told bought lifetime maximum product ordered almost twice price via marketplace furious amazon nowhere page tell limit tell food great get used buying \n",
      "Original summary: beware amazon limits the total amount you can buy \n",
      "Predicted summary:  doesnt doesnt doesnt doesnt doesnt doesnt doesnt doesnt doesnt\n",
      "\n",
      "\n",
      "Review: hairy kids dogs love rescued dogs cats life compared alot brands happy one \n",
      "Original summary: ms \n",
      "Predicted summary:  caffeinated doesnt doesnt doesnt doesnt doesnt doesnt doesnt doesnt\n",
      "\n",
      "\n",
      "Review: dog loves gets probably per day lb dog use small size reward without feeding note large box good value would guess times many biscuits size box would normally find grocery store twice price \n",
      "Original summary: good value large size box \n",
      "Predicted summary:  doesnt doesnt doesnt doesnt doesnt doesnt doesnt doesnt doesnt\n",
      "\n",
      "\n",
      "Review: jerky recommended nutritionist unlike jerky contains sugar harmful additives tastes great \n",
      "Original summary: healthy snack \n",
      "Predicted summary:  honestly honestly honestly honestly honestly honestly honestly honestly honestly\n",
      "\n",
      "\n",
      "Review: like things product contain company missed one thing good taste jerky almost medicinal type flavor little heat thrown try mask awfulness could disappointed purchase would return amazon cheap pay shipping highly suggest try find brand locally test buying bulk \n",
      "Original summary: good intentions horrible taste \n"
     ]
    },
    {
     "name": "stdout",
     "output_type": "stream",
     "text": [
      "Predicted summary:  honestly honestly honestly honestly honestly honestly honestly honestly honestly\n",
      "\n",
      "\n",
      "Review: best healthy shake ever everyone family loves creamy sweet chocolaty perfect vanilla flavor creamy still tasty bit expensive worth every penny tried shakes like \n",
      "Original summary: best diet shake ever \n",
      "Predicted summary:  honestly honestly honestly honestly honestly honestly honestly honestly honestly\n",
      "\n",
      "\n",
      "Review: disappointed tea taste better liptons yellow label tea expected stash loose tea since good expereience tea bags \n",
      "Original summary: stash darjeeling tea \n",
      "Predicted summary:  honestly honestly honestly honestly honestly honestly honestly honestly honestly\n",
      "\n",
      "\n",
      "Review: horrified find product made china realizing give month old baby liked watch closely pieces easily break dissolve quickly enough choked luckily able cough piece cracker \n",
      "Original summary: made in china choking hazard \n",
      "Predicted summary:  honestly honestly honestly honestly honestly honestly honestly honestly honestly\n",
      "\n",
      "\n",
      "Review: use litter ferrets pretty good soaks odor use multiple ferrets guess problem smell litter strong first use \n",
      "Original summary: great product \n",
      "Predicted summary:  caffeinated doesnt doesnt doesnt doesnt doesnt doesnt doesnt doesnt\n",
      "\n",
      "\n",
      "Review: glad finally see amazon selling fulfilling product buying albertsons lately getting roughly price amazon course pay sales tax get shipped via ups nd day air free since amazon prime member hope amazon lowers price well making one subscribe save products ordered packs lemon chocolate spearmint happy lower around less per bottle would order stuff like crazy hate drinking regular water seriously trying get diet sodas wondering chocolate flavor awesome sounds nasty actually good taste bit like drinking water one green andes candies mouth trying cut even get sweets good water drink actually satisfies sweet cravings \n",
      "Original summary: am so glad to finally see this on amazon \n",
      "Predicted summary:  honestly honestly honestly honestly honestly honestly honestly honestly honestly\n",
      "\n",
      "\n",
      "Review: know dog treat might mistaken piece plastic one kids many toys solid therefore keeps dog busy awhile great loves best part though scent got lovely scent warm spice smell bad crumble ideal popping pocket way dog \n",
      "Original summary: bella says yum \n",
      "Predicted summary:  doesnt doesnt doesnt doesnt doesnt doesnt doesnt doesnt doesnt\n",
      "\n",
      "\n",
      "Review: beans hard impossible find usa alfa brand bean directly greece fantastic product \n",
      "Original summary: greek giant beans \n",
      "Predicted summary:  honestly honestly honestly honestly honestly honestly honestly honestly honestly\n",
      "\n",
      "\n",
      "Review: good flavor stronger expected first gulp much better newman also good warm kahlua clod night \n",
      "Original summary: very bold \n",
      "Predicted summary:  honestly honestly honestly honestly honestly honestly honestly honestly honestly\n",
      "\n",
      "\n",
      "Review: opened carton found packets consisting clear packet containing described pasta similarity orzo paper packet labeled type seasoning silver foil packet held cheese another paper packet marked broccoli misnomer contents clearly appeared sawdust green shingle chicken much truth advertising actually broccoli either sawdust apparently swept floor went publix bought chicken followed instructions back box course add sawdust adding cheese tried sample edible much flavor ok great shakes reason three stars added ro tel diced tomatoes green chiles topped favorite seasonings crumbled publix saltines result much improved meal significantly improved taste actually cannot see reason buying product would better buy orzo chicken favorite type cheese likely seasonings already want add brocolli buy fresh steam minutes throw mix add whatever imagination taste buds find pleasurable far superior meal \n",
      "Original summary: needs help \n",
      "Predicted summary:  honestly honestly honestly honestly honestly honestly honestly honestly honestly\n",
      "\n",
      "\n",
      "Review: love sooo delicious even better healing properties like oral tea tree oil cool altho consider one important medicinal things take day actually tsp morning night keep us healthy also protected bugs going around inside amazing used band aid like hold mouth swish around even gargle little swallowing savor flavor work anti germ viral magic mucous membranes also gets absorbed faster way friend mine mixes unique honey braggs apple cider vinegar part ultimate health strategy thank airborne amazon person purchased repeat customer long available think would make excellent unique christmas gift \n",
      "Original summary: the most awesome honey ever \n",
      "Predicted summary:  honestly honestly honestly honestly honestly honestly honestly honestly honestly\n",
      "\n",
      "\n",
      "Review: good oil decent price want spend bit also like colavita extra virgin olive oil around always use subscription stop whenever want \n",
      "Original summary: good oil \n",
      "Predicted summary:  honestly honestly honestly honestly honestly honestly honestly honestly honestly\n",
      "\n",
      "\n",
      "Review: water refreshing chilled refrigerator however tendency carry bottle til gone means might minutes perhaps hours care water room temperature metallic taste however considering benefits ph balance probably still buy small bottles \n",
      "Original summary: refreshing as long as its cold \n",
      "Predicted summary:  honestly honestly honestly honestly honestly honestly honestly honestly honestly\n",
      "\n",
      "\n",
      "Review: review regarding cookie price set seller cookie fantastic perfect little treat three cookies calories since trying watch weight eat one calories perfect times need something sugary chocolately eat one blow entire day dieting yum yum \n",
      "Original summary: yummy little treat \n",
      "Predicted summary:  honestly honestly honestly honestly honestly honestly honestly honestly honestly\n",
      "\n",
      "\n",
      "Review: always enjoyed international coffee line made nice treat holidays wanted cup coffee want brew whole pot right amount peppermint flavor overwhelm coffee \n",
      "Original summary: nice little treat \n",
      "Predicted summary:  honestly honestly honestly honestly honestly honestly honestly honestly honestly\n",
      "\n",
      "\n",
      "Review: like others said description states quantity receive big rip order cups amazon anymore buyer beware \n",
      "Original summary: rip off \n",
      "Predicted summary:  caffeinated caffeinated caffeinated caffeinated caffeinated caffeinated caffeinated caffeinated caffeinated\n",
      "\n",
      "\n",
      "Review: ordered bags arrived full worms bags would order \n",
      "Original summary: full of worms \n",
      "Predicted summary:  honestly honestly honestly honestly honestly honestly honestly honestly honestly\n",
      "\n",
      "\n",
      "Review: use food two welsh corgis one food allergies cannot chicken slightly sensitive stomach non baked version work food half inch diameter forces chew rather gulp like tend like even smaller dogs love think better grade non super premium foods without hype skin coats perfect food regular order list \n",
      "Original summary: great stuff hard to find in stores \n",
      "Predicted summary:  caffeinated caffeinated caffeinated caffeinated caffeinated caffeinated caffeinated caffeinated caffeinated\n",
      "\n",
      "\n",
      "Review: ordered eden organic pinto beans ounce boxes eden organic black beans ounce boxes quality beans great opinion course love organic another reviewer said thought beans date thought date contacting company though edenfoods com found dates confusing packaging saw best de figured expired december customer service representative contacted said first two digits represent year meaning beans good december good know contact edenfoods com responded quickly answer within half day buying \n",
      "Original summary: eden organic beans \n",
      "Predicted summary:  honestly honestly honestly honestly honestly honestly honestly honestly honestly\n",
      "\n",
      "\n",
      "Review: decaf tea excellent best ever found love pg tips decaf good regular \n",
      "Original summary: best decaf tea \n",
      "Predicted summary:  honestly honestly honestly honestly honestly honestly honestly honestly honestly\n",
      "\n",
      "\n",
      "Review: bought work since charge keeping candy dish full love cant beat price fav reds much better get co workers happy buy candy every week month none candies stale bags expire another year amazon saved day \n",
      "Original summary: umm yes \n",
      "Predicted summary:  honestly honestly honestly honestly honestly honestly honestly honestly honestly\n",
      "\n",
      "\n",
      "Review: disappointed flavor lack therof stash usually dependable products real letdown \n",
      "Original summary: not great \n"
     ]
    },
    {
     "name": "stdout",
     "output_type": "stream",
     "text": [
      "Predicted summary:  honestly honestly honestly honestly honestly honestly honestly honestly honestly\n",
      "\n",
      "\n",
      "Review: picture shows old package coffee could find anywhere reason made order dissapointed receive diffent jars turned product \n",
      "Original summary: new package the same taste \n",
      "Predicted summary:  honestly honestly honestly honestly honestly honestly honestly honestly honestly\n",
      "\n",
      "\n",
      "Review: learned product friends loved later visited winery college station texas used wine tasting also sold aerator tower holds aerator researched product although different ones claim serve purpose venturi seems best job probably winery prefers make wines taste even better people purchasing frequently winery impressed improvement wine flavor trying without tasting getting whole set price tax free amazon made love even \n",
      "Original summary: amazing product \n",
      "Predicted summary:  honestly honestly honestly honestly honestly honestly honestly honestly honestly\n",
      "\n",
      "\n",
      "Review: bars perfect grab go morning afternoon addition lunch crunchy hint sweetness cranberries tried flavors intend give shot low carb option bar \n",
      "Original summary: great for breakfast or snack \n",
      "Predicted summary:  honestly honestly honestly honestly honestly honestly honestly honestly honestly\n",
      "\n",
      "\n",
      "Review: wanting switch dog onto different type chew treat found vegetables keep gi tract good order made usa loves break small inches pieces give day last long rawhide fiber great give doggie heimlich maneuvers choking since made switch going try products company \n",
      "Original summary: chihuahua loves them \n",
      "Predicted summary:  caffeinated doesnt doesnt doesnt doesnt doesnt doesnt doesnt doesnt\n",
      "\n",
      "\n",
      "Review: coffee starbucks brand natural fusions vanilla ground coffee smells incredible open bag even better coffee brewing coffee done brewing entire house smelled like inside starbucks coffee store excellent taste taste something disappointment coffee definite bitter edge vanilla aspect extremely light definitely overpowered bitterness going house party would probably brew coffee way smells creates great party like atmosphere day day coffee drinking enjoyment starbucks natural fusions ground coffee vanilla flavored probably live expectations gourmet coffee drinkers \n",
      "Original summary: smells great tastes bitter disappointing \n",
      "Predicted summary:  honestly honestly honestly honestly honestly honestly honestly honestly honestly\n",
      "\n",
      "\n",
      "Review: seller delivery really slow cannot track still arrive two weeks know product turkey specific gum green tea flavor also find falim gum without flavor product also free sugar products wonder gum tastes gum love us canada actually chewing plastics sugar real gum strongly advise turkish product name means fortune every single gum wrapped paper tells fortune fun turkish \n",
      "Original summary: this is turkish gum with green tea flavor \n",
      "Predicted summary:  honestly honestly honestly honestly honestly honestly honestly honestly honestly\n",
      "\n",
      "\n",
      "Review: could get around place got amazon sugar sweet got taste chewy texture beyond great never liked mango definitely something go \n",
      "Original summary: perhaps \n",
      "Predicted summary:  honestly honestly honestly honestly honestly honestly honestly honestly honestly\n",
      "\n",
      "\n",
      "Review: roasted coconut chips absolutely fabulous nice little snack treat creamy taste crispy texture true coconut flavor preservatives \n",
      "Original summary: roasted coconut chips \n",
      "Predicted summary:  honestly honestly honestly honestly honestly honestly honestly honestly honestly\n",
      "\n",
      "\n",
      "Review: brew bunn mc coffee pod brewer think good flavor say decaf would know also keurig buying many kcups outrageous prices although use solofill keurig alternate pod coffee kcups bag coffee use solofill adapter cannot understand people realize pods cups two different things pods fit kcup device unless pod holster use like bunn cafe coffee worth try want decent decaf \n",
      "Original summary: would not know it is decaf \n",
      "Predicted summary:  honestly honestly honestly honestly honestly honestly honestly honestly honestly\n",
      "\n",
      "\n",
      "Review: father law recommended get flax seed mill part healthier nutritious diet ordered flax seed mill noticed muffin recipe back wanted try especially wonderful reviews one problem gotten oat bran ordered tried muffin recipe whoa absolutely fantastic tried hot cereal adding tbsp flax seed mill dash salt chopped walnuts frozen blueberries touch maple syrup stuff tasty bowl breakfast maybe bowl lunch light filling without making full rest assured knowing getting fiber need day keeps regular cholesterol check happy gal \n",
      "Original summary: cannot be without this \n",
      "Predicted summary:  honestly honestly honestly honestly honestly honestly honestly honestly honestly\n",
      "\n",
      "\n",
      "Review: nuts great little small tasty arrived days ordered soooo much cheaper market \n",
      "Original summary: nuts \n",
      "Predicted summary:  honestly honestly honestly honestly honestly honestly honestly honestly honestly\n",
      "\n",
      "\n",
      "Review: jerky recommended nutritionist unlike jerky contains sugar harmful additives tastes great \n",
      "Original summary: healthy snack \n",
      "Predicted summary:  honestly honestly honestly honestly honestly honestly honestly honestly honestly\n",
      "\n",
      "\n",
      "Review: breast cancer survivor aware organic foods drinks paul newman products among favorites \n",
      "Original summary: organic coffee \n",
      "Predicted summary:  honestly honestly honestly honestly honestly honestly honestly honestly honestly\n",
      "\n",
      "\n",
      "Review: pretty big fan traditional tea figured would green tea mango pieces later found reading ingredients herbs like chamomile rose hips etc tea taste horrible thought box sort misleading amazon community aware additions \n",
      "Original summary: not just green tea and mango \n",
      "Predicted summary:  honestly honestly honestly honestly honestly honestly honestly honestly honestly\n",
      "\n",
      "\n",
      "Review: bought one stash teas remember one contained gluten gluten intolerant never expected tea contain gluten reason tea contain gluten celiacs beware \n",
      "Original summary: gluten in tea \n",
      "Predicted summary:  caffeinated caffeinated caffeinated caffeinated caffeinated caffeinated caffeinated caffeinated caffeinated\n",
      "\n",
      "\n",
      "Review: yeast made mexico use date got realized could purchased pouches going send back postage figured might well keep try seems work well also ordered pack \n",
      "Original summary: extremely overpriced \n",
      "Predicted summary:  honestly honestly honestly honestly honestly honestly honestly honestly honestly\n",
      "\n",
      "\n",
      "Review: far favorite hot sauce date weird reason still prefer original tabasco eggs anything else want spice gets breakfast items feel heavy vinegar saturating hot sauces drown lot flavor enhances without covering flavor actually adding natural flavor sauce second nothing ever tried sure little kick immune endless bottles consumed looking try new sauce flavor heat definitely give try nice kick connoisseur type sauce looking laugh buddies pleasant kick full amazing flavors market new sauce flavor need give shot favorite far highly doubt regret purchase guess back \n",
      "Original summary: top of my list \n",
      "Predicted summary:  honestly honestly honestly honestly honestly honestly honestly honestly honestly\n",
      "\n",
      "\n",
      "Review: best quality real tic tac best flavor huge help weight loss ever immediate shipping affordable price real product back definitely \n",
      "Original summary: the real one \n",
      "Predicted summary:  honestly honestly honestly honestly honestly honestly honestly honestly honestly\n",
      "\n",
      "\n",
      "Review: pleased packaging prompt delivery however every single package empty coffee inside broken seals holes nicely sealed empty cups would like coffee coffee \n",
      "Original summary: order arrived promptly filled with empty cups \n",
      "Predicted summary:  honestly honestly honestly honestly honestly honestly honestly honestly honestly\n",
      "\n",
      "\n",
      "Review: using pearl barley inferior old batch product denmark maybe soil godd usa arrowhead much much better pearl barley product little flavor says producto denmark packed isreal like drinking dishwater would hate anyone new barley buy product flavor diluted biologist experience buy brand arrowhead barley good try huled lb bags make barley water drink first thing huled barley higher percent vitamins minerals barley good prevent uti helps acid refulx try drinking water lower th ph stomach leave lemon juice others add see make utube soak overnight boil mins strain put barley aside keep barley water store pitcher refrigerator make quarts time explored product listening oz time ago cheap health food save many people lot cost pain acid reflux \n",
      "Original summary: pearl barley \n"
     ]
    },
    {
     "name": "stdout",
     "output_type": "stream",
     "text": [
      "Predicted summary:  honestly honestly honestly honestly honestly honestly honestly honestly honestly\n",
      "\n",
      "\n",
      "Review: quote keeps getting funnier every single time see put good use say watch movie say tim burton cannot stop good movies least top best comedies time twisted funny swear watch film get one laugh probably give chance course beetlejuice one famous movie history way go tim \n",
      "Original summary: it is showtime \n",
      "Predicted summary:  honestly honestly honestly honestly honestly honestly honestly honestly honestly\n",
      "\n",
      "\n",
      "Review: doctor told lose weight going insulin months desperately looking healthy food choices worried much taste calories per calories fat mg sodium protein whopping fiber cans fit bill yes great flavor mixed cooked quinoa brown rice added tuna sardines good \n",
      "Original summary: low salt and healthy \n",
      "Predicted summary:  honestly honestly honestly honestly honestly honestly honestly honestly honestly\n",
      "\n",
      "\n",
      "Review: bones great compressed rawhide lasts much longer rawhides making great powerful chewers love buying bulk like buy individually usually around \n",
      "Original summary: great value \n"
     ]
    },
    {
     "ename": "KeyboardInterrupt",
     "evalue": "",
     "output_type": "error",
     "traceback": [
      "\u001b[0;31m---------------------------------------------------------------------------\u001b[0m",
      "\u001b[0;31mKeyboardInterrupt\u001b[0m                         Traceback (most recent call last)",
      "\u001b[0;32m<ipython-input-104-0456c4d1c418>\u001b[0m in \u001b[0;36m<module>\u001b[0;34m\u001b[0m\n\u001b[1;32m      2\u001b[0m     \u001b[0mprint\u001b[0m\u001b[0;34m(\u001b[0m\u001b[0;34m\"Review:\"\u001b[0m\u001b[0;34m,\u001b[0m\u001b[0mseq2text\u001b[0m\u001b[0;34m(\u001b[0m\u001b[0mx_train\u001b[0m\u001b[0;34m[\u001b[0m\u001b[0mi\u001b[0m\u001b[0;34m]\u001b[0m\u001b[0;34m)\u001b[0m\u001b[0;34m)\u001b[0m\u001b[0;34m\u001b[0m\u001b[0;34m\u001b[0m\u001b[0m\n\u001b[1;32m      3\u001b[0m     \u001b[0mprint\u001b[0m\u001b[0;34m(\u001b[0m\u001b[0;34m\"Original summary:\"\u001b[0m\u001b[0;34m,\u001b[0m\u001b[0mseq2summary\u001b[0m\u001b[0;34m(\u001b[0m\u001b[0my_train\u001b[0m\u001b[0;34m[\u001b[0m\u001b[0mi\u001b[0m\u001b[0;34m]\u001b[0m\u001b[0;34m)\u001b[0m\u001b[0;34m)\u001b[0m\u001b[0;34m\u001b[0m\u001b[0;34m\u001b[0m\u001b[0m\n\u001b[0;32m----> 4\u001b[0;31m     \u001b[0mprint\u001b[0m\u001b[0;34m(\u001b[0m\u001b[0;34m\"Predicted summary:\"\u001b[0m\u001b[0;34m,\u001b[0m\u001b[0mdecode_sequence\u001b[0m\u001b[0;34m(\u001b[0m\u001b[0mx_train\u001b[0m\u001b[0;34m[\u001b[0m\u001b[0mi\u001b[0m\u001b[0;34m]\u001b[0m\u001b[0;34m.\u001b[0m\u001b[0mreshape\u001b[0m\u001b[0;34m(\u001b[0m\u001b[0;36m1\u001b[0m\u001b[0;34m,\u001b[0m\u001b[0mmax_text_len\u001b[0m\u001b[0;34m)\u001b[0m\u001b[0;34m)\u001b[0m\u001b[0;34m)\u001b[0m\u001b[0;34m\u001b[0m\u001b[0;34m\u001b[0m\u001b[0m\n\u001b[0m\u001b[1;32m      5\u001b[0m     \u001b[0mprint\u001b[0m\u001b[0;34m(\u001b[0m\u001b[0;34m\"\\n\"\u001b[0m\u001b[0;34m)\u001b[0m\u001b[0;34m\u001b[0m\u001b[0;34m\u001b[0m\u001b[0m\n",
      "\u001b[0;32m<ipython-input-102-219f1da445c8>\u001b[0m in \u001b[0;36mdecode_sequence\u001b[0;34m(input_seq)\u001b[0m\n\u001b[1;32m      1\u001b[0m \u001b[0;32mdef\u001b[0m \u001b[0mdecode_sequence\u001b[0m\u001b[0;34m(\u001b[0m\u001b[0minput_seq\u001b[0m\u001b[0;34m)\u001b[0m\u001b[0;34m:\u001b[0m\u001b[0;34m\u001b[0m\u001b[0;34m\u001b[0m\u001b[0m\n\u001b[1;32m      2\u001b[0m     \u001b[0;31m# Encode the input as state vectors.\u001b[0m\u001b[0;34m\u001b[0m\u001b[0;34m\u001b[0m\u001b[0;34m\u001b[0m\u001b[0m\n\u001b[0;32m----> 3\u001b[0;31m     \u001b[0me_out\u001b[0m\u001b[0;34m,\u001b[0m \u001b[0me_h\u001b[0m\u001b[0;34m,\u001b[0m \u001b[0me_c\u001b[0m \u001b[0;34m=\u001b[0m \u001b[0mencoder_model\u001b[0m\u001b[0;34m.\u001b[0m\u001b[0mpredict\u001b[0m\u001b[0;34m(\u001b[0m\u001b[0minput_seq\u001b[0m\u001b[0;34m)\u001b[0m\u001b[0;34m\u001b[0m\u001b[0;34m\u001b[0m\u001b[0m\n\u001b[0m\u001b[1;32m      4\u001b[0m \u001b[0;34m\u001b[0m\u001b[0m\n\u001b[1;32m      5\u001b[0m     \u001b[0;31m# Generate empty target sequence of length 1.\u001b[0m\u001b[0;34m\u001b[0m\u001b[0;34m\u001b[0m\u001b[0;34m\u001b[0m\u001b[0m\n",
      "\u001b[0;32m~/anaconda3/envs/chollet/lib/python3.6/site-packages/tensorflow_core/python/keras/engine/training.py\u001b[0m in \u001b[0;36mpredict\u001b[0;34m(self, x, batch_size, verbose, steps, callbacks, max_queue_size, workers, use_multiprocessing)\u001b[0m\n\u001b[1;32m   1011\u001b[0m         \u001b[0mmax_queue_size\u001b[0m\u001b[0;34m=\u001b[0m\u001b[0mmax_queue_size\u001b[0m\u001b[0;34m,\u001b[0m\u001b[0;34m\u001b[0m\u001b[0;34m\u001b[0m\u001b[0m\n\u001b[1;32m   1012\u001b[0m         \u001b[0mworkers\u001b[0m\u001b[0;34m=\u001b[0m\u001b[0mworkers\u001b[0m\u001b[0;34m,\u001b[0m\u001b[0;34m\u001b[0m\u001b[0;34m\u001b[0m\u001b[0m\n\u001b[0;32m-> 1013\u001b[0;31m         use_multiprocessing=use_multiprocessing)\n\u001b[0m\u001b[1;32m   1014\u001b[0m \u001b[0;34m\u001b[0m\u001b[0m\n\u001b[1;32m   1015\u001b[0m   \u001b[0;32mdef\u001b[0m \u001b[0mreset_metrics\u001b[0m\u001b[0;34m(\u001b[0m\u001b[0mself\u001b[0m\u001b[0;34m)\u001b[0m\u001b[0;34m:\u001b[0m\u001b[0;34m\u001b[0m\u001b[0;34m\u001b[0m\u001b[0m\n",
      "\u001b[0;32m~/anaconda3/envs/chollet/lib/python3.6/site-packages/tensorflow_core/python/keras/engine/training_v2.py\u001b[0m in \u001b[0;36mpredict\u001b[0;34m(self, model, x, batch_size, verbose, steps, callbacks, max_queue_size, workers, use_multiprocessing, **kwargs)\u001b[0m\n\u001b[1;32m    496\u001b[0m         \u001b[0mmodel\u001b[0m\u001b[0;34m,\u001b[0m \u001b[0mModeKeys\u001b[0m\u001b[0;34m.\u001b[0m\u001b[0mPREDICT\u001b[0m\u001b[0;34m,\u001b[0m \u001b[0mx\u001b[0m\u001b[0;34m=\u001b[0m\u001b[0mx\u001b[0m\u001b[0;34m,\u001b[0m \u001b[0mbatch_size\u001b[0m\u001b[0;34m=\u001b[0m\u001b[0mbatch_size\u001b[0m\u001b[0;34m,\u001b[0m \u001b[0mverbose\u001b[0m\u001b[0;34m=\u001b[0m\u001b[0mverbose\u001b[0m\u001b[0;34m,\u001b[0m\u001b[0;34m\u001b[0m\u001b[0;34m\u001b[0m\u001b[0m\n\u001b[1;32m    497\u001b[0m         \u001b[0msteps\u001b[0m\u001b[0;34m=\u001b[0m\u001b[0msteps\u001b[0m\u001b[0;34m,\u001b[0m \u001b[0mcallbacks\u001b[0m\u001b[0;34m=\u001b[0m\u001b[0mcallbacks\u001b[0m\u001b[0;34m,\u001b[0m \u001b[0mmax_queue_size\u001b[0m\u001b[0;34m=\u001b[0m\u001b[0mmax_queue_size\u001b[0m\u001b[0;34m,\u001b[0m\u001b[0;34m\u001b[0m\u001b[0;34m\u001b[0m\u001b[0m\n\u001b[0;32m--> 498\u001b[0;31m         workers=workers, use_multiprocessing=use_multiprocessing, **kwargs)\n\u001b[0m\u001b[1;32m    499\u001b[0m \u001b[0;34m\u001b[0m\u001b[0m\n\u001b[1;32m    500\u001b[0m \u001b[0;34m\u001b[0m\u001b[0m\n",
      "\u001b[0;32m~/anaconda3/envs/chollet/lib/python3.6/site-packages/tensorflow_core/python/keras/engine/training_v2.py\u001b[0m in \u001b[0;36m_model_iteration\u001b[0;34m(self, model, mode, x, y, batch_size, verbose, sample_weight, steps, callbacks, max_queue_size, workers, use_multiprocessing, **kwargs)\u001b[0m\n\u001b[1;32m    473\u001b[0m               \u001b[0mmode\u001b[0m\u001b[0;34m=\u001b[0m\u001b[0mmode\u001b[0m\u001b[0;34m,\u001b[0m\u001b[0;34m\u001b[0m\u001b[0;34m\u001b[0m\u001b[0m\n\u001b[1;32m    474\u001b[0m               \u001b[0mtraining_context\u001b[0m\u001b[0;34m=\u001b[0m\u001b[0mtraining_context\u001b[0m\u001b[0;34m,\u001b[0m\u001b[0;34m\u001b[0m\u001b[0;34m\u001b[0m\u001b[0m\n\u001b[0;32m--> 475\u001b[0;31m               total_epochs=1)\n\u001b[0m\u001b[1;32m    476\u001b[0m           \u001b[0mcbks\u001b[0m\u001b[0;34m.\u001b[0m\u001b[0mmake_logs\u001b[0m\u001b[0;34m(\u001b[0m\u001b[0mmodel\u001b[0m\u001b[0;34m,\u001b[0m \u001b[0mepoch_logs\u001b[0m\u001b[0;34m,\u001b[0m \u001b[0mresult\u001b[0m\u001b[0;34m,\u001b[0m \u001b[0mmode\u001b[0m\u001b[0;34m)\u001b[0m\u001b[0;34m\u001b[0m\u001b[0;34m\u001b[0m\u001b[0m\n\u001b[1;32m    477\u001b[0m \u001b[0;34m\u001b[0m\u001b[0m\n",
      "\u001b[0;32m~/anaconda3/envs/chollet/lib/python3.6/site-packages/tensorflow_core/python/keras/engine/training_v2.py\u001b[0m in \u001b[0;36mrun_one_epoch\u001b[0;34m(model, iterator, execution_function, dataset_size, batch_size, strategy, steps_per_epoch, num_samples, mode, training_context, total_epochs)\u001b[0m\n\u001b[1;32m    126\u001b[0m         step=step, mode=mode, size=current_batch_size) as batch_logs:\n\u001b[1;32m    127\u001b[0m       \u001b[0;32mtry\u001b[0m\u001b[0;34m:\u001b[0m\u001b[0;34m\u001b[0m\u001b[0;34m\u001b[0m\u001b[0m\n\u001b[0;32m--> 128\u001b[0;31m         \u001b[0mbatch_outs\u001b[0m \u001b[0;34m=\u001b[0m \u001b[0mexecution_function\u001b[0m\u001b[0;34m(\u001b[0m\u001b[0miterator\u001b[0m\u001b[0;34m)\u001b[0m\u001b[0;34m\u001b[0m\u001b[0;34m\u001b[0m\u001b[0m\n\u001b[0m\u001b[1;32m    129\u001b[0m       \u001b[0;32mexcept\u001b[0m \u001b[0;34m(\u001b[0m\u001b[0mStopIteration\u001b[0m\u001b[0;34m,\u001b[0m \u001b[0merrors\u001b[0m\u001b[0;34m.\u001b[0m\u001b[0mOutOfRangeError\u001b[0m\u001b[0;34m)\u001b[0m\u001b[0;34m:\u001b[0m\u001b[0;34m\u001b[0m\u001b[0;34m\u001b[0m\u001b[0m\n\u001b[1;32m    130\u001b[0m         \u001b[0;31m# TODO(kaftan): File bug about tf function and errors.OutOfRangeError?\u001b[0m\u001b[0;34m\u001b[0m\u001b[0;34m\u001b[0m\u001b[0;34m\u001b[0m\u001b[0m\n",
      "\u001b[0;32m~/anaconda3/envs/chollet/lib/python3.6/site-packages/tensorflow_core/python/keras/engine/training_v2_utils.py\u001b[0m in \u001b[0;36mexecution_function\u001b[0;34m(input_fn)\u001b[0m\n\u001b[1;32m     96\u001b[0m     \u001b[0;31m# `numpy` translates Tensors to values in Eager mode.\u001b[0m\u001b[0;34m\u001b[0m\u001b[0;34m\u001b[0m\u001b[0;34m\u001b[0m\u001b[0m\n\u001b[1;32m     97\u001b[0m     return nest.map_structure(_non_none_constant_value,\n\u001b[0;32m---> 98\u001b[0;31m                               distributed_function(input_fn))\n\u001b[0m\u001b[1;32m     99\u001b[0m \u001b[0;34m\u001b[0m\u001b[0m\n\u001b[1;32m    100\u001b[0m   \u001b[0;32mreturn\u001b[0m \u001b[0mexecution_function\u001b[0m\u001b[0;34m\u001b[0m\u001b[0;34m\u001b[0m\u001b[0m\n",
      "\u001b[0;32m~/anaconda3/envs/chollet/lib/python3.6/site-packages/tensorflow_core/python/eager/def_function.py\u001b[0m in \u001b[0;36m__call__\u001b[0;34m(self, *args, **kwds)\u001b[0m\n\u001b[1;32m    566\u001b[0m         \u001b[0mxla_context\u001b[0m\u001b[0;34m.\u001b[0m\u001b[0mExit\u001b[0m\u001b[0;34m(\u001b[0m\u001b[0;34m)\u001b[0m\u001b[0;34m\u001b[0m\u001b[0;34m\u001b[0m\u001b[0m\n\u001b[1;32m    567\u001b[0m     \u001b[0;32melse\u001b[0m\u001b[0;34m:\u001b[0m\u001b[0;34m\u001b[0m\u001b[0;34m\u001b[0m\u001b[0m\n\u001b[0;32m--> 568\u001b[0;31m       \u001b[0mresult\u001b[0m \u001b[0;34m=\u001b[0m \u001b[0mself\u001b[0m\u001b[0;34m.\u001b[0m\u001b[0m_call\u001b[0m\u001b[0;34m(\u001b[0m\u001b[0;34m*\u001b[0m\u001b[0margs\u001b[0m\u001b[0;34m,\u001b[0m \u001b[0;34m**\u001b[0m\u001b[0mkwds\u001b[0m\u001b[0;34m)\u001b[0m\u001b[0;34m\u001b[0m\u001b[0;34m\u001b[0m\u001b[0m\n\u001b[0m\u001b[1;32m    569\u001b[0m \u001b[0;34m\u001b[0m\u001b[0m\n\u001b[1;32m    570\u001b[0m     \u001b[0;32mif\u001b[0m \u001b[0mtracing_count\u001b[0m \u001b[0;34m==\u001b[0m \u001b[0mself\u001b[0m\u001b[0;34m.\u001b[0m\u001b[0m_get_tracing_count\u001b[0m\u001b[0;34m(\u001b[0m\u001b[0;34m)\u001b[0m\u001b[0;34m:\u001b[0m\u001b[0;34m\u001b[0m\u001b[0;34m\u001b[0m\u001b[0m\n",
      "\u001b[0;32m~/anaconda3/envs/chollet/lib/python3.6/site-packages/tensorflow_core/python/eager/def_function.py\u001b[0m in \u001b[0;36m_call\u001b[0;34m(self, *args, **kwds)\u001b[0m\n\u001b[1;32m    604\u001b[0m       \u001b[0;31m# In this case we have not created variables on the first call. So we can\u001b[0m\u001b[0;34m\u001b[0m\u001b[0;34m\u001b[0m\u001b[0;34m\u001b[0m\u001b[0m\n\u001b[1;32m    605\u001b[0m       \u001b[0;31m# run the first trace but we should fail if variables are created.\u001b[0m\u001b[0;34m\u001b[0m\u001b[0;34m\u001b[0m\u001b[0;34m\u001b[0m\u001b[0m\n\u001b[0;32m--> 606\u001b[0;31m       \u001b[0mresults\u001b[0m \u001b[0;34m=\u001b[0m \u001b[0mself\u001b[0m\u001b[0;34m.\u001b[0m\u001b[0m_stateful_fn\u001b[0m\u001b[0;34m(\u001b[0m\u001b[0;34m*\u001b[0m\u001b[0margs\u001b[0m\u001b[0;34m,\u001b[0m \u001b[0;34m**\u001b[0m\u001b[0mkwds\u001b[0m\u001b[0;34m)\u001b[0m\u001b[0;34m\u001b[0m\u001b[0;34m\u001b[0m\u001b[0m\n\u001b[0m\u001b[1;32m    607\u001b[0m       \u001b[0;32mif\u001b[0m \u001b[0mself\u001b[0m\u001b[0;34m.\u001b[0m\u001b[0m_created_variables\u001b[0m\u001b[0;34m:\u001b[0m\u001b[0;34m\u001b[0m\u001b[0;34m\u001b[0m\u001b[0m\n\u001b[1;32m    608\u001b[0m         raise ValueError(\"Creating variables on a non-first call to a function\"\n",
      "\u001b[0;32m~/anaconda3/envs/chollet/lib/python3.6/site-packages/tensorflow_core/python/eager/function.py\u001b[0m in \u001b[0;36m__call__\u001b[0;34m(self, *args, **kwargs)\u001b[0m\n\u001b[1;32m   2361\u001b[0m     \u001b[0;32mwith\u001b[0m \u001b[0mself\u001b[0m\u001b[0;34m.\u001b[0m\u001b[0m_lock\u001b[0m\u001b[0;34m:\u001b[0m\u001b[0;34m\u001b[0m\u001b[0;34m\u001b[0m\u001b[0m\n\u001b[1;32m   2362\u001b[0m       \u001b[0mgraph_function\u001b[0m\u001b[0;34m,\u001b[0m \u001b[0margs\u001b[0m\u001b[0;34m,\u001b[0m \u001b[0mkwargs\u001b[0m \u001b[0;34m=\u001b[0m \u001b[0mself\u001b[0m\u001b[0;34m.\u001b[0m\u001b[0m_maybe_define_function\u001b[0m\u001b[0;34m(\u001b[0m\u001b[0margs\u001b[0m\u001b[0;34m,\u001b[0m \u001b[0mkwargs\u001b[0m\u001b[0;34m)\u001b[0m\u001b[0;34m\u001b[0m\u001b[0;34m\u001b[0m\u001b[0m\n\u001b[0;32m-> 2363\u001b[0;31m     \u001b[0;32mreturn\u001b[0m \u001b[0mgraph_function\u001b[0m\u001b[0;34m.\u001b[0m\u001b[0m_filtered_call\u001b[0m\u001b[0;34m(\u001b[0m\u001b[0margs\u001b[0m\u001b[0;34m,\u001b[0m \u001b[0mkwargs\u001b[0m\u001b[0;34m)\u001b[0m  \u001b[0;31m# pylint: disable=protected-access\u001b[0m\u001b[0;34m\u001b[0m\u001b[0;34m\u001b[0m\u001b[0m\n\u001b[0m\u001b[1;32m   2364\u001b[0m \u001b[0;34m\u001b[0m\u001b[0m\n\u001b[1;32m   2365\u001b[0m   \u001b[0;34m@\u001b[0m\u001b[0mproperty\u001b[0m\u001b[0;34m\u001b[0m\u001b[0;34m\u001b[0m\u001b[0m\n",
      "\u001b[0;32m~/anaconda3/envs/chollet/lib/python3.6/site-packages/tensorflow_core/python/eager/function.py\u001b[0m in \u001b[0;36m_filtered_call\u001b[0;34m(self, args, kwargs)\u001b[0m\n\u001b[1;32m   1609\u001b[0m          if isinstance(t, (ops.Tensor,\n\u001b[1;32m   1610\u001b[0m                            resource_variable_ops.BaseResourceVariable))),\n\u001b[0;32m-> 1611\u001b[0;31m         self.captured_inputs)\n\u001b[0m\u001b[1;32m   1612\u001b[0m \u001b[0;34m\u001b[0m\u001b[0m\n\u001b[1;32m   1613\u001b[0m   \u001b[0;32mdef\u001b[0m \u001b[0m_call_flat\u001b[0m\u001b[0;34m(\u001b[0m\u001b[0mself\u001b[0m\u001b[0;34m,\u001b[0m \u001b[0margs\u001b[0m\u001b[0;34m,\u001b[0m \u001b[0mcaptured_inputs\u001b[0m\u001b[0;34m,\u001b[0m \u001b[0mcancellation_manager\u001b[0m\u001b[0;34m=\u001b[0m\u001b[0;32mNone\u001b[0m\u001b[0;34m)\u001b[0m\u001b[0;34m:\u001b[0m\u001b[0;34m\u001b[0m\u001b[0;34m\u001b[0m\u001b[0m\n",
      "\u001b[0;32m~/anaconda3/envs/chollet/lib/python3.6/site-packages/tensorflow_core/python/eager/function.py\u001b[0m in \u001b[0;36m_call_flat\u001b[0;34m(self, args, captured_inputs, cancellation_manager)\u001b[0m\n\u001b[1;32m   1690\u001b[0m       \u001b[0;31m# No tape is watching; skip to running the function.\u001b[0m\u001b[0;34m\u001b[0m\u001b[0;34m\u001b[0m\u001b[0;34m\u001b[0m\u001b[0m\n\u001b[1;32m   1691\u001b[0m       return self._build_call_outputs(self._inference_function.call(\n\u001b[0;32m-> 1692\u001b[0;31m           ctx, args, cancellation_manager=cancellation_manager))\n\u001b[0m\u001b[1;32m   1693\u001b[0m     forward_backward = self._select_forward_and_backward_functions(\n\u001b[1;32m   1694\u001b[0m         \u001b[0margs\u001b[0m\u001b[0;34m,\u001b[0m\u001b[0;34m\u001b[0m\u001b[0;34m\u001b[0m\u001b[0m\n",
      "\u001b[0;32m~/anaconda3/envs/chollet/lib/python3.6/site-packages/tensorflow_core/python/eager/function.py\u001b[0m in \u001b[0;36mcall\u001b[0;34m(self, ctx, args, cancellation_manager)\u001b[0m\n\u001b[1;32m    543\u001b[0m               \u001b[0minputs\u001b[0m\u001b[0;34m=\u001b[0m\u001b[0margs\u001b[0m\u001b[0;34m,\u001b[0m\u001b[0;34m\u001b[0m\u001b[0;34m\u001b[0m\u001b[0m\n\u001b[1;32m    544\u001b[0m               \u001b[0mattrs\u001b[0m\u001b[0;34m=\u001b[0m\u001b[0;34m(\u001b[0m\u001b[0;34m\"executor_type\"\u001b[0m\u001b[0;34m,\u001b[0m \u001b[0mexecutor_type\u001b[0m\u001b[0;34m,\u001b[0m \u001b[0;34m\"config_proto\"\u001b[0m\u001b[0;34m,\u001b[0m \u001b[0mconfig\u001b[0m\u001b[0;34m)\u001b[0m\u001b[0;34m,\u001b[0m\u001b[0;34m\u001b[0m\u001b[0;34m\u001b[0m\u001b[0m\n\u001b[0;32m--> 545\u001b[0;31m               ctx=ctx)\n\u001b[0m\u001b[1;32m    546\u001b[0m         \u001b[0;32melse\u001b[0m\u001b[0;34m:\u001b[0m\u001b[0;34m\u001b[0m\u001b[0;34m\u001b[0m\u001b[0m\n\u001b[1;32m    547\u001b[0m           outputs = execute.execute_with_cancellation(\n",
      "\u001b[0;32m~/anaconda3/envs/chollet/lib/python3.6/site-packages/tensorflow_core/python/eager/execute.py\u001b[0m in \u001b[0;36mquick_execute\u001b[0;34m(op_name, num_outputs, inputs, attrs, ctx, name)\u001b[0m\n\u001b[1;32m     59\u001b[0m     tensors = pywrap_tensorflow.TFE_Py_Execute(ctx._handle, device_name,\n\u001b[1;32m     60\u001b[0m                                                \u001b[0mop_name\u001b[0m\u001b[0;34m,\u001b[0m \u001b[0minputs\u001b[0m\u001b[0;34m,\u001b[0m \u001b[0mattrs\u001b[0m\u001b[0;34m,\u001b[0m\u001b[0;34m\u001b[0m\u001b[0;34m\u001b[0m\u001b[0m\n\u001b[0;32m---> 61\u001b[0;31m                                                num_outputs)\n\u001b[0m\u001b[1;32m     62\u001b[0m   \u001b[0;32mexcept\u001b[0m \u001b[0mcore\u001b[0m\u001b[0;34m.\u001b[0m\u001b[0m_NotOkStatusException\u001b[0m \u001b[0;32mas\u001b[0m \u001b[0me\u001b[0m\u001b[0;34m:\u001b[0m\u001b[0;34m\u001b[0m\u001b[0;34m\u001b[0m\u001b[0m\n\u001b[1;32m     63\u001b[0m     \u001b[0;32mif\u001b[0m \u001b[0mname\u001b[0m \u001b[0;32mis\u001b[0m \u001b[0;32mnot\u001b[0m \u001b[0;32mNone\u001b[0m\u001b[0;34m:\u001b[0m\u001b[0;34m\u001b[0m\u001b[0;34m\u001b[0m\u001b[0m\n",
      "\u001b[0;31mKeyboardInterrupt\u001b[0m: "
     ]
    }
   ],
   "source": [
    "for i in range(0,100):\n",
    "    print(\"Review:\",seq2text(x_train[i]))\n",
    "    print(\"Original summary:\",seq2summary(y_train[i]))\n",
    "    print(\"Predicted summary:\",decode_sequence(x_train[i].reshape(1,max_text_len)))\n",
    "    print(\"\\n\")"
   ]
  },
  {
   "cell_type": "code",
   "execution_count": null,
   "metadata": {},
   "outputs": [],
   "source": []
  },
  {
   "cell_type": "code",
   "execution_count": null,
   "metadata": {},
   "outputs": [],
   "source": []
  }
 ],
 "metadata": {
  "kernelspec": {
   "display_name": "Python 3",
   "language": "python",
   "name": "python3"
  },
  "language_info": {
   "codemirror_mode": {
    "name": "ipython",
    "version": 3
   },
   "file_extension": ".py",
   "mimetype": "text/x-python",
   "name": "python",
   "nbconvert_exporter": "python",
   "pygments_lexer": "ipython3",
   "version": "3.6.10"
  }
 },
 "nbformat": 4,
 "nbformat_minor": 4
}
